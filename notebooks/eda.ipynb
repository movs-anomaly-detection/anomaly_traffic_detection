{
 "cells": [
  {
   "cell_type": "code",
   "execution_count": 73,
   "id": "c8fff0d8",
   "metadata": {},
   "outputs": [],
   "source": [
    "import warnings\n",
    "\n",
    "import pandas as pd\n",
    "from pandas.core.common import SettingWithCopyWarning\n",
    "\n",
    "warnings.simplefilter(action=\"ignore\", category=SettingWithCopyWarning)\n",
    "warnings.simplefilter(action='ignore', category=FutureWarning)\n",
    "warnings.filterwarnings(\"ignore\", category=RuntimeWarning) \n",
    "import json\n",
    "\n",
    "from datetime import datetime\n",
    "import numpy as np\n",
    "\n",
    "import seaborn as sns\n",
    "import matplotlib.pyplot as plt\n",
    "import requests, json, maxminddb, tqdm"
   ]
  },
  {
   "cell_type": "markdown",
   "id": "c46ec474",
   "metadata": {},
   "source": [
    "# EDA\n",
    "\n",
    "Здесь посмотрим на данные, которые лежат в выборке без аномалий и те, которые лежат в выборке с аномалиями. Посмотрим на колонки, которые уже распаршены, а именно 'addr', 'handshake', 'packets', 'port', 'proto'. Далее из колонки packets в ходе EDA буду выделять новые колонки.\n",
    "\n",
    "Наша задача сейчас - верхнеуровнево понять, насколько то, что есть, будет полезно в ходе машинного обучения.\n",
    "1. Как много пропусков\n",
    "2. Нет ли статичных колонок\n",
    "\n",
    "Лишнее удалим."
   ]
  },
  {
   "cell_type": "code",
   "execution_count": 53,
   "id": "fd092b3c",
   "metadata": {},
   "outputs": [
    {
     "name": "stderr",
     "output_type": "stream",
     "text": [
      "100%|██████████████████████████████████████████████████████████████████████████████████| 60/60 [09:59<00:00, 10.00s/it]\n"
     ]
    }
   ],
   "source": [
    "df_train = pd.DataFrame(columns = ['addr', 'packets', 'port', 'proto', 'handshake'])\n",
    "\n",
    "response = requests.get('https://cloud-api.yandex.net/v1/disk/public/resources', \n",
    "                            {'public_key':'https://disk.yandex.ru/d/SRpp1XyYiXiZlg', 'limit':'100'})\n",
    "for item in tqdm.tqdm(response.json()['_embedded']['items']):\n",
    "    if item['name'].startswith('sessions_of_https'):\n",
    "        json_file = requests.get(item['file'])\n",
    "        json_content = json.loads(json_file.content)\n",
    "        df_train=pd.concat([df_train, pd.DataFrame(json_content)], ignore_index=True)"
   ]
  },
  {
   "cell_type": "code",
   "execution_count": 54,
   "id": "ea286c3d",
   "metadata": {},
   "outputs": [
    {
     "data": {
      "text/html": [
       "<div>\n",
       "<style scoped>\n",
       "    .dataframe tbody tr th:only-of-type {\n",
       "        vertical-align: middle;\n",
       "    }\n",
       "\n",
       "    .dataframe tbody tr th {\n",
       "        vertical-align: top;\n",
       "    }\n",
       "\n",
       "    .dataframe thead th {\n",
       "        text-align: right;\n",
       "    }\n",
       "</style>\n",
       "<table border=\"1\" class=\"dataframe\">\n",
       "  <thead>\n",
       "    <tr style=\"text-align: right;\">\n",
       "      <th></th>\n",
       "      <th>addr</th>\n",
       "      <th>packets</th>\n",
       "      <th>port</th>\n",
       "      <th>proto</th>\n",
       "      <th>handshake</th>\n",
       "    </tr>\n",
       "  </thead>\n",
       "  <tbody>\n",
       "    <tr>\n",
       "      <th>0</th>\n",
       "      <td>140.82.121.6</td>\n",
       "      <td>[{'timestamp': 1698434896.269325}, {'timestamp...</td>\n",
       "      <td>443</td>\n",
       "      <td>tcp</td>\n",
       "      <td>[{'Extension: key_share (len=36)': {'Key Share...</td>\n",
       "    </tr>\n",
       "    <tr>\n",
       "      <th>1</th>\n",
       "      <td>172.64.41.4</td>\n",
       "      <td>[{'timestamp': 1698434900.01603}, {'timestamp'...</td>\n",
       "      <td>443</td>\n",
       "      <td>tcp</td>\n",
       "      <td>[{'Extension: key_share (len=36)': {'Key Share...</td>\n",
       "    </tr>\n",
       "    <tr>\n",
       "      <th>2</th>\n",
       "      <td>34.160.144.191</td>\n",
       "      <td>[{'timestamp': 1698434900.921825}, {'timestamp...</td>\n",
       "      <td>443</td>\n",
       "      <td>tcp</td>\n",
       "      <td>[{'Extension: application_layer_protocol_negot...</td>\n",
       "    </tr>\n",
       "    <tr>\n",
       "      <th>3</th>\n",
       "      <td>209.85.233.104</td>\n",
       "      <td>[{'timestamp': 1698434901.770399}, {'timestamp...</td>\n",
       "      <td>443</td>\n",
       "      <td>tcp</td>\n",
       "      <td>[{'Extension: key_share (len=36)': {'Key Share...</td>\n",
       "    </tr>\n",
       "    <tr>\n",
       "      <th>4</th>\n",
       "      <td>209.85.233.94</td>\n",
       "      <td>[{'timestamp': 1698434902.141365}, {'timestamp...</td>\n",
       "      <td>443</td>\n",
       "      <td>tcp</td>\n",
       "      <td>[{'Extension: key_share (len=36)': {'Key Share...</td>\n",
       "    </tr>\n",
       "  </tbody>\n",
       "</table>\n",
       "</div>"
      ],
      "text/plain": [
       "             addr                                            packets port  \\\n",
       "0    140.82.121.6  [{'timestamp': 1698434896.269325}, {'timestamp...  443   \n",
       "1     172.64.41.4  [{'timestamp': 1698434900.01603}, {'timestamp'...  443   \n",
       "2  34.160.144.191  [{'timestamp': 1698434900.921825}, {'timestamp...  443   \n",
       "3  209.85.233.104  [{'timestamp': 1698434901.770399}, {'timestamp...  443   \n",
       "4   209.85.233.94  [{'timestamp': 1698434902.141365}, {'timestamp...  443   \n",
       "\n",
       "  proto                                          handshake  \n",
       "0   tcp  [{'Extension: key_share (len=36)': {'Key Share...  \n",
       "1   tcp  [{'Extension: key_share (len=36)': {'Key Share...  \n",
       "2   tcp  [{'Extension: application_layer_protocol_negot...  \n",
       "3   tcp  [{'Extension: key_share (len=36)': {'Key Share...  \n",
       "4   tcp  [{'Extension: key_share (len=36)': {'Key Share...  "
      ]
     },
     "execution_count": 54,
     "metadata": {},
     "output_type": "execute_result"
    }
   ],
   "source": [
    "df_train.head()"
   ]
  },
  {
   "cell_type": "markdown",
   "id": "fbfe2448",
   "metadata": {},
   "source": [
    "Смотрим на процент уникальных данных в колонках"
   ]
  },
  {
   "cell_type": "code",
   "execution_count": 55,
   "id": "e7c3fe4e",
   "metadata": {},
   "outputs": [
    {
     "data": {
      "text/plain": [
       "35.65"
      ]
     },
     "execution_count": 55,
     "metadata": {},
     "output_type": "execute_result"
    }
   ],
   "source": [
    "round(df_train.addr.nunique() / df_train.shape[0] * 100, 2)"
   ]
  },
  {
   "cell_type": "code",
   "execution_count": 56,
   "id": "dad8a7fd",
   "metadata": {},
   "outputs": [
    {
     "data": {
      "text/plain": [
       "0.01"
      ]
     },
     "execution_count": 56,
     "metadata": {},
     "output_type": "execute_result"
    }
   ],
   "source": [
    "round(df_train.port.nunique() / df_train.shape[0] * 100, 2)"
   ]
  },
  {
   "cell_type": "code",
   "execution_count": 57,
   "id": "10339feb",
   "metadata": {},
   "outputs": [
    {
     "data": {
      "text/plain": [
       "0.01"
      ]
     },
     "execution_count": 57,
     "metadata": {},
     "output_type": "execute_result"
    }
   ],
   "source": [
    "round(df_train.proto.nunique() / df_train.shape[0] * 100, 2)"
   ]
  },
  {
   "cell_type": "code",
   "execution_count": 58,
   "id": "6b504629",
   "metadata": {},
   "outputs": [
    {
     "data": {
      "text/plain": [
       "74.23"
      ]
     },
     "execution_count": 58,
     "metadata": {},
     "output_type": "execute_result"
    }
   ],
   "source": [
    "round(len(df_train[df_train['handshake'].fillna(0) !=0]) / len(df_train) * 100, 2)"
   ]
  },
  {
   "cell_type": "code",
   "execution_count": 59,
   "id": "fcb91973",
   "metadata": {},
   "outputs": [
    {
     "data": {
      "text/plain": [
       "1"
      ]
     },
     "execution_count": 59,
     "metadata": {},
     "output_type": "execute_result"
    }
   ],
   "source": [
    "df_train.port.nunique()"
   ]
  },
  {
   "cell_type": "code",
   "execution_count": 60,
   "id": "562a02d0",
   "metadata": {},
   "outputs": [
    {
     "data": {
      "text/plain": [
       "1"
      ]
     },
     "execution_count": 60,
     "metadata": {},
     "output_type": "execute_result"
    }
   ],
   "source": [
    "df_train.proto.nunique()\n",
    "# кажется, колонку proto вообще нужно дропнуть\n",
    "# но посмотрим, что лежит в файлах с аномалиями"
   ]
  },
  {
   "cell_type": "markdown",
   "id": "85cf97d2",
   "metadata": {},
   "source": [
    "Планы:\n",
    "1. Продолжу смотреть что в handshake\n",
    "\n",
    "    1.1. Сделаю бинарную колонку с наличием и отсутствием рукопожатия\n",
    "    \n",
    "    1.2. Расшаршу ее глубже, посмотрю что с сертификатами\n",
    "\n",
    "2. data - превратим в булево поле: есть нераскодированные данные или нет в этом соединении\n",
    "\n",
    "3. 443, 4433, 80, 8080 это стандартные порты. 35600 - это нестандартный порт. Мы должны сохранить эту колонку\n",
    "\n",
    "4. Идея представить addr как вектор. Четыре разные колонки с цифрами\n",
    "\n",
    "    4.1. Вычислить по айпи месторасположение\n",
    "5. Duration между timestamp'ами - считать среднее, медиану между ними\n",
    "6. Дропнуть дубликаты\n",
    "7. Сертификаты - самоподписной, их количество "
   ]
  },
  {
   "cell_type": "code",
   "execution_count": 61,
   "id": "e4b1679a",
   "metadata": {},
   "outputs": [],
   "source": [
    "df_train['num_timestamps'] = pd.Series()\n",
    "for i in range(0, len(df_train['packets'])):\n",
    "    df_train['num_timestamps'][i] = str(df_train['packets'][i]).count('timestamp')"
   ]
  },
  {
   "cell_type": "code",
   "execution_count": 62,
   "id": "f38a2587",
   "metadata": {},
   "outputs": [],
   "source": [
    "df_train['timestamps'] = pd.Series()\n",
    "for i in range(0, len(df_train)):\n",
    "    if df_train['num_timestamps'][i] != 0 and df_train['num_timestamps'][i] != 1:\n",
    "        timestamps_list = []\n",
    "        for j in range(0, len(df_train['packets'][i])):\n",
    "            timestamps_list.append(df_train['packets'][i][j]['timestamp'])\n",
    "        df_train['timestamps'][i] = str(timestamps_list)"
   ]
  },
  {
   "cell_type": "code",
   "execution_count": 63,
   "id": "d35729bc",
   "metadata": {},
   "outputs": [
    {
     "data": {
      "text/plain": [
       "17841"
      ]
     },
     "execution_count": 63,
     "metadata": {},
     "output_type": "execute_result"
    }
   ],
   "source": [
    "len(df_train)"
   ]
  },
  {
   "cell_type": "code",
   "execution_count": 64,
   "id": "99f53821",
   "metadata": {},
   "outputs": [
    {
     "name": "stdout",
     "output_type": "stream",
     "text": [
      "Разное кол-во таймстемпов на строке 61\n",
      "Разное кол-во таймстемпов на строке 63\n",
      "Разное кол-во таймстемпов на строке 87\n",
      "Разное кол-во таймстемпов на строке 231\n",
      "Разное кол-во таймстемпов на строке 344\n",
      "Разное кол-во таймстемпов на строке 453\n",
      "Разное кол-во таймстемпов на строке 562\n",
      "Разное кол-во таймстемпов на строке 594\n",
      "Разное кол-во таймстемпов на строке 680\n",
      "Разное кол-во таймстемпов на строке 1015\n",
      "Разное кол-во таймстемпов на строке 1113\n",
      "Разное кол-во таймстемпов на строке 2106\n",
      "Разное кол-во таймстемпов на строке 2112\n",
      "Разное кол-во таймстемпов на строке 2215\n",
      "Разное кол-во таймстемпов на строке 2246\n",
      "Разное кол-во таймстемпов на строке 2253\n",
      "Разное кол-во таймстемпов на строке 2360\n",
      "Разное кол-во таймстемпов на строке 2404\n",
      "Разное кол-во таймстемпов на строке 2427\n",
      "Разное кол-во таймстемпов на строке 2436\n",
      "Разное кол-во таймстемпов на строке 2453\n",
      "Разное кол-во таймстемпов на строке 2478\n",
      "Разное кол-во таймстемпов на строке 2503\n",
      "Разное кол-во таймстемпов на строке 2605\n",
      "Разное кол-во таймстемпов на строке 2668\n",
      "Разное кол-во таймстемпов на строке 2781\n",
      "Разное кол-во таймстемпов на строке 2785\n",
      "Разное кол-во таймстемпов на строке 3119\n",
      "Разное кол-во таймстемпов на строке 3184\n",
      "Разное кол-во таймстемпов на строке 3354\n",
      "Разное кол-во таймстемпов на строке 3362\n",
      "Разное кол-во таймстемпов на строке 3421\n",
      "Разное кол-во таймстемпов на строке 3423\n",
      "Разное кол-во таймстемпов на строке 3481\n",
      "Разное кол-во таймстемпов на строке 3669\n",
      "Разное кол-во таймстемпов на строке 3700\n",
      "Разное кол-во таймстемпов на строке 3845\n",
      "Разное кол-во таймстемпов на строке 3860\n",
      "Разное кол-во таймстемпов на строке 4053\n",
      "Разное кол-во таймстемпов на строке 4193\n",
      "Разное кол-во таймстемпов на строке 4209\n",
      "Разное кол-во таймстемпов на строке 4460\n",
      "Разное кол-во таймстемпов на строке 4517\n",
      "Разное кол-во таймстемпов на строке 4999\n",
      "Разное кол-во таймстемпов на строке 5183\n",
      "Разное кол-во таймстемпов на строке 5206\n",
      "Разное кол-во таймстемпов на строке 5387\n",
      "Разное кол-во таймстемпов на строке 5478\n",
      "Разное кол-во таймстемпов на строке 5518\n",
      "Разное кол-во таймстемпов на строке 5559\n",
      "Разное кол-во таймстемпов на строке 5616\n",
      "Разное кол-во таймстемпов на строке 5664\n",
      "Разное кол-во таймстемпов на строке 5880\n",
      "Разное кол-во таймстемпов на строке 5987\n",
      "Разное кол-во таймстемпов на строке 6040\n",
      "Разное кол-во таймстемпов на строке 6084\n",
      "Разное кол-во таймстемпов на строке 6154\n",
      "Разное кол-во таймстемпов на строке 6293\n",
      "Разное кол-во таймстемпов на строке 6356\n",
      "Разное кол-во таймстемпов на строке 6504\n",
      "Разное кол-во таймстемпов на строке 6721\n",
      "Разное кол-во таймстемпов на строке 6802\n",
      "Разное кол-во таймстемпов на строке 6888\n",
      "Разное кол-во таймстемпов на строке 7018\n",
      "Разное кол-во таймстемпов на строке 7022\n",
      "Разное кол-во таймстемпов на строке 7033\n",
      "Разное кол-во таймстемпов на строке 7121\n",
      "Разное кол-во таймстемпов на строке 7132\n",
      "Разное кол-во таймстемпов на строке 7151\n",
      "Разное кол-во таймстемпов на строке 7224\n",
      "Разное кол-во таймстемпов на строке 7232\n",
      "Разное кол-во таймстемпов на строке 7264\n",
      "Разное кол-во таймстемпов на строке 7322\n",
      "Разное кол-во таймстемпов на строке 7389\n",
      "Разное кол-во таймстемпов на строке 7824\n",
      "Разное кол-во таймстемпов на строке 7838\n",
      "Разное кол-во таймстемпов на строке 7875\n",
      "Разное кол-во таймстемпов на строке 7886\n",
      "Разное кол-во таймстемпов на строке 7946\n",
      "Разное кол-во таймстемпов на строке 8183\n",
      "Разное кол-во таймстемпов на строке 8189\n",
      "Разное кол-во таймстемпов на строке 8198\n",
      "Разное кол-во таймстемпов на строке 8211\n",
      "Разное кол-во таймстемпов на строке 8242\n",
      "Разное кол-во таймстемпов на строке 8289\n",
      "Разное кол-во таймстемпов на строке 9344\n",
      "Разное кол-во таймстемпов на строке 9367\n",
      "Разное кол-во таймстемпов на строке 9475\n",
      "Разное кол-во таймстемпов на строке 9494\n",
      "Разное кол-во таймстемпов на строке 9985\n",
      "Разное кол-во таймстемпов на строке 10038\n",
      "Разное кол-во таймстемпов на строке 10081\n",
      "Разное кол-во таймстемпов на строке 10233\n",
      "Разное кол-во таймстемпов на строке 10265\n",
      "Разное кол-во таймстемпов на строке 10270\n",
      "Разное кол-во таймстемпов на строке 10406\n",
      "Разное кол-во таймстемпов на строке 10440\n",
      "Разное кол-во таймстемпов на строке 10452\n",
      "Разное кол-во таймстемпов на строке 10508\n",
      "Разное кол-во таймстемпов на строке 10548\n",
      "Разное кол-во таймстемпов на строке 10551\n",
      "Разное кол-во таймстемпов на строке 10579\n",
      "Разное кол-во таймстемпов на строке 10700\n",
      "Разное кол-во таймстемпов на строке 10744\n",
      "Разное кол-во таймстемпов на строке 10774\n",
      "Разное кол-во таймстемпов на строке 10794\n",
      "Разное кол-во таймстемпов на строке 10942\n",
      "Разное кол-во таймстемпов на строке 11019\n",
      "Разное кол-во таймстемпов на строке 11034\n",
      "Разное кол-во таймстемпов на строке 11062\n",
      "Разное кол-во таймстемпов на строке 11113\n",
      "Разное кол-во таймстемпов на строке 11143\n",
      "Разное кол-во таймстемпов на строке 11182\n",
      "Разное кол-во таймстемпов на строке 11220\n",
      "Разное кол-во таймстемпов на строке 11221\n",
      "Разное кол-во таймстемпов на строке 11241\n",
      "Разное кол-во таймстемпов на строке 11364\n",
      "Разное кол-во таймстемпов на строке 11645\n",
      "Разное кол-во таймстемпов на строке 11673\n",
      "Разное кол-во таймстемпов на строке 11723\n",
      "Разное кол-во таймстемпов на строке 11786\n",
      "Разное кол-во таймстемпов на строке 11788\n",
      "Разное кол-во таймстемпов на строке 11790\n",
      "Разное кол-во таймстемпов на строке 11938\n",
      "Разное кол-во таймстемпов на строке 14237\n",
      "Разное кол-во таймстемпов на строке 14559\n",
      "Разное кол-во таймстемпов на строке 14655\n",
      "Разное кол-во таймстемпов на строке 14710\n",
      "Разное кол-во таймстемпов на строке 14746\n",
      "Разное кол-во таймстемпов на строке 14769\n",
      "Разное кол-во таймстемпов на строке 14786\n",
      "Разное кол-во таймстемпов на строке 14824\n",
      "Разное кол-во таймстемпов на строке 14942\n",
      "Разное кол-во таймстемпов на строке 14971\n",
      "Разное кол-во таймстемпов на строке 14977\n",
      "Разное кол-во таймстемпов на строке 14985\n",
      "Разное кол-во таймстемпов на строке 15012\n",
      "Разное кол-во таймстемпов на строке 15046\n",
      "Разное кол-во таймстемпов на строке 15074\n",
      "Разное кол-во таймстемпов на строке 15217\n",
      "Разное кол-во таймстемпов на строке 16151\n",
      "Разное кол-во таймстемпов на строке 16161\n",
      "Разное кол-во таймстемпов на строке 16231\n",
      "Разное кол-во таймстемпов на строке 16371\n",
      "Разное кол-во таймстемпов на строке 16491\n",
      "Разное кол-во таймстемпов на строке 16502\n",
      "Разное кол-во таймстемпов на строке 16630\n",
      "Разное кол-во таймстемпов на строке 16747\n",
      "Разное кол-во таймстемпов на строке 16768\n",
      "Разное кол-во таймстемпов на строке 16779\n",
      "Разное кол-во таймстемпов на строке 16801\n",
      "Разное кол-во таймстемпов на строке 16829\n",
      "Разное кол-во таймстемпов на строке 16867\n",
      "Разное кол-во таймстемпов на строке 16962\n",
      "Разное кол-во таймстемпов на строке 16994\n",
      "Разное кол-во таймстемпов на строке 17140\n",
      "Разное кол-во таймстемпов на строке 17402\n",
      "Разное кол-во таймстемпов на строке 17505\n",
      "Разное кол-во таймстемпов на строке 17520\n",
      "Разное кол-во таймстемпов на строке 17543\n",
      "Разное кол-во таймстемпов на строке 17544\n",
      "Разное кол-во таймстемпов на строке 17580\n",
      "Разное кол-во таймстемпов на строке 17739\n",
      "Разное кол-во таймстемпов на строке 17824\n"
     ]
    }
   ],
   "source": [
    "df_train['mean_timestamps'] = pd.Series() \n",
    "df_train['median_timestamps'] = pd.Series() \n",
    "for i in range(0, len(df_train)): \n",
    "    if df_train['num_timestamps'][i] != 0 and df_train['num_timestamps'][i] != 1: \n",
    "        temp = [] \n",
    "        str_timestamps = df_train['timestamps'][i] \n",
    "        str_timestamps = str_timestamps[1:-1] \n",
    "        list_of_timestamps = list(str_timestamps.split(\",\")) \n",
    "        if len(list_of_timestamps) != df_train['num_timestamps'][i]: print(f'Разное кол-во таймстемпов на строке {i}') \n",
    "        for j in range(0, len(list_of_timestamps)-1): \n",
    "            if j == int(df_train['num_timestamps'][i])-1: continue \n",
    "            raznica = float(list_of_timestamps[j+1]) -  float(list_of_timestamps[j]) \n",
    "            temp.append(raznica) \n",
    "        df_train['mean_timestamps'][i] = np.mean(temp) \n",
    "        df_train['median_timestamps'][i] = np.median(temp)"
   ]
  },
  {
   "cell_type": "markdown",
   "id": "040483a1",
   "metadata": {},
   "source": [
    "### Посмотрим на данные с аномалиями"
   ]
  },
  {
   "cell_type": "code",
   "execution_count": 65,
   "id": "f01f54d8",
   "metadata": {},
   "outputs": [
    {
     "name": "stderr",
     "output_type": "stream",
     "text": [
      "100%|██████████████████████████████████████████████████████████████████████████████████| 60/60 [00:08<00:00,  6.72it/s]\n"
     ]
    }
   ],
   "source": [
    "df_train_anomaly = pd.DataFrame(columns = ['addr', 'packets', 'port', 'proto', 'handshake'])\n",
    "\n",
    "response = requests.get('https://cloud-api.yandex.net/v1/disk/public/resources', \n",
    "                            {'public_key':'https://disk.yandex.ru/d/SRpp1XyYiXiZlg', 'limit':'100'})\n",
    "for item in tqdm.tqdm(response.json()['_embedded']['items']):\n",
    "    if item['name'].startswith('sessions_of_2023'):\n",
    "        json_file = requests.get(item['file'])\n",
    "        json_content = json.loads(json_file.content)\n",
    "        df_train_anomaly=pd.concat([df_train_anomaly, pd.DataFrame(json_content)], ignore_index=True)"
   ]
  },
  {
   "cell_type": "code",
   "execution_count": 66,
   "id": "12236198",
   "metadata": {},
   "outputs": [
    {
     "data": {
      "text/html": [
       "<div>\n",
       "<style scoped>\n",
       "    .dataframe tbody tr th:only-of-type {\n",
       "        vertical-align: middle;\n",
       "    }\n",
       "\n",
       "    .dataframe tbody tr th {\n",
       "        vertical-align: top;\n",
       "    }\n",
       "\n",
       "    .dataframe thead th {\n",
       "        text-align: right;\n",
       "    }\n",
       "</style>\n",
       "<table border=\"1\" class=\"dataframe\">\n",
       "  <thead>\n",
       "    <tr style=\"text-align: right;\">\n",
       "      <th></th>\n",
       "      <th>addr</th>\n",
       "      <th>packets</th>\n",
       "      <th>port</th>\n",
       "      <th>proto</th>\n",
       "      <th>handshake</th>\n",
       "    </tr>\n",
       "  </thead>\n",
       "  <tbody>\n",
       "    <tr>\n",
       "      <th>0</th>\n",
       "      <td>192.168.1.1</td>\n",
       "      <td>[{'timestamp': 1672959060.238688}, {'timestamp...</td>\n",
       "      <td>53</td>\n",
       "      <td>udp</td>\n",
       "      <td>NaN</td>\n",
       "    </tr>\n",
       "    <tr>\n",
       "      <th>1</th>\n",
       "      <td>45.56.99.101</td>\n",
       "      <td>[{'timestamp': 1672959060.317084}, {'timestamp...</td>\n",
       "      <td>80</td>\n",
       "      <td>tcp</td>\n",
       "      <td>NaN</td>\n",
       "    </tr>\n",
       "    <tr>\n",
       "      <th>2</th>\n",
       "      <td>64.185.227.156</td>\n",
       "      <td>[{'timestamp': 1672959086.063915}, {'timestamp...</td>\n",
       "      <td>443</td>\n",
       "      <td>tcp</td>\n",
       "      <td>[{'Extension: ec_point_formats (len=2)': {'ext...</td>\n",
       "    </tr>\n",
       "    <tr>\n",
       "      <th>3</th>\n",
       "      <td>204.11.58.28</td>\n",
       "      <td>[{'timestamp': 1672959089.67526}, {'timestamp'...</td>\n",
       "      <td>587</td>\n",
       "      <td>tcp</td>\n",
       "      <td>NaN</td>\n",
       "    </tr>\n",
       "    <tr>\n",
       "      <th>4</th>\n",
       "      <td>40.126.29.10</td>\n",
       "      <td>[{'timestamp': 1672959334.359111}, {'timestamp...</td>\n",
       "      <td>443</td>\n",
       "      <td>tcp</td>\n",
       "      <td>[[{'Extension: extended_master_secret (len=0)'...</td>\n",
       "    </tr>\n",
       "  </tbody>\n",
       "</table>\n",
       "</div>"
      ],
      "text/plain": [
       "             addr                                            packets port  \\\n",
       "0     192.168.1.1  [{'timestamp': 1672959060.238688}, {'timestamp...   53   \n",
       "1    45.56.99.101  [{'timestamp': 1672959060.317084}, {'timestamp...   80   \n",
       "2  64.185.227.156  [{'timestamp': 1672959086.063915}, {'timestamp...  443   \n",
       "3    204.11.58.28  [{'timestamp': 1672959089.67526}, {'timestamp'...  587   \n",
       "4    40.126.29.10  [{'timestamp': 1672959334.359111}, {'timestamp...  443   \n",
       "\n",
       "  proto                                          handshake  \n",
       "0   udp                                                NaN  \n",
       "1   tcp                                                NaN  \n",
       "2   tcp  [{'Extension: ec_point_formats (len=2)': {'ext...  \n",
       "3   tcp                                                NaN  \n",
       "4   tcp  [[{'Extension: extended_master_secret (len=0)'...  "
      ]
     },
     "execution_count": 66,
     "metadata": {},
     "output_type": "execute_result"
    }
   ],
   "source": [
    "df_train_anomaly.head()"
   ]
  },
  {
   "cell_type": "code",
   "execution_count": 67,
   "id": "2aa3a677",
   "metadata": {},
   "outputs": [
    {
     "data": {
      "text/plain": [
       "362"
      ]
     },
     "execution_count": 67,
     "metadata": {},
     "output_type": "execute_result"
    }
   ],
   "source": [
    "df_train_anomaly.addr.nunique()"
   ]
  },
  {
   "cell_type": "code",
   "execution_count": 68,
   "id": "c41514ec",
   "metadata": {},
   "outputs": [
    {
     "data": {
      "text/plain": [
       "814"
      ]
     },
     "execution_count": 68,
     "metadata": {},
     "output_type": "execute_result"
    }
   ],
   "source": [
    "df_train_anomaly.port.nunique()"
   ]
  },
  {
   "cell_type": "code",
   "execution_count": 69,
   "id": "babf7b35",
   "metadata": {},
   "outputs": [
    {
     "data": {
      "text/plain": [
       "3"
      ]
     },
     "execution_count": 69,
     "metadata": {},
     "output_type": "execute_result"
    }
   ],
   "source": [
    "df_train_anomaly.proto.nunique()"
   ]
  },
  {
   "cell_type": "code",
   "execution_count": 70,
   "id": "9baf813d",
   "metadata": {},
   "outputs": [],
   "source": [
    "df_train_anomaly['num_timestamps'] = pd.Series()\n",
    "for i in range(0, len(df_train_anomaly['packets'])):\n",
    "    df_train_anomaly['num_timestamps'][i] = str(df_train_anomaly['packets'][i]).count('timestamp')"
   ]
  },
  {
   "cell_type": "code",
   "execution_count": 71,
   "id": "8b6ec69e",
   "metadata": {},
   "outputs": [],
   "source": [
    "df_train_anomaly['timestamps'] = pd.Series()\n",
    "for i in range(0, len(df_train_anomaly)):\n",
    "    if df_train_anomaly['num_timestamps'][i] != 0 and df_train_anomaly['num_timestamps'][i] != 1:\n",
    "        timestamps_list = []\n",
    "        for j in range(0, len(df_train_anomaly['packets'][i])):\n",
    "            timestamps_list.append(df_train_anomaly['packets'][i][j]['timestamp'])\n",
    "        df_train_anomaly['timestamps'][i] = str(timestamps_list)"
   ]
  },
  {
   "cell_type": "code",
   "execution_count": 74,
   "id": "c482836d",
   "metadata": {},
   "outputs": [],
   "source": [
    "df_train_anomaly['mean_timestamps'] = pd.Series() \n",
    "df_train_anomaly['median_timestamps'] = pd.Series() \n",
    "for i in range(0, len(df_train_anomaly)): \n",
    "    if df_train_anomaly['num_timestamps'][i] != 0 and df_train_anomaly['num_timestamps'][i] != 1: \n",
    "        temp = [] \n",
    "        str_timestamps = df_train_anomaly['timestamps'][i] \n",
    "        str_timestamps = str_timestamps[1:-1] \n",
    "        list_of_timestamps = list(str_timestamps.split(\",\")) \n",
    "        if len(list_of_timestamps) != df_train_anomaly['num_timestamps'][i]: print(f'Разное кол-во таймстемпов на строке {i}') \n",
    "        for j in range(0, len(list_of_timestamps)-1): \n",
    "            if j == int(df_train['num_timestamps'][i])-1: continue \n",
    "            raznica = float(list_of_timestamps[j+1]) -  float(list_of_timestamps[j]) \n",
    "            temp.append(raznica) \n",
    "        df_train_anomaly['mean_timestamps'][i] = np.mean(temp) \n",
    "        df_train_anomaly['median_timestamps'][i] = np.median(temp)"
   ]
  },
  {
   "cell_type": "code",
   "execution_count": 131,
   "id": "1d320907",
   "metadata": {},
   "outputs": [],
   "source": [
    "df_train['anomaly'] = 0\n",
    "df_train_anomaly['anomaly'] = 1\n",
    "# генерирую колонку ответов"
   ]
  },
  {
   "cell_type": "code",
   "execution_count": 132,
   "id": "e3f2bca0",
   "metadata": {},
   "outputs": [],
   "source": [
    "df = pd.concat([df_train, df_train_anomaly])\n",
    "# генерирую общий датафрейм"
   ]
  },
  {
   "cell_type": "code",
   "execution_count": 133,
   "id": "c9c677d0",
   "metadata": {},
   "outputs": [],
   "source": [
    "df['mean_timestamps'] = df['mean_timestamps'].map(lambda x: pd.to_timedelta(x).microseconds)\n",
    "df['median_timestamps'] = df['median_timestamps'].map(lambda x: pd.to_timedelta(x).microseconds)\n",
    "# для удобства перевожу в инт"
   ]
  },
  {
   "cell_type": "markdown",
   "id": "779042c4",
   "metadata": {},
   "source": [
    "Сравним между собой данные с аномалиями и данные с отсутствием аномалий. Если найдем колонки, не имеющие разницы, они станут кандидатами на удаление. В первую очередь посмотримна сгенерированные нами колонки."
   ]
  },
  {
   "cell_type": "code",
   "execution_count": 140,
   "id": "84952637",
   "metadata": {},
   "outputs": [],
   "source": [
    "df.reset_index(inplace=True)"
   ]
  },
  {
   "cell_type": "code",
   "execution_count": 141,
   "id": "dbb36742",
   "metadata": {},
   "outputs": [
    {
     "data": {
      "image/png": "[encoded data removed]",
      "text/plain": [
       "<Figure size 1600x500 with 1 Axes>"
      ]
     },
     "metadata": {},
     "output_type": "display_data"
    }
   ],
   "source": [
    "fig, axs = plt.subplots(1)\n",
    "fig.set_size_inches(16, 5)\n",
    "\n",
    "sns.boxplot(data=df, x = 'anomaly', y = 'mean_timestamps').set_title(\"Средние дельты между таймстемпами\")\n",
    "\n",
    "plt.xticks(rotation=0)\n",
    "plt.show()"
   ]
  },
  {
   "cell_type": "code",
   "execution_count": 142,
   "id": "1ea0f7d7",
   "metadata": {},
   "outputs": [
    {
     "data": {
      "image/png": "[encoded data removed]",
      "text/plain": [
       "<Figure size 1600x500 with 1 Axes>"
      ]
     },
     "metadata": {},
     "output_type": "display_data"
    }
   ],
   "source": [
    "fig, axs = plt.subplots(1)\n",
    "fig.set_size_inches(16, 5)\n",
    "\n",
    "sns.boxplot(data=df, x = 'anomaly', y = 'median_timestamps').set_title(\"Медианные дельты между таймстемпами\")\n",
    "\n",
    "plt.xticks(rotation=0)\n",
    "plt.show()"
   ]
  },
  {
   "cell_type": "code",
   "execution_count": 143,
   "id": "abe567bf",
   "metadata": {},
   "outputs": [
    {
     "data": {
      "image/png": "[encoded data removed]",
      "text/plain": [
       "<Figure size 1600x500 with 1 Axes>"
      ]
     },
     "metadata": {},
     "output_type": "display_data"
    }
   ],
   "source": [
    "fig, axs = plt.subplots(1)\n",
    "fig.set_size_inches(16, 5)\n",
    "\n",
    "sns.boxplot(data=df, x = 'anomaly', y = 'num_timestamps').set_title(\"Количество таймстемпов\")\n",
    "\n",
    "plt.xticks(rotation=0)\n",
    "plt.show()"
   ]
  },
  {
   "cell_type": "markdown",
   "id": "147a8ab3",
   "metadata": {},
   "source": [
    "Посмотрим, есть ли различия между портами, их количеством в группировке по классам"
   ]
  },
  {
   "cell_type": "code",
   "execution_count": 144,
   "id": "6b439536",
   "metadata": {},
   "outputs": [
    {
     "data": {
      "text/html": [
       "<div>\n",
       "<style scoped>\n",
       "    .dataframe tbody tr th:only-of-type {\n",
       "        vertical-align: middle;\n",
       "    }\n",
       "\n",
       "    .dataframe tbody tr th {\n",
       "        vertical-align: top;\n",
       "    }\n",
       "\n",
       "    .dataframe thead th {\n",
       "        text-align: right;\n",
       "    }\n",
       "</style>\n",
       "<table border=\"1\" class=\"dataframe\">\n",
       "  <thead>\n",
       "    <tr style=\"text-align: right;\">\n",
       "      <th></th>\n",
       "      <th>anomaly</th>\n",
       "      <th>port</th>\n",
       "    </tr>\n",
       "  </thead>\n",
       "  <tbody>\n",
       "    <tr>\n",
       "      <th>0</th>\n",
       "      <td>0</td>\n",
       "      <td>1</td>\n",
       "    </tr>\n",
       "    <tr>\n",
       "      <th>1</th>\n",
       "      <td>1</td>\n",
       "      <td>814</td>\n",
       "    </tr>\n",
       "  </tbody>\n",
       "</table>\n",
       "</div>"
      ],
      "text/plain": [
       "   anomaly  port\n",
       "0        0     1\n",
       "1        1   814"
      ]
     },
     "execution_count": 144,
     "metadata": {},
     "output_type": "execute_result"
    }
   ],
   "source": [
    "df.groupby(['anomaly'], as_index=False).port.nunique()"
   ]
  },
  {
   "cell_type": "markdown",
   "id": "135df50d",
   "metadata": {},
   "source": [
    "Посмотрим, есть ли различия между proto, их количеством в группировке по классам"
   ]
  },
  {
   "cell_type": "code",
   "execution_count": 145,
   "id": "d47feeb0",
   "metadata": {},
   "outputs": [
    {
     "data": {
      "text/html": [
       "<div>\n",
       "<style scoped>\n",
       "    .dataframe tbody tr th:only-of-type {\n",
       "        vertical-align: middle;\n",
       "    }\n",
       "\n",
       "    .dataframe tbody tr th {\n",
       "        vertical-align: top;\n",
       "    }\n",
       "\n",
       "    .dataframe thead th {\n",
       "        text-align: right;\n",
       "    }\n",
       "</style>\n",
       "<table border=\"1\" class=\"dataframe\">\n",
       "  <thead>\n",
       "    <tr style=\"text-align: right;\">\n",
       "      <th></th>\n",
       "      <th>anomaly</th>\n",
       "      <th>proto</th>\n",
       "    </tr>\n",
       "  </thead>\n",
       "  <tbody>\n",
       "    <tr>\n",
       "      <th>0</th>\n",
       "      <td>0</td>\n",
       "      <td>1</td>\n",
       "    </tr>\n",
       "    <tr>\n",
       "      <th>1</th>\n",
       "      <td>1</td>\n",
       "      <td>3</td>\n",
       "    </tr>\n",
       "  </tbody>\n",
       "</table>\n",
       "</div>"
      ],
      "text/plain": [
       "   anomaly  proto\n",
       "0        0      1\n",
       "1        1      3"
      ]
     },
     "execution_count": 145,
     "metadata": {},
     "output_type": "execute_result"
    }
   ],
   "source": [
    "df.groupby(['anomaly'], as_index=False).proto.nunique()"
   ]
  },
  {
   "cell_type": "markdown",
   "id": "4f5a45f0",
   "metadata": {},
   "source": [
    "Пока кажется, что каждую из фичей 'port', 'proto', 'num_timestamps', 'mean_timestamps', 'median_timestamps' нужно оставить. Попробуем сгененрировать фичи из колонки 'addr': найдем страну."
   ]
  },
  {
   "cell_type": "code",
   "execution_count": 160,
   "id": "f49531b3",
   "metadata": {},
   "outputs": [
    {
     "name": "stderr",
     "output_type": "stream",
     "text": [
      "100%|██████████████████████████████████████████████████████████████████████████████████| 60/60 [11:40<00:00, 11.67s/it]\n"
     ]
    }
   ],
   "source": [
    "addr_to_country = dict()\n",
    "\n",
    "with maxminddb.Reader('./mmdb/GeoLite2-Country.mmdb') as reader:\n",
    "    response = requests.get('https://cloud-api.yandex.net/v1/disk/public/resources', {'public_key':'https://disk.yandex.ru/d/SRpp1XyYiXiZlg', 'limit':'100'})\n",
    "    for item in tqdm.tqdm(response.json()['_embedded']['items']):\n",
    "        if item['name'].startswith('nodes_of'):\n",
    "            continue\n",
    "        json_file = requests.get(item['file'])\n",
    "        json_content = json.loads(json_file.content)\n",
    "        for sess in json_content:\n",
    "            if sess['addr'] in addr_to_country: continue\n",
    "            res = reader.get(sess['addr'])\n",
    "            if res is None: continue\n",
    "            addr_to_country[sess['addr']] = res['registered_country']['names']['en']"
   ]
  },
  {
   "cell_type": "code",
   "execution_count": 172,
   "id": "dba140e6",
   "metadata": {},
   "outputs": [],
   "source": [
    "cntr = []\n",
    "for i in df['addr']:\n",
    "    if i in list(addr_to_country.keys()):\n",
    "        cntr.append(addr_to_country[i])\n",
    "    else:\n",
    "        cntr.append('unknown_country')\n",
    "df['country'] = cntr"
   ]
  },
  {
   "cell_type": "code",
   "execution_count": 176,
   "id": "73998c71",
   "metadata": {},
   "outputs": [
    {
     "data": {
      "text/plain": [
       "0.046372867162148015"
      ]
     },
     "execution_count": 176,
     "metadata": {},
     "output_type": "execute_result"
    }
   ],
   "source": [
    "len(df[df['country'] == 'unknown_country']) / len(df)\n",
    "# всего 5 процентов стран потеряно"
   ]
  },
  {
   "cell_type": "code",
   "execution_count": 177,
   "id": "09f4174a",
   "metadata": {},
   "outputs": [
    {
     "data": {
      "text/html": [
       "<div>\n",
       "<style scoped>\n",
       "    .dataframe tbody tr th:only-of-type {\n",
       "        vertical-align: middle;\n",
       "    }\n",
       "\n",
       "    .dataframe tbody tr th {\n",
       "        vertical-align: top;\n",
       "    }\n",
       "\n",
       "    .dataframe thead th {\n",
       "        text-align: right;\n",
       "    }\n",
       "</style>\n",
       "<table border=\"1\" class=\"dataframe\">\n",
       "  <thead>\n",
       "    <tr style=\"text-align: right;\">\n",
       "      <th></th>\n",
       "      <th>anomaly</th>\n",
       "      <th>country</th>\n",
       "    </tr>\n",
       "  </thead>\n",
       "  <tbody>\n",
       "    <tr>\n",
       "      <th>0</th>\n",
       "      <td>0</td>\n",
       "      <td>38</td>\n",
       "    </tr>\n",
       "    <tr>\n",
       "      <th>1</th>\n",
       "      <td>1</td>\n",
       "      <td>28</td>\n",
       "    </tr>\n",
       "  </tbody>\n",
       "</table>\n",
       "</div>"
      ],
      "text/plain": [
       "   anomaly  country\n",
       "0        0       38\n",
       "1        1       28"
      ]
     },
     "execution_count": 177,
     "metadata": {},
     "output_type": "execute_result"
    }
   ],
   "source": [
    "df.groupby(['anomaly'], as_index=False).country.nunique()\n",
    "# очевидны отличия между классами"
   ]
  },
  {
   "cell_type": "code",
   "execution_count": 178,
   "id": "87fbcfcc",
   "metadata": {},
   "outputs": [
    {
     "data": {
      "text/plain": [
       "(19106, 7)"
      ]
     },
     "execution_count": 178,
     "metadata": {},
     "output_type": "execute_result"
    }
   ],
   "source": [
    "df[['addr', 'port', 'proto', 'num_timestamps', 'mean_timestamps', 'median_timestamps', 'anomaly']].shape"
   ]
  },
  {
   "cell_type": "code",
   "execution_count": 179,
   "id": "797cfa53",
   "metadata": {},
   "outputs": [
    {
     "data": {
      "text/plain": [
       "(19085, 7)"
      ]
     },
     "execution_count": 179,
     "metadata": {},
     "output_type": "execute_result"
    }
   ],
   "source": [
    "df[['addr', 'port', 'proto', 'num_timestamps', 'mean_timestamps', \n",
    "    'median_timestamps', 'anomaly']].drop_duplicates().shape"
   ]
  },
  {
   "cell_type": "markdown",
   "id": "ae2417fb",
   "metadata": {},
   "source": [
    "Так как генерировали много признаков из одной колонки, посмотрим на корреляции"
   ]
  },
  {
   "cell_type": "code",
   "execution_count": 180,
   "id": "2de79353",
   "metadata": {},
   "outputs": [
    {
     "data": {
      "image/png": "[encoded data removed]",
      "text/plain": [
       "<Figure size 640x480 with 2 Axes>"
      ]
     },
     "metadata": {},
     "output_type": "display_data"
    }
   ],
   "source": [
    "sns.heatmap(df[['addr', 'port', 'proto',\n",
    "               'num_timestamps', 'mean_timestamps', 'median_timestamps', 'anomaly']].drop_duplicates().corr(), \n",
    "            cmap=\"Blues\", annot=True);"
   ]
  },
  {
   "cell_type": "code",
   "execution_count": 181,
   "id": "fbde0375",
   "metadata": {},
   "outputs": [],
   "source": [
    "df.to_csv('data.csv')"
   ]
  },
  {
   "cell_type": "markdown",
   "id": "608bbb43",
   "metadata": {},
   "source": [
    "# Pipeline\n",
    "\n",
    "## Итерация 1\n",
    "\n",
    "Обучим на этих фичах модель. Для первого подхода выбрала catboost. \n",
    "\n",
    "Затем замерим качество на отложенной выборке, посмотрим, какие фичи наиболее важны."
   ]
  },
  {
   "cell_type": "code",
   "execution_count": 182,
   "id": "e8cc180c",
   "metadata": {},
   "outputs": [],
   "source": [
    "X = df[['addr', 'port', 'proto', 'num_timestamps', 'mean_timestamps', \n",
    "    'median_timestamps', 'anomaly', 'country']].drop_duplicates()\n",
    "X = X.fillna(0)\n",
    "\n",
    "y = X['anomaly']\n",
    "X = X.drop(['anomaly'], axis = 1)\n",
    "\n",
    "from sklearn.model_selection import train_test_split\n",
    "\n",
    "Xtrain, Xtest, ytrain, ytest = train_test_split(X, y, random_state = 42, test_size = 0.3)"
   ]
  },
  {
   "cell_type": "code",
   "execution_count": 183,
   "id": "a9adb79a",
   "metadata": {},
   "outputs": [
    {
     "name": "stdout",
     "output_type": "stream",
     "text": [
      "Requirement already satisfied: catboost in c:\\users\\60135487\\anaconda3\\lib\\site-packages (1.2.2)\n",
      "Requirement already satisfied: plotly in c:\\users\\60135487\\anaconda3\\lib\\site-packages (from catboost) (5.9.0)\n",
      "Requirement already satisfied: numpy>=1.16.0 in c:\\users\\60135487\\anaconda3\\lib\\site-packages (from catboost) (1.21.6)\n",
      "Requirement already satisfied: six in c:\\users\\60135487\\anaconda3\\lib\\site-packages (from catboost) (1.16.0)\n",
      "Requirement already satisfied: matplotlib in c:\\users\\60135487\\anaconda3\\lib\\site-packages (from catboost) (3.5.2)\n",
      "Requirement already satisfied: graphviz in c:\\users\\60135487\\anaconda3\\lib\\site-packages (from catboost) (0.20.1)\n",
      "Requirement already satisfied: pandas>=0.24 in c:\\users\\60135487\\anaconda3\\lib\\site-packages (from catboost) (1.4.4)\n",
      "Requirement already satisfied: scipy in c:\\users\\60135487\\anaconda3\\lib\\site-packages (from catboost) (1.9.1)\n",
      "Requirement already satisfied: python-dateutil>=2.8.1 in c:\\users\\60135487\\anaconda3\\lib\\site-packages (from pandas>=0.24->catboost) (2.8.2)\n",
      "Requirement already satisfied: pytz>=2020.1 in c:\\users\\60135487\\anaconda3\\lib\\site-packages (from pandas>=0.24->catboost) (2022.1)\n",
      "Requirement already satisfied: packaging>=20.0 in c:\\users\\60135487\\anaconda3\\lib\\site-packages (from matplotlib->catboost) (21.3)\n",
      "Requirement already satisfied: fonttools>=4.22.0 in c:\\users\\60135487\\anaconda3\\lib\\site-packages (from matplotlib->catboost) (4.25.0)\n",
      "Requirement already satisfied: cycler>=0.10 in c:\\users\\60135487\\anaconda3\\lib\\site-packages (from matplotlib->catboost) (0.11.0)\n",
      "Requirement already satisfied: pyparsing>=2.2.1 in c:\\users\\60135487\\anaconda3\\lib\\site-packages (from matplotlib->catboost) (3.0.9)\n",
      "Requirement already satisfied: kiwisolver>=1.0.1 in c:\\users\\60135487\\anaconda3\\lib\\site-packages (from matplotlib->catboost) (1.4.2)\n",
      "Requirement already satisfied: pillow>=6.2.0 in c:\\users\\60135487\\anaconda3\\lib\\site-packages (from matplotlib->catboost) (9.2.0)\n",
      "Requirement already satisfied: tenacity>=6.2.0 in c:\\users\\60135487\\anaconda3\\lib\\site-packages (from plotly->catboost) (8.0.1)\n"
     ]
    }
   ],
   "source": [
    "!pip install catboost\n",
    "from catboost import CatBoostClassifier\n",
    "\n",
    "clf = CatBoostClassifier(random_state=42, verbose=False,\n",
    "                        cat_features = ['addr', 'port', 'proto', 'country'])"
   ]
  },
  {
   "cell_type": "code",
   "execution_count": 184,
   "id": "0a2dfeda",
   "metadata": {},
   "outputs": [],
   "source": [
    "model_1 = clf.fit(Xtrain, ytrain)"
   ]
  },
  {
   "cell_type": "code",
   "execution_count": 185,
   "id": "e2434e9a",
   "metadata": {},
   "outputs": [
    {
     "data": {
      "text/plain": [
       "327"
      ]
     },
     "execution_count": 185,
     "metadata": {},
     "output_type": "execute_result"
    }
   ],
   "source": [
    "sum(model_1.predict(Xtest) ==1)\n",
    "# какие-то все же пометил аномалиями\n",
    "# отлично, посчитаем roc_auc_score"
   ]
  },
  {
   "cell_type": "code",
   "execution_count": 186,
   "id": "8c1331a6",
   "metadata": {},
   "outputs": [
    {
     "data": {
      "text/plain": [
       "0.92"
      ]
     },
     "execution_count": 186,
     "metadata": {},
     "output_type": "execute_result"
    }
   ],
   "source": [
    "from sklearn.metrics import f1_score, confusion_matrix, roc_auc_score, roc_curve, ConfusionMatrixDisplay\n",
    "\n",
    "round(roc_auc_score(ytest, model_1.predict(Xtest)), 2)\n",
    "# для сравнения с другими моделями"
   ]
  },
  {
   "cell_type": "code",
   "execution_count": 187,
   "id": "50da7694",
   "metadata": {},
   "outputs": [
    {
     "data": {
      "text/plain": [
       "0.9"
      ]
     },
     "execution_count": 187,
     "metadata": {},
     "output_type": "execute_result"
    }
   ],
   "source": [
    "round(f1_score(ytest, model_1.predict(Xtest)), 2)\n",
    "# для оценки работы модели"
   ]
  },
  {
   "cell_type": "code",
   "execution_count": 188,
   "id": "5a1b1939",
   "metadata": {},
   "outputs": [],
   "source": [
    "def plot_roc_curve(true_y, y_prob):\n",
    "\n",
    "    fpr, tpr, thresholds = roc_curve(true_y, y_prob)\n",
    "    plt.plot(fpr, tpr)\n",
    "    plt.xlabel('False Positive Rate')\n",
    "    plt.ylabel('True Positive Rate')"
   ]
  },
  {
   "cell_type": "code",
   "execution_count": 189,
   "id": "9942130d",
   "metadata": {},
   "outputs": [
    {
     "name": "stdout",
     "output_type": "stream",
     "text": [
      "model AUC score: 0.9194896490233679\n"
     ]
    },
    {
     "data": {
      "image/png": "[encoded data removed]",
      "text/plain": [
       "<Figure size 640x480 with 1 Axes>"
      ]
     },
     "metadata": {},
     "output_type": "display_data"
    }
   ],
   "source": [
    "plot_roc_curve(ytest, model_1.predict(Xtest))\n",
    "print(f'model AUC score: {roc_auc_score(ytest, model_1.predict(Xtest))}')"
   ]
  },
  {
   "cell_type": "code",
   "execution_count": 190,
   "id": "f0cbbbd3",
   "metadata": {},
   "outputs": [
    {
     "data": {
      "image/png": "[encoded data removed]",
      "text/plain": [
       "<Figure size 640x480 with 2 Axes>"
      ]
     },
     "metadata": {},
     "output_type": "display_data"
    }
   ],
   "source": [
    "confusion_matrix = confusion_matrix(ytest, model_1.predict(Xtest))\n",
    "\n",
    "cm_display = ConfusionMatrixDisplay(confusion_matrix = confusion_matrix, display_labels = [False, True])\n",
    "\n",
    "cm_display.plot()\n",
    "plt.show()"
   ]
  },
  {
   "cell_type": "code",
   "execution_count": 191,
   "id": "bc4d56a9",
   "metadata": {},
   "outputs": [
    {
     "data": {
      "text/plain": [
       "<function matplotlib.pyplot.show(close=None, block=None)>"
      ]
     },
     "execution_count": 191,
     "metadata": {},
     "output_type": "execute_result"
    },
    {
     "data": {
      "image/png": "[encoded data removed]",
      "text/plain": [
       "<Figure size 640x480 with 1 Axes>"
      ]
     },
     "metadata": {},
     "output_type": "display_data"
    }
   ],
   "source": [
    "plt.bar(Xtrain.columns, model_1.feature_importances_)\n",
    "plt.xlabel('Features')\n",
    "plt.ylabel('Importance')\n",
    "plt.xticks(rotation=60)\n",
    "plt.show"
   ]
  },
  {
   "cell_type": "markdown",
   "id": "713b0247",
   "metadata": {},
   "source": [
    "## Промежуточные итоги\n",
    "\n",
    "Очень похоже, что модель переобучилась под наши данные, и из-за их количества мы не увидели это на тесте. Попробуем проверить эту гипотезу, начнем с исследования порта. Сколько правильных ответов, когда порт 443 и когда это аномалия?"
   ]
  },
  {
   "cell_type": "code",
   "execution_count": 192,
   "id": "b3c15a77",
   "metadata": {},
   "outputs": [
    {
     "data": {
      "text/plain": [
       "36"
      ]
     },
     "execution_count": 192,
     "metadata": {},
     "output_type": "execute_result"
    }
   ],
   "source": [
    "Xtest['predict'] = model_1.predict(Xtest)\n",
    "Xtest['ans'] = ytest\n",
    "len(Xtest[(Xtest['port'] == '443') & (Xtest['ans'] == 1) & (Xtest['predict'] == 1)])"
   ]
  },
  {
   "cell_type": "markdown",
   "id": "e389cc4c",
   "metadata": {},
   "source": [
    "А сколько неверно?"
   ]
  },
  {
   "cell_type": "code",
   "execution_count": 193,
   "id": "0042b593",
   "metadata": {},
   "outputs": [
    {
     "data": {
      "text/plain": [
       "60"
      ]
     },
     "execution_count": 193,
     "metadata": {},
     "output_type": "execute_result"
    }
   ],
   "source": [
    "len(Xtest[(Xtest['port'] == '443') & (Xtest['ans'] == 1) & (Xtest['predict'] == 0)])"
   ]
  },
  {
   "cell_type": "markdown",
   "id": "b3f7bfd1",
   "metadata": {},
   "source": [
    "То есть примерно в значительной части случаев модель ошиблась на 443 порте. На неаномалиях этот порт единственный. Попробуем просто выкинуть эту фичу, похоже, что модель под нее переобучилась.\n",
    "\n",
    "Продолжим с колонкой айпи-адреса. Среди вредных адресов встречается ли один какой-то?"
   ]
  },
  {
   "cell_type": "code",
   "execution_count": 195,
   "id": "737b604c",
   "metadata": {},
   "outputs": [
    {
     "data": {
      "text/plain": [
       "addr\n",
       "10.4.19.138       222\n",
       "10.4.19.143        22\n",
       "10.4.19.19          3\n",
       "10.7.10.9           3\n",
       "52.137.106.217      2\n",
       "dtype: int64"
      ]
     },
     "execution_count": 195,
     "metadata": {},
     "output_type": "execute_result"
    }
   ],
   "source": [
    "Xtest[(Xtest['ans'] == 1)].value_counts('addr')[0:5]"
   ]
  },
  {
   "cell_type": "code",
   "execution_count": 196,
   "id": "d72bbc55",
   "metadata": {},
   "outputs": [
    {
     "data": {
      "text/plain": [
       "0.9866666666666667"
      ]
     },
     "execution_count": 196,
     "metadata": {},
     "output_type": "execute_result"
    }
   ],
   "source": [
    "len(Xtest[(Xtest['ans'] == 1) & (Xtest['addr'] == '10.4.19.138') & (Xtest['predict'] == 1)]) / 225"
   ]
  },
  {
   "cell_type": "markdown",
   "id": "9588bf9a",
   "metadata": {},
   "source": [
    "Почти в ста процентах случаев с первым адресом модель угадала правильный ответ. Явно присутствует переобученность и на этой колонке:\n",
    "\n",
    "1. Кажется, строки с первым адресом стоит выкинуть. \n",
    "\n",
    "2. И от самих адресов оставим также первые две цифры."
   ]
  },
  {
   "cell_type": "markdown",
   "id": "00c83920",
   "metadata": {},
   "source": [
    "## Итерация 2\n",
    "\n",
    "Выкинем фичу порт и из адреса сделаем две новые фичи. Посмотрим, как измерится качество модели."
   ]
  },
  {
   "cell_type": "code",
   "execution_count": 197,
   "id": "7b66fa69",
   "metadata": {},
   "outputs": [],
   "source": [
    "X = df[['addr', 'proto', 'num_timestamps', 'mean_timestamps', \n",
    "    'median_timestamps', 'anomaly', 'country']].drop_duplicates()\n",
    "X = X.fillna(0)\n",
    "\n",
    "X = X[X['addr'] != '10.4.19.138']\n",
    "X = X.merge(pd.DataFrame(list(X['addr'].str.split('.').values), columns = ['addr_1',\n",
    "                                                        'addr_2',\n",
    "                                                        'addr_3', \n",
    "                                                        'addr_4']), left_index=True, right_index=True)\n",
    "\n",
    "y = X['anomaly']\n",
    "X = X.drop(['anomaly', 'addr_3', 'addr_4', 'addr'], axis = 1)\n",
    "\n",
    "from sklearn.model_selection import train_test_split\n",
    "\n",
    "Xtrain, Xtest, ytrain, ytest = train_test_split(X, y, random_state = 42, test_size = 0.3)"
   ]
  },
  {
   "cell_type": "code",
   "execution_count": 198,
   "id": "e1977e41",
   "metadata": {},
   "outputs": [],
   "source": [
    "clf = CatBoostClassifier(random_state=42, verbose=False,\n",
    "                        cat_features = ['addr_1', 'addr_2', 'proto', 'country'])"
   ]
  },
  {
   "cell_type": "code",
   "execution_count": 199,
   "id": "9e442026",
   "metadata": {},
   "outputs": [],
   "source": [
    "model = clf.fit(Xtrain, ytrain)"
   ]
  },
  {
   "cell_type": "code",
   "execution_count": 200,
   "id": "8f12442d",
   "metadata": {},
   "outputs": [
    {
     "data": {
      "text/plain": [
       "67"
      ]
     },
     "execution_count": 200,
     "metadata": {},
     "output_type": "execute_result"
    }
   ],
   "source": [
    "sum(model.predict(Xtest) ==1)\n",
    "# какие-то все же пометил аномалиями\n",
    "# отлично, посчитаем roc_auc_score"
   ]
  },
  {
   "cell_type": "code",
   "execution_count": 201,
   "id": "6c13cda1",
   "metadata": {},
   "outputs": [
    {
     "data": {
      "text/plain": [
       "0.81"
      ]
     },
     "execution_count": 201,
     "metadata": {},
     "output_type": "execute_result"
    }
   ],
   "source": [
    "from sklearn.metrics import f1_score, confusion_matrix, roc_auc_score, roc_curve, ConfusionMatrixDisplay\n",
    "\n",
    "round(roc_auc_score(ytest, model.predict(Xtest)), 2)\n",
    "# для сравнения с другими моделями"
   ]
  },
  {
   "cell_type": "code",
   "execution_count": 202,
   "id": "bd442dc2",
   "metadata": {},
   "outputs": [
    {
     "data": {
      "text/plain": [
       "0.74"
      ]
     },
     "execution_count": 202,
     "metadata": {},
     "output_type": "execute_result"
    }
   ],
   "source": [
    "round(f1_score(ytest, model.predict(Xtest)), 2)\n",
    "# для оценки работы модели"
   ]
  },
  {
   "cell_type": "code",
   "execution_count": 203,
   "id": "b8d1df8e",
   "metadata": {},
   "outputs": [
    {
     "name": "stdout",
     "output_type": "stream",
     "text": [
      "model AUC score: 0.8095327976079238\n"
     ]
    },
    {
     "data": {
      "image/png": "[encoded data removed]",
      "text/plain": [
       "<Figure size 640x480 with 1 Axes>"
      ]
     },
     "metadata": {},
     "output_type": "display_data"
    }
   ],
   "source": [
    "plot_roc_curve(ytest, model.predict(Xtest))\n",
    "print(f'model AUC score: {roc_auc_score(ytest, model.predict(Xtest))}')"
   ]
  },
  {
   "cell_type": "code",
   "execution_count": 204,
   "id": "e644ba12",
   "metadata": {},
   "outputs": [
    {
     "data": {
      "image/png": "[encoded data removed]",
      "text/plain": [
       "<Figure size 640x480 with 2 Axes>"
      ]
     },
     "metadata": {},
     "output_type": "display_data"
    }
   ],
   "source": [
    "confusion_matrix = confusion_matrix(ytest, model.predict(Xtest))\n",
    "\n",
    "cm_display = ConfusionMatrixDisplay(confusion_matrix = confusion_matrix, display_labels = [False, True])\n",
    "\n",
    "cm_display.plot()\n",
    "plt.show()"
   ]
  },
  {
   "cell_type": "code",
   "execution_count": 205,
   "id": "cbd1573a",
   "metadata": {},
   "outputs": [
    {
     "data": {
      "text/plain": [
       "<function matplotlib.pyplot.show(close=None, block=None)>"
      ]
     },
     "execution_count": 205,
     "metadata": {},
     "output_type": "execute_result"
    },
    {
     "data": {
      "image/png": "[encoded data removed]",
      "text/plain": [
       "<Figure size 640x480 with 1 Axes>"
      ]
     },
     "metadata": {},
     "output_type": "display_data"
    }
   ],
   "source": [
    "plt.bar(Xtrain.columns, model.feature_importances_)\n",
    "plt.xlabel('Features')\n",
    "plt.ylabel('Importance')\n",
    "plt.xticks(rotation=60)\n",
    "plt.show"
   ]
  },
  {
   "cell_type": "markdown",
   "id": "7ce388ed",
   "metadata": {},
   "source": [
    "# Итого,\n",
    "\n",
    "по результатам EDA выделила 7 фичей, из них 4 - качественные: addr, port, proto, country. 3 количественные фичи (num_timestamps, mean_timestamps, median_timestamps) сгенерированы из таймстемпов. Корреляция между этими фичами почти отсутствует, поэтому все из них взяла в модель.\n",
    "\n",
    "Обучила катбуст, оценка на тесте - 0.94. Выявили переобученность модели под две фичи и провели еще одну итерацию обучения модели. на новых фичах: убрали порт, часть записей с одним и тем же адресом и от самого адреса оставили первые две цифры. Качество модели драматически упало до 0.74.\n",
    "\n",
    "Цель последующей работы - дотянуть roc_auc_score до 0.9. Что будем делать:\n",
    "\n",
    "1. Генерировать и тестировать новые фичи\n",
    "\n",
    "    1.1. Возможно, сравним результат также с другой моделью\n",
    "    \n",
    "\n",
    "2. Обучим нейронную сеть\n",
    "\n",
    "Recall в данной задаче нам важнее. Важно не пустить пользователя на вредоносный сайт, но при этом нужно понимать, что иногда мы можем не пустить его и на нормальный сайт. В данном случае высока цена ошибки будет высока. Финальный датафрейм выглядит так:"
   ]
  }
 ],
 "metadata": {
  "kernelspec": {
   "display_name": "Python 3 (ipykernel)",
   "language": "python",
   "name": "python3"
  },
  "language_info": {
   "codemirror_mode": {
    "name": "ipython",
    "version": 3
   },
   "file_extension": ".py",
   "mimetype": "text/x-python",
   "name": "python",
   "nbconvert_exporter": "python",
   "pygments_lexer": "ipython3",
   "version": "3.9.13"
  }
 },
 "nbformat": 4,
 "nbformat_minor": 5
}
