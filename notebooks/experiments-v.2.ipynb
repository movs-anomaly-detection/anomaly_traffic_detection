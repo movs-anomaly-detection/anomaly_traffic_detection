{
 "cells": [
  {
   "cell_type": "code",
   "execution_count": 2,
   "id": "2df766d0",
   "metadata": {},
   "outputs": [],
   "source": [
    "import pandas as pd\n",
    "from pandas.core.common import SettingWithCopyWarning\n",
    "\n",
    "import warnings\n",
    "warnings.filterwarnings(\"ignore\")\n",
    "import json\n",
    "\n",
    "from datetime import datetime\n",
    "import numpy as np\n",
    "\n",
    "import seaborn as sns\n",
    "import matplotlib.pyplot as plt\n",
    "import re\n",
    "\n",
    "import requests"
   ]
  },
  {
   "cell_type": "code",
   "execution_count": 3,
   "id": "f80c5ef4",
   "metadata": {},
   "outputs": [],
   "source": [
    "def plot_roc_curve(true_y, y_prob):\n",
    "\n",
    "    fpr, tpr, thresholds = roc_curve(true_y, y_prob)\n",
    "    plt.plot(fpr, tpr)\n",
    "    plt.xlabel('False Positive Rate')\n",
    "    plt.ylabel('True Positive Rate')"
   ]
  },
  {
   "cell_type": "markdown",
   "id": "331c71ef",
   "metadata": {},
   "source": [
    "В этом блокноте будут лежать эксперименты с моделями и данными. Для начала, посмотрим, сможем ли улучшить качество, сгенерировав больше фичей."
   ]
  },
  {
   "cell_type": "code",
   "execution_count": 4,
   "id": "6b7e5717",
   "metadata": {},
   "outputs": [],
   "source": [
    "data_rare = pd.read_csv('data_rare.csv', index_col=[0])"
   ]
  },
  {
   "cell_type": "code",
   "execution_count": 5,
   "id": "2b3ac0a5",
   "metadata": {},
   "outputs": [],
   "source": [
    "data_rare.loc[~data_rare['handshake'].isna(), 'is_handshake'] = 1\n",
    "data_rare.loc[data_rare['is_handshake'].isna(), 'is_handshake'] = 0"
   ]
  },
  {
   "cell_type": "code",
   "execution_count": null,
   "id": "69fbb061",
   "metadata": {},
   "outputs": [],
   "source": [
    "fingerprint = []\n",
    "alert_message = []\n",
    "certificate = []\n",
    "is_selfsigned = []\n",
    "\n",
    "for i in range(0, len(data_rare)):\n",
    "    fingerprint.append(len(re.findall('fingerprint', data_rare['handshake'].fillna('0')[i], flags=0)))\n",
    "    alert_message.append(len(re.findall('alert_message', data_rare['packets'].fillna('0')[i], flags=0)))\n",
    "    certificate.append(len(re.findall('certificate', data_rare['handshake'].fillna('0')[i], flags=0)))\n",
    "    is_selfsigned.append(len(re.findall(\"'is_selfsigned': True\", data_rare['handshake'].fillna('0')[i], flags=0)))\n",
    "\n",
    "data_rare['fingerprint'] = fingerprint\n",
    "data_rare['alert_message'] = alert_message\n",
    "data_rare['certificate'] = certificate\n",
    "data_rare['is_selfsigned'] = is_selfsigned"
   ]
  },
  {
   "cell_type": "code",
   "execution_count": null,
   "id": "065d7029",
   "metadata": {},
   "outputs": [],
   "source": [
    "df = data_rare.drop(['index', 'packets', 'handshake', 'timestamps'], axis = 1)\n",
    "df['country'] = pd.read_csv('data.csv')['country']"
   ]
  },
  {
   "cell_type": "code",
   "execution_count": null,
   "id": "e1ae2c42",
   "metadata": {},
   "outputs": [],
   "source": [
    "sns.heatmap(df[['addr', 'port', 'proto',\n",
    "               'num_timestamps', 'mean_timestamps', 'median_timestamps', 'anomaly',\n",
    "               'is_handshake', 'fingerprint', 'alert_message', 'certificate', 'is_selfsigned']].drop_duplicates().corr(), \n",
    "            cmap=\"Blues\", annot=True);"
   ]
  },
  {
   "cell_type": "markdown",
   "id": "2413c57c",
   "metadata": {},
   "source": [
    "# Подготовим данные:\n",
    "\n",
    "1. Удалим скоррелированные колонки\n",
    "2. Сделаем resemple для трейна\n",
    "3. Скалируем"
   ]
  },
  {
   "cell_type": "code",
   "execution_count": null,
   "id": "c6130dfa",
   "metadata": {},
   "outputs": [],
   "source": [
    "df = df.drop(['mean_timestamps', 'certificate', 'fingerprint'], axis = 1).drop_duplicates()"
   ]
  },
  {
   "cell_type": "code",
   "execution_count": null,
   "id": "12985f7d",
   "metadata": {},
   "outputs": [],
   "source": [
    "X = df[['addr', 'proto', 'num_timestamps', \n",
    "    'median_timestamps', 'anomaly', 'country', 'is_handshake',\n",
    "       'alert_message', 'is_selfsigned']].drop_duplicates()\n",
    "X = X.fillna(0)\n",
    "\n",
    "X = X[X['addr'] != '10.4.19.138']"
   ]
  },
  {
   "cell_type": "code",
   "execution_count": null,
   "id": "3894afa0",
   "metadata": {},
   "outputs": [],
   "source": [
    "X.anomaly.nunique()"
   ]
  },
  {
   "cell_type": "code",
   "execution_count": null,
   "id": "10be38c7",
   "metadata": {},
   "outputs": [],
   "source": [
    "X.shape"
   ]
  },
  {
   "cell_type": "code",
   "execution_count": null,
   "id": "030e247a",
   "metadata": {},
   "outputs": [],
   "source": [
    "X['addr_1'] = pd.DataFrame(list(X['addr'].str.split('.').values), columns = ['addr_1',\n",
    "                                                        'addr_2',\n",
    "                                                        'addr_3', \n",
    "                                                        'addr_4'])['addr_1']\n",
    "\n",
    "X['addr_2'] = pd.DataFrame(list(X['addr'].str.split('.').values), columns = ['addr_1',\n",
    "                                                        'addr_2',\n",
    "                                                        'addr_3', \n",
    "                                                        'addr_4'])['addr_2']"
   ]
  },
  {
   "cell_type": "code",
   "execution_count": null,
   "id": "936a3c4c",
   "metadata": {},
   "outputs": [],
   "source": [
    "X.anomaly.nunique()"
   ]
  },
  {
   "cell_type": "code",
   "execution_count": null,
   "id": "b890c71c",
   "metadata": {},
   "outputs": [],
   "source": [
    "X.shape"
   ]
  },
  {
   "cell_type": "code",
   "execution_count": null,
   "id": "1d01f7bd",
   "metadata": {},
   "outputs": [],
   "source": [
    "X_new = X.drop(['proto', 'country', 'addr_1', 'addr_2'], \n",
    "                     axis=1).merge(pd.get_dummies(X[['proto', 'country', 'addr_1', 'addr_2']], drop_first = True),\n",
    "                                                    left_index = True, right_index=True)"
   ]
  },
  {
   "cell_type": "code",
   "execution_count": null,
   "id": "93666e6e",
   "metadata": {},
   "outputs": [],
   "source": [
    "X_new.anomaly.nunique()"
   ]
  },
  {
   "cell_type": "code",
   "execution_count": null,
   "id": "d8532b45",
   "metadata": {},
   "outputs": [],
   "source": [
    "y = X_new['anomaly']\n",
    "X = X_new.drop(['anomaly', 'addr'], axis = 1)\n",
    "\n",
    "from sklearn.model_selection import train_test_split\n",
    "\n",
    "Xtrain, Xtest, ytrain, ytest = train_test_split(X, y, random_state = 42, test_size = 0.3)"
   ]
  },
  {
   "cell_type": "code",
   "execution_count": null,
   "id": "72d9baaf",
   "metadata": {},
   "outputs": [],
   "source": [
    "!pip install imblearn\n",
    "\n",
    "from imblearn.over_sampling import SMOTE\n",
    "sm = SMOTE(#sampling_strategy = 0.9,\n",
    "            random_state=0,\n",
    "            k_neighbors=4)\n",
    "\n",
    "X_train_res, y_train_res = sm.fit_resample(Xtrain, ytrain) "
   ]
  },
  {
   "cell_type": "code",
   "execution_count": null,
   "id": "b394a458",
   "metadata": {},
   "outputs": [],
   "source": [
    "from sklearn.preprocessing import StandardScaler\n",
    "\n",
    "scaler = StandardScaler().fit(X_train_res)"
   ]
  },
  {
   "cell_type": "code",
   "execution_count": null,
   "id": "2840963b",
   "metadata": {},
   "outputs": [],
   "source": [
    "X_train_res = scaler.transform(X_train_res)"
   ]
  },
  {
   "cell_type": "code",
   "execution_count": null,
   "id": "824ef198",
   "metadata": {},
   "outputs": [],
   "source": [
    "Xtest = scaler.transform(Xtest)"
   ]
  },
  {
   "cell_type": "code",
   "execution_count": null,
   "id": "72226bd5",
   "metadata": {},
   "outputs": [],
   "source": [
    "from sklearn.metrics import make_scorer\n",
    "\n",
    "score = make_scorer(fbeta_score, beta=1.5)"
   ]
  },
  {
   "cell_type": "code",
   "execution_count": null,
   "id": "7d20c4e7",
   "metadata": {},
   "outputs": [],
   "source": [
    "def fbeta(beta = 1, )"
   ]
  },
  {
   "cell_type": "markdown",
   "id": "633e7dbd",
   "metadata": {},
   "source": [
    "В первую очередь возьмем катбуст из ноутбука с EDA и переберем параметры для улучшения качества.\n",
    "\n",
    "# Итерация 1"
   ]
  },
  {
   "cell_type": "code",
   "execution_count": 256,
   "id": "36f68320",
   "metadata": {
    "scrolled": true
   },
   "outputs": [
    {
     "name": "stdout",
     "output_type": "stream",
     "text": [
      "Fitting 5 folds for each of 48 candidates, totalling 240 fits\n",
      "[CV 1/5] END depth=None, iterations=None, learning_rate=None;, score=(train=0.980, test=0.973) total time=  16.1s\n",
      "[CV 2/5] END depth=None, iterations=None, learning_rate=None;, score=(train=0.979, test=0.977) total time=  15.9s\n",
      "[CV 3/5] END depth=None, iterations=None, learning_rate=None;, score=(train=0.980, test=0.976) total time=  15.5s\n",
      "[CV 4/5] END depth=None, iterations=None, learning_rate=None;, score=(train=0.980, test=0.974) total time=  15.4s\n",
      "[CV 5/5] END depth=None, iterations=None, learning_rate=None;, score=(train=0.980, test=0.979) total time=  15.3s\n",
      "[CV 1/5] END depth=None, iterations=None, learning_rate=0.05;, score=(train=0.982, test=0.975) total time=  15.8s\n",
      "[CV 2/5] END depth=None, iterations=None, learning_rate=0.05;, score=(train=0.981, test=0.981) total time=  16.1s\n",
      "[CV 3/5] END depth=None, iterations=None, learning_rate=0.05;, score=(train=0.982, test=0.979) total time=  15.2s\n",
      "[CV 4/5] END depth=None, iterations=None, learning_rate=0.05;, score=(train=0.983, test=0.976) total time=  15.7s\n",
      "[CV 5/5] END depth=None, iterations=None, learning_rate=0.05;, score=(train=0.981, test=0.982) total time=  15.3s\n",
      "[CV 1/5] END depth=None, iterations=None, learning_rate=0.1;, score=(train=0.984, test=0.978) total time=  16.4s\n",
      "[CV 2/5] END depth=None, iterations=None, learning_rate=0.1;, score=(train=0.983, test=0.984) total time=  15.5s\n",
      "[CV 3/5] END depth=None, iterations=None, learning_rate=0.1;, score=(train=0.984, test=0.980) total time=  15.0s\n",
      "[CV 4/5] END depth=None, iterations=None, learning_rate=0.1;, score=(train=0.984, test=0.977) total time=  17.2s\n",
      "[CV 5/5] END depth=None, iterations=None, learning_rate=0.1;, score=(train=0.983, test=0.984) total time=  18.8s\n",
      "[CV 1/5] END depth=None, iterations=None, learning_rate=0.5;, score=(train=0.989, test=0.979) total time=  14.3s\n",
      "[CV 2/5] END depth=None, iterations=None, learning_rate=0.5;, score=(train=0.988, test=0.986) total time=  14.2s\n",
      "[CV 3/5] END depth=None, iterations=None, learning_rate=0.5;, score=(train=0.988, test=0.982) total time=  14.2s\n",
      "[CV 4/5] END depth=None, iterations=None, learning_rate=0.5;, score=(train=0.989, test=0.981) total time=  16.3s\n",
      "[CV 5/5] END depth=None, iterations=None, learning_rate=0.5;, score=(train=0.988, test=0.986) total time=  14.1s\n",
      "[CV 1/5] END depth=None, iterations=100, learning_rate=None;, score=(train=0.979, test=0.973) total time=   4.1s\n",
      "[CV 2/5] END depth=None, iterations=100, learning_rate=None;, score=(train=0.977, test=0.973) total time=   4.5s\n",
      "[CV 3/5] END depth=None, iterations=100, learning_rate=None;, score=(train=0.978, test=0.973) total time=   4.6s\n",
      "[CV 4/5] END depth=None, iterations=100, learning_rate=None;, score=(train=0.978, test=0.970) total time=   4.4s\n",
      "[CV 5/5] END depth=None, iterations=100, learning_rate=None;, score=(train=0.978, test=0.977) total time=   4.6s\n",
      "[CV 1/5] END depth=None, iterations=100, learning_rate=0.05;, score=(train=0.919, test=0.917) total time=   4.5s\n",
      "[CV 2/5] END depth=None, iterations=100, learning_rate=0.05;, score=(train=0.920, test=0.913) total time=   4.4s\n",
      "[CV 3/5] END depth=None, iterations=100, learning_rate=0.05;, score=(train=0.920, test=0.917) total time=   4.4s\n",
      "[CV 4/5] END depth=None, iterations=100, learning_rate=0.05;, score=(train=0.918, test=0.906) total time=   4.3s\n",
      "[CV 5/5] END depth=None, iterations=100, learning_rate=0.05;, score=(train=0.918, test=0.915) total time=   4.4s\n",
      "[CV 1/5] END depth=None, iterations=100, learning_rate=0.1;, score=(train=0.951, test=0.944) total time=   4.4s\n",
      "[CV 2/5] END depth=None, iterations=100, learning_rate=0.1;, score=(train=0.952, test=0.946) total time=   4.4s\n",
      "[CV 3/5] END depth=None, iterations=100, learning_rate=0.1;, score=(train=0.952, test=0.949) total time=   4.3s\n",
      "[CV 4/5] END depth=None, iterations=100, learning_rate=0.1;, score=(train=0.950, test=0.943) total time=   4.3s\n",
      "[CV 5/5] END depth=None, iterations=100, learning_rate=0.1;, score=(train=0.952, test=0.952) total time=   4.4s\n",
      "[CV 1/5] END depth=None, iterations=100, learning_rate=0.5;, score=(train=0.982, test=0.976) total time=   4.6s\n",
      "[CV 2/5] END depth=None, iterations=100, learning_rate=0.5;, score=(train=0.982, test=0.980) total time=   4.4s\n",
      "[CV 3/5] END depth=None, iterations=100, learning_rate=0.5;, score=(train=0.982, test=0.979) total time=   4.4s\n",
      "[CV 4/5] END depth=None, iterations=100, learning_rate=0.5;, score=(train=0.983, test=0.974) total time=   4.4s\n",
      "[CV 5/5] END depth=None, iterations=100, learning_rate=0.5;, score=(train=0.981, test=0.981) total time=   4.4s\n",
      "[CV 1/5] END depth=None, iterations=200, learning_rate=None;, score=(train=0.979, test=0.972) total time=   5.6s\n",
      "[CV 2/5] END depth=None, iterations=200, learning_rate=None;, score=(train=0.979, test=0.977) total time=   5.7s\n",
      "[CV 3/5] END depth=None, iterations=200, learning_rate=None;, score=(train=0.979, test=0.973) total time=   5.6s\n",
      "[CV 4/5] END depth=None, iterations=200, learning_rate=None;, score=(train=0.980, test=0.972) total time=   5.7s\n",
      "[CV 5/5] END depth=None, iterations=200, learning_rate=None;, score=(train=0.979, test=0.978) total time=   5.6s\n",
      "[CV 1/5] END depth=None, iterations=200, learning_rate=0.05;, score=(train=0.951, test=0.948) total time=   5.7s\n",
      "[CV 2/5] END depth=None, iterations=200, learning_rate=0.05;, score=(train=0.952, test=0.947) total time=   5.7s\n",
      "[CV 3/5] END depth=None, iterations=200, learning_rate=0.05;, score=(train=0.951, test=0.948) total time=   5.6s\n",
      "[CV 4/5] END depth=None, iterations=200, learning_rate=0.05;, score=(train=0.951, test=0.947) total time=   5.6s\n",
      "[CV 5/5] END depth=None, iterations=200, learning_rate=0.05;, score=(train=0.951, test=0.948) total time=   5.0s\n",
      "[CV 1/5] END depth=None, iterations=200, learning_rate=0.1;, score=(train=0.974, test=0.967) total time=   6.0s\n",
      "[CV 2/5] END depth=None, iterations=200, learning_rate=0.1;, score=(train=0.970, test=0.964) total time=   5.0s\n",
      "[CV 3/5] END depth=None, iterations=200, learning_rate=0.1;, score=(train=0.972, test=0.966) total time=   5.0s\n",
      "[CV 4/5] END depth=None, iterations=200, learning_rate=0.1;, score=(train=0.974, test=0.965) total time=   5.0s\n",
      "[CV 5/5] END depth=None, iterations=200, learning_rate=0.1;, score=(train=0.971, test=0.971) total time=   5.0s\n",
      "[CV 1/5] END depth=None, iterations=200, learning_rate=0.5;, score=(train=0.985, test=0.977) total time=   4.9s\n",
      "[CV 2/5] END depth=None, iterations=200, learning_rate=0.5;, score=(train=0.984, test=0.984) total time=   4.9s\n",
      "[CV 3/5] END depth=None, iterations=200, learning_rate=0.5;, score=(train=0.985, test=0.981) total time=   4.9s\n",
      "[CV 4/5] END depth=None, iterations=200, learning_rate=0.5;, score=(train=0.985, test=0.978) total time=   4.9s\n",
      "[CV 5/5] END depth=None, iterations=200, learning_rate=0.5;, score=(train=0.985, test=0.984) total time=   4.9s\n",
      "[CV 1/5] END depth=1, iterations=None, learning_rate=None;, score=(train=0.932, test=0.930) total time=  11.5s\n",
      "[CV 2/5] END depth=1, iterations=None, learning_rate=None;, score=(train=0.932, test=0.923) total time=  11.5s\n",
      "[CV 3/5] END depth=1, iterations=None, learning_rate=None;, score=(train=0.931, test=0.929) total time=  11.5s\n",
      "[CV 4/5] END depth=1, iterations=None, learning_rate=None;, score=(train=0.930, test=0.924) total time=  11.6s\n",
      "[CV 5/5] END depth=1, iterations=None, learning_rate=None;, score=(train=0.931, test=0.930) total time=  11.0s\n",
      "[CV 1/5] END depth=1, iterations=None, learning_rate=0.05;, score=(train=0.945, test=0.941) total time=  11.1s\n",
      "[CV 2/5] END depth=1, iterations=None, learning_rate=0.05;, score=(train=0.943, test=0.940) total time=  11.0s\n",
      "[CV 3/5] END depth=1, iterations=None, learning_rate=0.05;, score=(train=0.944, test=0.942) total time=  11.7s\n",
      "[CV 4/5] END depth=1, iterations=None, learning_rate=0.05;, score=(train=0.945, test=0.938) total time=  11.0s\n",
      "[CV 5/5] END depth=1, iterations=None, learning_rate=0.05;, score=(train=0.943, test=0.944) total time=  11.1s\n",
      "[CV 1/5] END depth=1, iterations=None, learning_rate=0.1;, score=(train=0.968, test=0.962) total time=  11.2s\n",
      "[CV 2/5] END depth=1, iterations=None, learning_rate=0.1;, score=(train=0.966, test=0.962) total time=  11.0s\n",
      "[CV 3/5] END depth=1, iterations=None, learning_rate=0.1;, score=(train=0.967, test=0.962) total time=  11.0s\n"
     ]
    },
    {
     "name": "stdout",
     "output_type": "stream",
     "text": [
      "[CV 4/5] END depth=1, iterations=None, learning_rate=0.1;, score=(train=0.967, test=0.960) total time=  11.0s\n",
      "[CV 5/5] END depth=1, iterations=None, learning_rate=0.1;, score=(train=0.965, test=0.962) total time=  11.2s\n",
      "[CV 1/5] END depth=1, iterations=None, learning_rate=0.5;, score=(train=0.983, test=0.977) total time=  10.8s\n",
      "[CV 2/5] END depth=1, iterations=None, learning_rate=0.5;, score=(train=0.982, test=0.983) total time=  11.7s\n",
      "[CV 3/5] END depth=1, iterations=None, learning_rate=0.5;, score=(train=0.982, test=0.979) total time=  11.0s\n",
      "[CV 4/5] END depth=1, iterations=None, learning_rate=0.5;, score=(train=0.983, test=0.977) total time=  11.0s\n",
      "[CV 5/5] END depth=1, iterations=None, learning_rate=0.5;, score=(train=0.981, test=0.983) total time=  10.9s\n",
      "[CV 1/5] END depth=1, iterations=100, learning_rate=None;, score=(train=0.933, test=0.932) total time=   3.4s\n",
      "[CV 2/5] END depth=1, iterations=100, learning_rate=None;, score=(train=0.931, test=0.925) total time=   3.4s\n",
      "[CV 3/5] END depth=1, iterations=100, learning_rate=None;, score=(train=0.936, test=0.938) total time=   3.4s\n",
      "[CV 4/5] END depth=1, iterations=100, learning_rate=None;, score=(train=0.935, test=0.926) total time=   3.4s\n",
      "[CV 5/5] END depth=1, iterations=100, learning_rate=None;, score=(train=0.931, test=0.930) total time=   3.4s\n",
      "[CV 1/5] END depth=1, iterations=100, learning_rate=0.05;, score=(train=0.788, test=0.785) total time=   3.4s\n",
      "[CV 2/5] END depth=1, iterations=100, learning_rate=0.05;, score=(train=0.792, test=0.789) total time=   3.3s\n",
      "[CV 3/5] END depth=1, iterations=100, learning_rate=0.05;, score=(train=0.789, test=0.794) total time=   3.4s\n",
      "[CV 4/5] END depth=1, iterations=100, learning_rate=0.05;, score=(train=0.793, test=0.792) total time=   3.4s\n",
      "[CV 5/5] END depth=1, iterations=100, learning_rate=0.05;, score=(train=0.799, test=0.793) total time=   3.4s\n",
      "[CV 1/5] END depth=1, iterations=100, learning_rate=0.1;, score=(train=0.842, test=0.839) total time=   3.5s\n",
      "[CV 2/5] END depth=1, iterations=100, learning_rate=0.1;, score=(train=0.840, test=0.838) total time=   3.4s\n",
      "[CV 3/5] END depth=1, iterations=100, learning_rate=0.1;, score=(train=0.841, test=0.849) total time=   3.4s\n",
      "[CV 4/5] END depth=1, iterations=100, learning_rate=0.1;, score=(train=0.840, test=0.834) total time=   3.4s\n",
      "[CV 5/5] END depth=1, iterations=100, learning_rate=0.1;, score=(train=0.840, test=0.841) total time=   3.7s\n",
      "[CV 1/5] END depth=1, iterations=100, learning_rate=0.5;, score=(train=0.958, test=0.953) total time=   3.9s\n",
      "[CV 2/5] END depth=1, iterations=100, learning_rate=0.5;, score=(train=0.956, test=0.952) total time=   3.7s\n",
      "[CV 3/5] END depth=1, iterations=100, learning_rate=0.5;, score=(train=0.956, test=0.954) total time=   3.7s\n",
      "[CV 4/5] END depth=1, iterations=100, learning_rate=0.5;, score=(train=0.957, test=0.950) total time=   3.7s\n",
      "[CV 5/5] END depth=1, iterations=100, learning_rate=0.5;, score=(train=0.955, test=0.955) total time=   3.6s\n",
      "[CV 1/5] END depth=1, iterations=200, learning_rate=None;, score=(train=0.929, test=0.924) total time=   4.6s\n",
      "[CV 2/5] END depth=1, iterations=200, learning_rate=None;, score=(train=0.928, test=0.919) total time=   4.5s\n",
      "[CV 3/5] END depth=1, iterations=200, learning_rate=None;, score=(train=0.928, test=0.929) total time=   4.6s\n",
      "[CV 4/5] END depth=1, iterations=200, learning_rate=None;, score=(train=0.933, test=0.923) total time=   4.5s\n",
      "[CV 5/5] END depth=1, iterations=200, learning_rate=None;, score=(train=0.928, test=0.929) total time=   4.6s\n",
      "[CV 1/5] END depth=1, iterations=200, learning_rate=0.05;, score=(train=0.838, test=0.835) total time=   4.7s\n",
      "[CV 2/5] END depth=1, iterations=200, learning_rate=0.05;, score=(train=0.843, test=0.839) total time=   4.5s\n",
      "[CV 3/5] END depth=1, iterations=200, learning_rate=0.05;, score=(train=0.842, test=0.846) total time=   4.5s\n",
      "[CV 4/5] END depth=1, iterations=200, learning_rate=0.05;, score=(train=0.846, test=0.839) total time=   4.6s\n",
      "[CV 5/5] END depth=1, iterations=200, learning_rate=0.05;, score=(train=0.845, test=0.846) total time=   4.6s\n",
      "[CV 1/5] END depth=1, iterations=200, learning_rate=0.1;, score=(train=0.879, test=0.879) total time=   4.4s\n",
      "[CV 2/5] END depth=1, iterations=200, learning_rate=0.1;, score=(train=0.879, test=0.874) total time=   4.6s\n",
      "[CV 3/5] END depth=1, iterations=200, learning_rate=0.1;, score=(train=0.880, test=0.879) total time=   4.5s\n",
      "[CV 4/5] END depth=1, iterations=200, learning_rate=0.1;, score=(train=0.882, test=0.872) total time=   4.6s\n",
      "[CV 5/5] END depth=1, iterations=200, learning_rate=0.1;, score=(train=0.878, test=0.881) total time=   4.6s\n",
      "[CV 1/5] END depth=1, iterations=200, learning_rate=0.5;, score=(train=0.955, test=0.952) total time=   4.6s\n",
      "[CV 2/5] END depth=1, iterations=200, learning_rate=0.5;, score=(train=0.956, test=0.953) total time=   4.5s\n",
      "[CV 3/5] END depth=1, iterations=200, learning_rate=0.5;, score=(train=0.955, test=0.951) total time=   4.6s\n",
      "[CV 4/5] END depth=1, iterations=200, learning_rate=0.5;, score=(train=0.955, test=0.953) total time=   4.6s\n",
      "[CV 5/5] END depth=1, iterations=200, learning_rate=0.5;, score=(train=0.954, test=0.953) total time=   5.3s\n",
      "[CV 1/5] END depth=5, iterations=None, learning_rate=None;, score=(train=0.978, test=0.972) total time=  16.2s\n",
      "[CV 2/5] END depth=5, iterations=None, learning_rate=None;, score=(train=0.978, test=0.976) total time=  15.4s\n",
      "[CV 3/5] END depth=5, iterations=None, learning_rate=None;, score=(train=0.979, test=0.973) total time=  15.0s\n",
      "[CV 4/5] END depth=5, iterations=None, learning_rate=None;, score=(train=0.979, test=0.971) total time=  14.5s\n",
      "[CV 5/5] END depth=5, iterations=None, learning_rate=None;, score=(train=0.978, test=0.977) total time=  14.6s\n",
      "[CV 1/5] END depth=5, iterations=None, learning_rate=0.05;, score=(train=0.982, test=0.975) total time=  15.6s\n",
      "[CV 2/5] END depth=5, iterations=None, learning_rate=0.05;, score=(train=0.981, test=0.980) total time=  14.9s\n",
      "[CV 3/5] END depth=5, iterations=None, learning_rate=0.05;, score=(train=0.981, test=0.978) total time=  15.1s\n",
      "[CV 4/5] END depth=5, iterations=None, learning_rate=0.05;, score=(train=0.982, test=0.975) total time=  14.8s\n",
      "[CV 5/5] END depth=5, iterations=None, learning_rate=0.05;, score=(train=0.981, test=0.981) total time=  14.5s\n",
      "[CV 1/5] END depth=5, iterations=None, learning_rate=0.1;, score=(train=0.984, test=0.977) total time=  14.5s\n",
      "[CV 2/5] END depth=5, iterations=None, learning_rate=0.1;, score=(train=0.982, test=0.984) total time=  14.6s\n",
      "[CV 3/5] END depth=5, iterations=None, learning_rate=0.1;, score=(train=0.983, test=0.980) total time=  14.5s\n",
      "[CV 4/5] END depth=5, iterations=None, learning_rate=0.1;, score=(train=0.984, test=0.977) total time=  14.6s\n",
      "[CV 5/5] END depth=5, iterations=None, learning_rate=0.1;, score=(train=0.982, test=0.983) total time=  15.3s\n",
      "[CV 1/5] END depth=5, iterations=None, learning_rate=0.5;, score=(train=0.989, test=0.979) total time=  13.8s\n",
      "[CV 2/5] END depth=5, iterations=None, learning_rate=0.5;, score=(train=0.987, test=0.986) total time=  13.7s\n",
      "[CV 3/5] END depth=5, iterations=None, learning_rate=0.5;, score=(train=0.987, test=0.982) total time=  13.7s\n",
      "[CV 4/5] END depth=5, iterations=None, learning_rate=0.5;, score=(train=0.988, test=0.981) total time=  13.5s\n",
      "[CV 5/5] END depth=5, iterations=None, learning_rate=0.5;, score=(train=0.988, test=0.985) total time=  13.2s\n",
      "[CV 1/5] END depth=5, iterations=100, learning_rate=None;, score=(train=0.976, test=0.970) total time=   4.1s\n",
      "[CV 2/5] END depth=5, iterations=100, learning_rate=None;, score=(train=0.975, test=0.971) total time=   4.0s\n",
      "[CV 3/5] END depth=5, iterations=100, learning_rate=None;, score=(train=0.975, test=0.969) total time=   4.0s\n",
      "[CV 4/5] END depth=5, iterations=100, learning_rate=None;, score=(train=0.977, test=0.968) total time=   4.0s\n",
      "[CV 5/5] END depth=5, iterations=100, learning_rate=None;, score=(train=0.975, test=0.975) total time=   3.9s\n",
      "[CV 1/5] END depth=5, iterations=100, learning_rate=0.05;, score=(train=0.907, test=0.906) total time=   4.0s\n",
      "[CV 2/5] END depth=5, iterations=100, learning_rate=0.05;, score=(train=0.905, test=0.897) total time=   4.0s\n",
      "[CV 3/5] END depth=5, iterations=100, learning_rate=0.05;, score=(train=0.901, test=0.900) total time=   4.0s\n"
     ]
    },
    {
     "name": "stdout",
     "output_type": "stream",
     "text": [
      "[CV 4/5] END depth=5, iterations=100, learning_rate=0.05;, score=(train=0.903, test=0.894) total time=   3.9s\n",
      "[CV 5/5] END depth=5, iterations=100, learning_rate=0.05;, score=(train=0.906, test=0.908) total time=   3.7s\n",
      "[CV 1/5] END depth=5, iterations=100, learning_rate=0.1;, score=(train=0.945, test=0.940) total time=   3.7s\n",
      "[CV 2/5] END depth=5, iterations=100, learning_rate=0.1;, score=(train=0.946, test=0.939) total time=   3.8s\n",
      "[CV 3/5] END depth=5, iterations=100, learning_rate=0.1;, score=(train=0.946, test=0.943) total time=   3.8s\n",
      "[CV 4/5] END depth=5, iterations=100, learning_rate=0.1;, score=(train=0.945, test=0.939) total time=   3.8s\n",
      "[CV 5/5] END depth=5, iterations=100, learning_rate=0.1;, score=(train=0.944, test=0.942) total time=   4.1s\n",
      "[CV 1/5] END depth=5, iterations=100, learning_rate=0.5;, score=(train=0.982, test=0.976) total time=   4.4s\n",
      "[CV 2/5] END depth=5, iterations=100, learning_rate=0.5;, score=(train=0.982, test=0.979) total time=   3.8s\n",
      "[CV 3/5] END depth=5, iterations=100, learning_rate=0.5;, score=(train=0.981, test=0.976) total time=   3.7s\n",
      "[CV 4/5] END depth=5, iterations=100, learning_rate=0.5;, score=(train=0.983, test=0.975) total time=   3.7s\n",
      "[CV 5/5] END depth=5, iterations=100, learning_rate=0.5;, score=(train=0.980, test=0.981) total time=   3.7s\n",
      "[CV 1/5] END depth=5, iterations=200, learning_rate=None;, score=(train=0.978, test=0.971) total time=   4.8s\n",
      "[CV 2/5] END depth=5, iterations=200, learning_rate=None;, score=(train=0.976, test=0.973) total time=   4.8s\n",
      "[CV 3/5] END depth=5, iterations=200, learning_rate=None;, score=(train=0.977, test=0.969) total time=   4.8s\n",
      "[CV 4/5] END depth=5, iterations=200, learning_rate=None;, score=(train=0.978, test=0.969) total time=   4.8s\n",
      "[CV 5/5] END depth=5, iterations=200, learning_rate=None;, score=(train=0.977, test=0.977) total time=   4.9s\n",
      "[CV 1/5] END depth=5, iterations=200, learning_rate=0.05;, score=(train=0.945, test=0.939) total time=   4.7s\n",
      "[CV 2/5] END depth=5, iterations=200, learning_rate=0.05;, score=(train=0.946, test=0.939) total time=   4.8s\n",
      "[CV 3/5] END depth=5, iterations=200, learning_rate=0.05;, score=(train=0.943, test=0.940) total time=   4.8s\n",
      "[CV 4/5] END depth=5, iterations=200, learning_rate=0.05;, score=(train=0.945, test=0.939) total time=   4.8s\n",
      "[CV 5/5] END depth=5, iterations=200, learning_rate=0.05;, score=(train=0.944, test=0.941) total time=   4.8s\n",
      "[CV 1/5] END depth=5, iterations=200, learning_rate=0.1;, score=(train=0.967, test=0.961) total time=   4.7s\n",
      "[CV 2/5] END depth=5, iterations=200, learning_rate=0.1;, score=(train=0.968, test=0.961) total time=   4.8s\n",
      "[CV 3/5] END depth=5, iterations=200, learning_rate=0.1;, score=(train=0.967, test=0.964) total time=   4.8s\n",
      "[CV 4/5] END depth=5, iterations=200, learning_rate=0.1;, score=(train=0.967, test=0.960) total time=   4.8s\n",
      "[CV 5/5] END depth=5, iterations=200, learning_rate=0.1;, score=(train=0.967, test=0.966) total time=   4.9s\n",
      "[CV 1/5] END depth=5, iterations=200, learning_rate=0.5;, score=(train=0.984, test=0.978) total time=   4.8s\n",
      "[CV 2/5] END depth=5, iterations=200, learning_rate=0.5;, score=(train=0.983, test=0.983) total time=   4.8s\n",
      "[CV 3/5] END depth=5, iterations=200, learning_rate=0.5;, score=(train=0.983, test=0.979) total time=   4.7s\n",
      "[CV 4/5] END depth=5, iterations=200, learning_rate=0.5;, score=(train=0.985, test=0.978) total time=   4.8s\n",
      "[CV 5/5] END depth=5, iterations=200, learning_rate=0.5;, score=(train=0.983, test=0.983) total time=   4.8s\n",
      "[CV 1/5] END depth=10, iterations=None, learning_rate=None;, score=(train=0.984, test=0.975) total time=  39.6s\n",
      "[CV 2/5] END depth=10, iterations=None, learning_rate=None;, score=(train=0.982, test=0.981) total time=  40.2s\n",
      "[CV 3/5] END depth=10, iterations=None, learning_rate=None;, score=(train=0.983, test=0.979) total time=  40.2s\n",
      "[CV 4/5] END depth=10, iterations=None, learning_rate=None;, score=(train=0.984, test=0.977) total time=  42.3s\n",
      "[CV 5/5] END depth=10, iterations=None, learning_rate=None;, score=(train=0.982, test=0.982) total time=  41.8s\n",
      "[CV 1/5] END depth=10, iterations=None, learning_rate=0.05;, score=(train=0.984, test=0.977) total time=  41.3s\n",
      "[CV 2/5] END depth=10, iterations=None, learning_rate=0.05;, score=(train=0.983, test=0.983) total time=  41.2s\n",
      "[CV 3/5] END depth=10, iterations=None, learning_rate=0.05;, score=(train=0.983, test=0.980) total time=  40.1s\n",
      "[CV 4/5] END depth=10, iterations=None, learning_rate=0.05;, score=(train=0.984, test=0.977) total time=  40.4s\n",
      "[CV 5/5] END depth=10, iterations=None, learning_rate=0.05;, score=(train=0.983, test=0.983) total time=  40.1s\n",
      "[CV 1/5] END depth=10, iterations=None, learning_rate=0.1;, score=(train=0.988, test=0.977) total time=  39.3s\n",
      "[CV 2/5] END depth=10, iterations=None, learning_rate=0.1;, score=(train=0.985, test=0.984) total time=  39.7s\n",
      "[CV 3/5] END depth=10, iterations=None, learning_rate=0.1;, score=(train=0.986, test=0.981) total time=  38.8s\n",
      "[CV 4/5] END depth=10, iterations=None, learning_rate=0.1;, score=(train=0.986, test=0.978) total time=  41.1s\n",
      "[CV 5/5] END depth=10, iterations=None, learning_rate=0.1;, score=(train=0.985, test=0.986) total time=  41.1s\n",
      "[CV 1/5] END depth=10, iterations=None, learning_rate=0.5;, score=(train=0.991, test=0.981) total time=  35.9s\n",
      "[CV 2/5] END depth=10, iterations=None, learning_rate=0.5;, score=(train=0.989, test=0.986) total time=  35.2s\n",
      "[CV 3/5] END depth=10, iterations=None, learning_rate=0.5;, score=(train=0.990, test=0.982) total time=  35.0s\n",
      "[CV 4/5] END depth=10, iterations=None, learning_rate=0.5;, score=(train=0.990, test=0.980) total time=  34.4s\n",
      "[CV 5/5] END depth=10, iterations=None, learning_rate=0.5;, score=(train=0.989, test=0.985) total time=  34.3s\n",
      "[CV 1/5] END depth=10, iterations=100, learning_rate=None;, score=(train=0.983, test=0.977) total time=   6.5s\n",
      "[CV 2/5] END depth=10, iterations=100, learning_rate=None;, score=(train=0.982, test=0.980) total time=   6.3s\n",
      "[CV 3/5] END depth=10, iterations=100, learning_rate=None;, score=(train=0.983, test=0.978) total time=   6.5s\n",
      "[CV 4/5] END depth=10, iterations=100, learning_rate=None;, score=(train=0.983, test=0.975) total time=   6.6s\n",
      "[CV 5/5] END depth=10, iterations=100, learning_rate=None;, score=(train=0.982, test=0.981) total time=   7.2s\n",
      "[CV 1/5] END depth=10, iterations=100, learning_rate=0.05;, score=(train=0.939, test=0.933) total time=   6.5s\n",
      "[CV 2/5] END depth=10, iterations=100, learning_rate=0.05;, score=(train=0.941, test=0.932) total time=   6.5s\n",
      "[CV 3/5] END depth=10, iterations=100, learning_rate=0.05;, score=(train=0.942, test=0.936) total time=   6.4s\n",
      "[CV 4/5] END depth=10, iterations=100, learning_rate=0.05;, score=(train=0.941, test=0.935) total time=   6.5s\n",
      "[CV 5/5] END depth=10, iterations=100, learning_rate=0.05;, score=(train=0.940, test=0.934) total time=   6.4s\n",
      "[CV 1/5] END depth=10, iterations=100, learning_rate=0.1;, score=(train=0.962, test=0.954) total time=   6.4s\n",
      "[CV 2/5] END depth=10, iterations=100, learning_rate=0.1;, score=(train=0.965, test=0.956) total time=   6.5s\n",
      "[CV 3/5] END depth=10, iterations=100, learning_rate=0.1;, score=(train=0.964, test=0.959) total time=   6.5s\n",
      "[CV 4/5] END depth=10, iterations=100, learning_rate=0.1;, score=(train=0.963, test=0.957) total time=   6.5s\n",
      "[CV 5/5] END depth=10, iterations=100, learning_rate=0.1;, score=(train=0.962, test=0.960) total time=   6.5s\n",
      "[CV 1/5] END depth=10, iterations=100, learning_rate=0.5;, score=(train=0.986, test=0.977) total time=   6.5s\n",
      "[CV 2/5] END depth=10, iterations=100, learning_rate=0.5;, score=(train=0.984, test=0.983) total time=   6.5s\n",
      "[CV 3/5] END depth=10, iterations=100, learning_rate=0.5;, score=(train=0.985, test=0.981) total time=   6.4s\n",
      "[CV 4/5] END depth=10, iterations=100, learning_rate=0.5;, score=(train=0.985, test=0.977) total time=   6.4s\n",
      "[CV 5/5] END depth=10, iterations=100, learning_rate=0.5;, score=(train=0.984, test=0.983) total time=   6.5s\n",
      "[CV 1/5] END depth=10, iterations=200, learning_rate=None;, score=(train=0.983, test=0.976) total time=  10.3s\n",
      "[CV 2/5] END depth=10, iterations=200, learning_rate=None;, score=(train=0.982, test=0.981) total time=  10.5s\n",
      "[CV 3/5] END depth=10, iterations=200, learning_rate=None;, score=(train=0.983, test=0.979) total time=  10.3s\n"
     ]
    },
    {
     "name": "stdout",
     "output_type": "stream",
     "text": [
      "[CV 4/5] END depth=10, iterations=200, learning_rate=None;, score=(train=0.983, test=0.977) total time=  10.8s\n",
      "[CV 5/5] END depth=10, iterations=200, learning_rate=None;, score=(train=0.982, test=0.981) total time=  10.5s\n",
      "[CV 1/5] END depth=10, iterations=200, learning_rate=0.05;, score=(train=0.963, test=0.956) total time=  10.4s\n",
      "[CV 2/5] END depth=10, iterations=200, learning_rate=0.05;, score=(train=0.964, test=0.956) total time=  10.4s\n",
      "[CV 3/5] END depth=10, iterations=200, learning_rate=0.05;, score=(train=0.963, test=0.957) total time=  10.3s\n",
      "[CV 4/5] END depth=10, iterations=200, learning_rate=0.05;, score=(train=0.964, test=0.958) total time=  10.5s\n",
      "[CV 5/5] END depth=10, iterations=200, learning_rate=0.05;, score=(train=0.963, test=0.961) total time=  10.3s\n",
      "[CV 1/5] END depth=10, iterations=200, learning_rate=0.1;, score=(train=0.980, test=0.970) total time=  10.4s\n",
      "[CV 2/5] END depth=10, iterations=200, learning_rate=0.1;, score=(train=0.979, test=0.976) total time=  10.4s\n",
      "[CV 3/5] END depth=10, iterations=200, learning_rate=0.1;, score=(train=0.980, test=0.975) total time=  10.3s\n",
      "[CV 4/5] END depth=10, iterations=200, learning_rate=0.1;, score=(train=0.980, test=0.970) total time=  10.5s\n",
      "[CV 5/5] END depth=10, iterations=200, learning_rate=0.1;, score=(train=0.980, test=0.979) total time=  10.5s\n",
      "[CV 1/5] END depth=10, iterations=200, learning_rate=0.5;, score=(train=0.988, test=0.978) total time=  10.2s\n",
      "[CV 2/5] END depth=10, iterations=200, learning_rate=0.5;, score=(train=0.987, test=0.984) total time=  10.2s\n",
      "[CV 3/5] END depth=10, iterations=200, learning_rate=0.5;, score=(train=0.986, test=0.983) total time=  10.0s\n",
      "[CV 4/5] END depth=10, iterations=200, learning_rate=0.5;, score=(train=0.987, test=0.978) total time=  10.2s\n",
      "[CV 5/5] END depth=10, iterations=200, learning_rate=0.5;, score=(train=0.987, test=0.984) total time=  10.1s\n"
     ]
    },
    {
     "ename": "KeyError",
     "evalue": "'depth'",
     "output_type": "error",
     "traceback": [
      "\u001b[1;31m---------------------------------------------------------------------------\u001b[0m",
      "\u001b[1;31mKeyError\u001b[0m                                  Traceback (most recent call last)",
      "\u001b[1;32m~\\AppData\\Local\\Temp\\ipykernel_12544\\2244493720.py\u001b[0m in \u001b[0;36m<module>\u001b[1;34m\u001b[0m\n\u001b[0;32m     11\u001b[0m \u001b[1;33m\u001b[0m\u001b[0m\n\u001b[0;32m     12\u001b[0m \u001b[0mctb_model\u001b[0m \u001b[1;33m=\u001b[0m \u001b[0mGridSearchCV\u001b[0m\u001b[1;33m(\u001b[0m\u001b[0mctb\u001b[0m\u001b[1;33m,\u001b[0m \u001b[0mparams\u001b[0m\u001b[1;33m,\u001b[0m \u001b[0mscoring\u001b[0m\u001b[1;33m=\u001b[0m\u001b[0mscore\u001b[0m\u001b[1;33m,\u001b[0m \u001b[0mreturn_train_score\u001b[0m\u001b[1;33m=\u001b[0m\u001b[1;32mTrue\u001b[0m\u001b[1;33m,\u001b[0m \u001b[0mverbose\u001b[0m\u001b[1;33m=\u001b[0m\u001b[1;36m2.1\u001b[0m\u001b[1;33m)\u001b[0m\u001b[1;33m\u001b[0m\u001b[1;33m\u001b[0m\u001b[0m\n\u001b[1;32m---> 13\u001b[1;33m \u001b[0mctb_model\u001b[0m\u001b[1;33m.\u001b[0m\u001b[0mfit\u001b[0m\u001b[1;33m(\u001b[0m\u001b[0mX_train_res\u001b[0m\u001b[1;33m,\u001b[0m \u001b[0my_train_res\u001b[0m\u001b[1;33m)\u001b[0m\u001b[1;33m\u001b[0m\u001b[1;33m\u001b[0m\u001b[0m\n\u001b[0m\u001b[0;32m     14\u001b[0m \u001b[0mprint\u001b[0m\u001b[1;33m(\u001b[0m\u001b[0mctb_model\u001b[0m\u001b[1;33m.\u001b[0m\u001b[0mbest_params_\u001b[0m\u001b[1;33m)\u001b[0m\u001b[1;33m\u001b[0m\u001b[1;33m\u001b[0m\u001b[0m\n\u001b[0;32m     15\u001b[0m \u001b[0mprint\u001b[0m\u001b[1;33m(\u001b[0m\u001b[0mctb_model\u001b[0m\u001b[1;33m.\u001b[0m\u001b[0mbest_score_\u001b[0m\u001b[1;33m)\u001b[0m\u001b[1;33m\u001b[0m\u001b[1;33m\u001b[0m\u001b[0m\n",
      "\u001b[1;32m~\\Anaconda3\\lib\\site-packages\\sklearn\\model_selection\\_search.py\u001b[0m in \u001b[0;36mfit\u001b[1;34m(self, X, y, groups, **fit_params)\u001b[0m\n\u001b[0;32m    919\u001b[0m             \u001b[1;31m# we clone again after setting params in case some\u001b[0m\u001b[1;33m\u001b[0m\u001b[1;33m\u001b[0m\u001b[0m\n\u001b[0;32m    920\u001b[0m             \u001b[1;31m# of the params are estimators as well.\u001b[0m\u001b[1;33m\u001b[0m\u001b[1;33m\u001b[0m\u001b[0m\n\u001b[1;32m--> 921\u001b[1;33m             self.best_estimator_ = clone(\n\u001b[0m\u001b[0;32m    922\u001b[0m                 \u001b[0mclone\u001b[0m\u001b[1;33m(\u001b[0m\u001b[0mbase_estimator\u001b[0m\u001b[1;33m)\u001b[0m\u001b[1;33m.\u001b[0m\u001b[0mset_params\u001b[0m\u001b[1;33m(\u001b[0m\u001b[1;33m**\u001b[0m\u001b[0mself\u001b[0m\u001b[1;33m.\u001b[0m\u001b[0mbest_params_\u001b[0m\u001b[1;33m)\u001b[0m\u001b[1;33m\u001b[0m\u001b[1;33m\u001b[0m\u001b[0m\n\u001b[0;32m    923\u001b[0m             )\n",
      "\u001b[1;32m~\\Anaconda3\\lib\\site-packages\\sklearn\\base.py\u001b[0m in \u001b[0;36mclone\u001b[1;34m(estimator, safe)\u001b[0m\n\u001b[0;32m     91\u001b[0m     \u001b[1;32mfor\u001b[0m \u001b[0mname\u001b[0m \u001b[1;32min\u001b[0m \u001b[0mnew_object_params\u001b[0m\u001b[1;33m:\u001b[0m\u001b[1;33m\u001b[0m\u001b[1;33m\u001b[0m\u001b[0m\n\u001b[0;32m     92\u001b[0m         \u001b[0mparam1\u001b[0m \u001b[1;33m=\u001b[0m \u001b[0mnew_object_params\u001b[0m\u001b[1;33m[\u001b[0m\u001b[0mname\u001b[0m\u001b[1;33m]\u001b[0m\u001b[1;33m\u001b[0m\u001b[1;33m\u001b[0m\u001b[0m\n\u001b[1;32m---> 93\u001b[1;33m         \u001b[0mparam2\u001b[0m \u001b[1;33m=\u001b[0m \u001b[0mparams_set\u001b[0m\u001b[1;33m[\u001b[0m\u001b[0mname\u001b[0m\u001b[1;33m]\u001b[0m\u001b[1;33m\u001b[0m\u001b[1;33m\u001b[0m\u001b[0m\n\u001b[0m\u001b[0;32m     94\u001b[0m         \u001b[1;32mif\u001b[0m \u001b[0mparam1\u001b[0m \u001b[1;32mis\u001b[0m \u001b[1;32mnot\u001b[0m \u001b[0mparam2\u001b[0m\u001b[1;33m:\u001b[0m\u001b[1;33m\u001b[0m\u001b[1;33m\u001b[0m\u001b[0m\n\u001b[0;32m     95\u001b[0m             raise RuntimeError(\n",
      "\u001b[1;31mKeyError\u001b[0m: 'depth'"
     ]
    }
   ],
   "source": [
    "from catboost import CatBoostClassifier\n",
    "from sklearn.model_selection import GridSearchCV\n",
    "from sklearn.model_selection import RandomizedSearchCV\n",
    "\n",
    "params = {'depth': [None, 1, 5, 10],\n",
    "          'learning_rate' : [None, 0.05, 0.1, 0.5],\n",
    "          'iterations'    : [None, 100, 200]\n",
    "         }\n",
    "\n",
    "ctb = CatBoostClassifier(random_state=42, verbose=False)\n",
    "\n",
    "ctb_model = GridSearchCV(ctb, params, scoring=score, return_train_score=True, verbose=2.1)\n",
    "ctb_model.fit(X_train_res, y_train_res)\n",
    "print(ctb_model.best_params_)\n",
    "print(ctb_model.best_score_)"
   ]
  },
  {
   "cell_type": "code",
   "execution_count": 257,
   "id": "f3fed197",
   "metadata": {},
   "outputs": [
    {
     "name": "stdout",
     "output_type": "stream",
     "text": [
      "{'depth': None, 'iterations': None, 'learning_rate': 0.5}\n",
      "0.9830342282023323\n"
     ]
    }
   ],
   "source": [
    "print(ctb_model.best_params_)\n",
    "print(ctb_model.best_score_)"
   ]
  },
  {
   "cell_type": "code",
   "execution_count": 258,
   "id": "1677b441",
   "metadata": {},
   "outputs": [],
   "source": [
    "clf = CatBoostClassifier(random_state=42, verbose=False,\n",
    "                        depth= None, iterations= 200, learning_rate= 0.5)"
   ]
  },
  {
   "cell_type": "code",
   "execution_count": 259,
   "id": "d8d6150c",
   "metadata": {},
   "outputs": [],
   "source": [
    "model_ctb = clf.fit(X_train_res, y_train_res)"
   ]
  },
  {
   "cell_type": "code",
   "execution_count": 260,
   "id": "471d359d",
   "metadata": {},
   "outputs": [
    {
     "name": "stdout",
     "output_type": "stream",
     "text": [
      "roc_auc_score на трейне: 0.99\n",
      "roc_auc_score на тесте: 0.97\n"
     ]
    }
   ],
   "source": [
    "from sklearn.metrics import f1_score, confusion_matrix, roc_auc_score, roc_curve, ConfusionMatrixDisplay\n",
    "\n",
    "print (f\"roc_auc_score на трейне: {round(roc_auc_score(y_train_res, model_ctb.predict(X_train_res)), 2)}\")\n",
    "print (f\"roc_auc_score на тесте: {round(roc_auc_score(ytest, model_ctb.predict(Xtest)), 2)}\")"
   ]
  },
  {
   "cell_type": "code",
   "execution_count": 261,
   "id": "01ccaced",
   "metadata": {},
   "outputs": [
    {
     "name": "stdout",
     "output_type": "stream",
     "text": [
      "f1_score на трейне: 0.98\n",
      "f1_score на тесте: 0.58\n"
     ]
    }
   ],
   "source": [
    "print (f\"f1_score на трейне: {round(fbeta_score(y_train_res, model_ctb.predict(X_train_res), beta=0.2), 2)}\")\n",
    "print (f\"f1_score на тесте: {round(fbeta_score(ytest, model_ctb.predict(Xtest), beta=0.2), 2)}\")"
   ]
  },
  {
   "cell_type": "code",
   "execution_count": 226,
   "id": "3567e470",
   "metadata": {},
   "outputs": [],
   "source": [
    "# сильно переобучилась под трейн"
   ]
  },
  {
   "cell_type": "code",
   "execution_count": 262,
   "id": "aff677f2",
   "metadata": {},
   "outputs": [
    {
     "name": "stdout",
     "output_type": "stream",
     "text": [
      "model AUC score: 0.968963506312601\n"
     ]
    },
    {
     "data": {
      "image/png": "[encoded data removed]",
      "text/plain": [
       "<Figure size 640x480 with 1 Axes>"
      ]
     },
     "metadata": {},
     "output_type": "display_data"
    }
   ],
   "source": [
    "plot_roc_curve(ytest, model_ctb.predict(Xtest))\n",
    "print(f'model AUC score: {roc_auc_score(ytest, model_ctb.predict(Xtest))}')"
   ]
  },
  {
   "cell_type": "code",
   "execution_count": 263,
   "id": "614e5e64",
   "metadata": {},
   "outputs": [
    {
     "data": {
      "image/png": "[encoded data removed]",
      "text/plain": [
       "<Figure size 640x480 with 2 Axes>"
      ]
     },
     "metadata": {},
     "output_type": "display_data"
    }
   ],
   "source": [
    "confusion_matrix = confusion_matrix(ytest, model_ctb.predict(Xtest))\n",
    "\n",
    "cm_display = ConfusionMatrixDisplay(confusion_matrix = confusion_matrix, display_labels = [False, True])\n",
    "\n",
    "cm_display.plot()\n",
    "plt.show()\n",
    "# много ошибается на определении аноималии"
   ]
  },
  {
   "cell_type": "code",
   "execution_count": 265,
   "id": "a29f7a40",
   "metadata": {},
   "outputs": [],
   "source": [
    "feat = pd.DataFrame(model_ctb.feature_importances_,\n",
    "            columns=['coefs'])\n",
    "feat['features'] = list(X_new.drop(['addr', 'anomaly'], axis=1).columns)"
   ]
  },
  {
   "cell_type": "code",
   "execution_count": 266,
   "id": "09d50dfc",
   "metadata": {},
   "outputs": [],
   "source": [
    "feat = feat.sort_values('coefs', ascending=False).head(20)"
   ]
  },
  {
   "cell_type": "code",
   "execution_count": 267,
   "id": "bd2399c6",
   "metadata": {},
   "outputs": [
    {
     "data": {
      "text/plain": [
       "<function matplotlib.pyplot.show(close=None, block=None)>"
      ]
     },
     "execution_count": 267,
     "metadata": {},
     "output_type": "execute_result"
    },
    {
     "data": {
      "image/png": "[encoded data removed]",
      "text/plain": [
       "<Figure size 640x480 with 1 Axes>"
      ]
     },
     "metadata": {},
     "output_type": "display_data"
    }
   ],
   "source": [
    "plt.bar(feat['features'], feat['coefs'])\n",
    "plt.xlabel('Features')\n",
    "plt.ylabel('Importance')\n",
    "plt.xticks(rotation=75)\n",
    "plt.show"
   ]
  },
  {
   "cell_type": "code",
   "execution_count": 21,
   "id": "91f28602",
   "metadata": {},
   "outputs": [],
   "source": [
    "import pickle\n",
    "pickle.dump(model, open('ctb_model.pkl', 'wb'))"
   ]
  },
  {
   "cell_type": "code",
   "execution_count": 22,
   "id": "c0b26a36",
   "metadata": {},
   "outputs": [
    {
     "data": {
      "text/plain": [
       "['std_scaler.bin']"
      ]
     },
     "execution_count": 22,
     "metadata": {},
     "output_type": "execute_result"
    }
   ],
   "source": [
    "import joblib\n",
    "\n",
    "joblib.dump(scaler, 'std_scaler.bin', compress=True)"
   ]
  },
  {
   "cell_type": "markdown",
   "id": "58ac7ece",
   "metadata": {},
   "source": [
    "# Итерация 2\n",
    "\n",
    "max_depth поставить меньше"
   ]
  },
  {
   "cell_type": "code",
   "execution_count": 268,
   "id": "232b2883",
   "metadata": {
    "scrolled": true
   },
   "outputs": [
    {
     "name": "stdout",
     "output_type": "stream",
     "text": [
      "{'criterion': 'gini', 'max_depth': 8, 'max_features': 'log2', 'n_estimators': 500}\n",
      "0.8740421405893384\n"
     ]
    }
   ],
   "source": [
    "from sklearn.ensemble import RandomForestClassifier\n",
    "\n",
    "params = { \n",
    "    'n_estimators': [200, 500],\n",
    "    'max_features': ['auto', 'sqrt', 'log2'],\n",
    "    'max_depth' : [4,5,6,7,8],\n",
    "    'criterion' :['gini', 'entropy']\n",
    "    }\n",
    "rfc = RandomForestClassifier(random_state=42)\n",
    "\n",
    "rfc_model = GridSearchCV(rfc, params, scoring=score)\n",
    "rfc_model.fit(X_train_res, y_train_res)\n",
    "print(rfc_model.best_params_)\n",
    "print(rfc_model.best_score_)"
   ]
  },
  {
   "cell_type": "code",
   "execution_count": 269,
   "id": "79ae5283",
   "metadata": {},
   "outputs": [],
   "source": [
    "clf = RandomForestClassifier(random_state=42, criterion = 'gini',\n",
    "                            max_depth= 8, max_features = 'log2', n_estimators = 500)"
   ]
  },
  {
   "cell_type": "code",
   "execution_count": 270,
   "id": "b9e5543b",
   "metadata": {},
   "outputs": [],
   "source": [
    "model_rfc = clf.fit(X_train_res, y_train_res)"
   ]
  },
  {
   "cell_type": "code",
   "execution_count": 271,
   "id": "b508ebbf",
   "metadata": {},
   "outputs": [
    {
     "name": "stdout",
     "output_type": "stream",
     "text": [
      "roc_auc_score на трейне: 0.93\n",
      "roc_auc_score на тесте: 0.92\n"
     ]
    }
   ],
   "source": [
    "print (f\"roc_auc_score на трейне: {round(roc_auc_score(y_train_res, model_rfc.predict(X_train_res)), 2)}\")\n",
    "print (f\"roc_auc_score на тесте: {round(roc_auc_score(ytest, model_rfc.predict(Xtest)), 2)}\")"
   ]
  },
  {
   "cell_type": "code",
   "execution_count": 272,
   "id": "5b83dfbb",
   "metadata": {},
   "outputs": [
    {
     "name": "stdout",
     "output_type": "stream",
     "text": [
      "f1_score на трейне: 0.88\n",
      "f1_score на тесте: 0.16\n"
     ]
    }
   ],
   "source": [
    "print (f\"f1_score на трейне: {round(fbeta_score(y_train_res, model_rfc.predict(X_train_res), beta=0.2), 2)}\")\n",
    "print (f\"f1_score на тесте: {round(fbeta_score(ytest, model_rfc.predict(Xtest), beta=0.2), 2)}\")"
   ]
  },
  {
   "cell_type": "code",
   "execution_count": 191,
   "id": "388d55c9",
   "metadata": {},
   "outputs": [],
   "source": [
    "# получше катбуста, но также переобучилась"
   ]
  },
  {
   "cell_type": "markdown",
   "id": "56926017",
   "metadata": {},
   "source": [
    "# Итерация 3\n",
    "\n",
    "Посмотри, сколько вообще всего аномалий в тесте"
   ]
  },
  {
   "cell_type": "code",
   "execution_count": 273,
   "id": "66a5913f",
   "metadata": {},
   "outputs": [
    {
     "name": "stdout",
     "output_type": "stream",
     "text": [
      "{'penalty': 'l2'}\n",
      "0.9821773052010692\n"
     ]
    }
   ],
   "source": [
    "from sklearn.linear_model import LogisticRegression\n",
    "\n",
    "params = {\"penalty\":[\"none\",\"l2\",\"l1\"]}\n",
    "\n",
    "lr = LogisticRegression(random_state=42)\n",
    "\n",
    "lr_model = GridSearchCV(lr, params, scoring=score)\n",
    "lr_model.fit(X_train_res, y_train_res)\n",
    "print(lr_model.best_params_)\n",
    "print(lr_model.best_score_)"
   ]
  },
  {
   "cell_type": "code",
   "execution_count": 274,
   "id": "6ce40914",
   "metadata": {},
   "outputs": [],
   "source": [
    "clf = LogisticRegression(random_state=42, penalty= 'l2')\n",
    "model_lr = clf.fit(X_train_res, y_train_res)"
   ]
  },
  {
   "cell_type": "code",
   "execution_count": 275,
   "id": "125c91e8",
   "metadata": {},
   "outputs": [
    {
     "name": "stdout",
     "output_type": "stream",
     "text": [
      "roc_auc_score на трейне: 0.99\n",
      "roc_auc_score на тесте: 0.98\n",
      "f1_score на трейне: 0.98\n",
      "f1_score на тесте: 0.61\n"
     ]
    }
   ],
   "source": [
    "print (f\"roc_auc_score на трейне: {round(roc_auc_score(y_train_res, model_lr.predict(X_train_res)), 2)}\")\n",
    "print (f\"roc_auc_score на тесте: {round(roc_auc_score(ytest, model_lr.predict(Xtest)), 2)}\")\n",
    "print (f\"f1_score на трейне: {round(fbeta_score(y_train_res, model_lr.predict(X_train_res), beta=0.2), 2)}\")\n",
    "print (f\"f1_score на тесте: {round(fbeta_score(ytest, model_lr.predict(Xtest), beta=0.2), 2)}\")"
   ]
  },
  {
   "cell_type": "code",
   "execution_count": 296,
   "id": "90441ff0",
   "metadata": {},
   "outputs": [],
   "source": [
    "# здесь куда лучше результат"
   ]
  },
  {
   "cell_type": "code",
   "execution_count": 295,
   "id": "0b2b0563",
   "metadata": {},
   "outputs": [
    {
     "data": {
      "image/png": "[encoded data removed]",
      "text/plain": [
       "<Figure size 640x480 with 2 Axes>"
      ]
     },
     "metadata": {},
     "output_type": "display_data"
    }
   ],
   "source": [
    "from sklearn.metrics import f1_score, confusion_matrix, roc_auc_score, roc_curve, ConfusionMatrixDisplay\n",
    "\n",
    "\n",
    "confusion_matrix = confusion_matrix(ytest, model_lr.predict(Xtest))\n",
    "\n",
    "cm_display = ConfusionMatrixDisplay(confusion_matrix = confusion_matrix, display_labels = [False, True])\n",
    "\n",
    "cm_display.plot()\n",
    "plt.show()"
   ]
  },
  {
   "cell_type": "code",
   "execution_count": 301,
   "id": "4f0f6d05",
   "metadata": {},
   "outputs": [
    {
     "data": {
      "text/plain": [
       "<function matplotlib.pyplot.show(close=None, block=None)>"
      ]
     },
     "execution_count": 301,
     "metadata": {},
     "output_type": "execute_result"
    },
    {
     "data": {
      "image/png": "[encoded data removed]",
      "text/plain": [
       "<Figure size 640x480 with 1 Axes>"
      ]
     },
     "metadata": {},
     "output_type": "display_data"
    }
   ],
   "source": [
    "feat = pd.DataFrame(model_lr.coef_[0],\n",
    "            columns=['coefs'])\n",
    "feat['features'] = list(X_new.drop(['addr', 'anomaly'], axis=1).columns)\n",
    "feat = feat.sort_values('coefs', ascending=False).head(20)\n",
    "\n",
    "plt.bar(feat['features'], feat['coefs'])\n",
    "plt.xlabel('Features')\n",
    "plt.ylabel('Importance')\n",
    "plt.xticks(rotation=75)\n",
    "plt.show"
   ]
  },
  {
   "cell_type": "code",
   "execution_count": 309,
   "id": "7fdcea74",
   "metadata": {},
   "outputs": [],
   "source": [
    "C = pd.DataFrame(list(ytest), columns=['real'])\n",
    "C['preds'] = model_lr.predict(Xtest)"
   ]
  },
  {
   "cell_type": "code",
   "execution_count": 314,
   "id": "f1afce67",
   "metadata": {},
   "outputs": [
    {
     "data": {
      "text/plain": [
       "0.028169014084507043"
      ]
     },
     "execution_count": 314,
     "metadata": {},
     "output_type": "execute_result"
    }
   ],
   "source": [
    "len(C[(C['real']==1) & (C['preds']==0)]) / len(C[(C['real']==1)])\n",
    "# 3 процента выбросов не задетектировали"
   ]
  },
  {
   "cell_type": "code",
   "execution_count": 315,
   "id": "79649a1e",
   "metadata": {},
   "outputs": [
    {
     "data": {
      "text/plain": [
       "0.01805337519623234"
      ]
     },
     "execution_count": 315,
     "metadata": {},
     "output_type": "execute_result"
    }
   ],
   "source": [
    "len(C[(C['real']==0) & (C['preds']==1)]) / len(C[(C['real']==0)])\n",
    "# и два процента нормальных соединений"
   ]
  },
  {
   "cell_type": "code",
   "execution_count": 1,
   "id": "ee50073e",
   "metadata": {},
   "outputs": [
    {
     "ename": "NameError",
     "evalue": "name 'C' is not defined",
     "output_type": "error",
     "traceback": [
      "\u001b[1;31m---------------------------------------------------------------------------\u001b[0m",
      "\u001b[1;31mNameError\u001b[0m                                 Traceback (most recent call last)",
      "\u001b[1;32m~\\AppData\\Local\\Temp\\ipykernel_17720\\1954181124.py\u001b[0m in \u001b[0;36m<module>\u001b[1;34m\u001b[0m\n\u001b[1;32m----> 1\u001b[1;33m \u001b[0mlen\u001b[0m\u001b[1;33m(\u001b[0m\u001b[0mC\u001b[0m\u001b[1;33m[\u001b[0m\u001b[1;33m(\u001b[0m\u001b[0mC\u001b[0m\u001b[1;33m[\u001b[0m\u001b[1;34m'real'\u001b[0m\u001b[1;33m]\u001b[0m\u001b[1;33m==\u001b[0m\u001b[1;36m0\u001b[0m\u001b[1;33m)\u001b[0m \u001b[1;33m&\u001b[0m \u001b[1;33m(\u001b[0m\u001b[0mC\u001b[0m\u001b[1;33m[\u001b[0m\u001b[1;34m'preds'\u001b[0m\u001b[1;33m]\u001b[0m\u001b[1;33m==\u001b[0m\u001b[1;36m1\u001b[0m\u001b[1;33m)\u001b[0m\u001b[1;33m]\u001b[0m\u001b[1;33m)\u001b[0m \u001b[1;33m+\u001b[0m \u001b[0mlen\u001b[0m\u001b[1;33m(\u001b[0m\u001b[0mC\u001b[0m\u001b[1;33m[\u001b[0m\u001b[1;33m(\u001b[0m\u001b[0mC\u001b[0m\u001b[1;33m[\u001b[0m\u001b[1;34m'real'\u001b[0m\u001b[1;33m]\u001b[0m\u001b[1;33m==\u001b[0m\u001b[1;36m1\u001b[0m\u001b[1;33m)\u001b[0m \u001b[1;33m&\u001b[0m \u001b[1;33m(\u001b[0m\u001b[0mC\u001b[0m\u001b[1;33m[\u001b[0m\u001b[1;34m'preds'\u001b[0m\u001b[1;33m]\u001b[0m\u001b[1;33m==\u001b[0m\u001b[1;36m0\u001b[0m\u001b[1;33m)\u001b[0m\u001b[1;33m]\u001b[0m\u001b[1;33m)\u001b[0m\u001b[1;33m\u001b[0m\u001b[1;33m\u001b[0m\u001b[0m\n\u001b[0m",
      "\u001b[1;31mNameError\u001b[0m: name 'C' is not defined"
     ]
    }
   ],
   "source": [
    "len(C[(C['real']==0) & (C['preds']==1)]) + len(C[(C['real']==1) & (C['preds']==0)])"
   ]
  },
  {
   "cell_type": "markdown",
   "id": "ac2273c9",
   "metadata": {},
   "source": [
    "# Итерация 4\n",
    "\n",
    "Возможно, нормальная модель, но надо наоборот развернуть значения\n",
    "contamination - процент аномалий"
   ]
  },
  {
   "cell_type": "code",
   "execution_count": 276,
   "id": "316fd5da",
   "metadata": {},
   "outputs": [
    {
     "name": "stdout",
     "output_type": "stream",
     "text": [
      "{'contamination': 0.5, 'n_estimators': 200}\n",
      "0.18761915864176387\n"
     ]
    }
   ],
   "source": [
    "from pyod.models.inne import INNE\n",
    "\n",
    "params = {'n_estimators': [50,100,200,500]}\n",
    "\n",
    "inn = INNE(random_state=42)\n",
    "\n",
    "inn_model = GridSearchCV(inn, params, scoring=score)\n",
    "inn_model.fit(X_train_res, y_train_res)\n",
    "print(inn_model.best_params_)\n",
    "print(inn_model.best_score_)"
   ]
  },
  {
   "cell_type": "code",
   "execution_count": 277,
   "id": "adee6716",
   "metadata": {},
   "outputs": [],
   "source": [
    "clf = INNE(random_state=42, contamination= 0.5, n_estimators = 200)\n",
    "model_inn = clf.fit(X_train_res, y_train_res)"
   ]
  },
  {
   "cell_type": "code",
   "execution_count": 278,
   "id": "f9766478",
   "metadata": {},
   "outputs": [
    {
     "name": "stdout",
     "output_type": "stream",
     "text": [
      "roc_auc_score на трейне: 0.08\n",
      "roc_auc_score на тесте: 0.19\n",
      "f1_score на трейне: 0.08\n",
      "f1_score на тесте: 0.01\n"
     ]
    }
   ],
   "source": [
    "print (f\"roc_auc_score на трейне: {round(roc_auc_score(y_train_res, model_inn.predict(X_train_res)), 2)}\")\n",
    "print (f\"roc_auc_score на тесте: {round(roc_auc_score(ytest, model_inn.predict(Xtest)), 2)}\")\n",
    "print (f\"f1_score на трейне: {round(fbeta_score(y_train_res, model_inn.predict(X_train_res), beta=0.2), 2)}\")\n",
    "print (f\"f1_score на тесте: {round(fbeta_score(ytest, model_inn.predict(Xtest), beta=0.2), 2)}\")"
   ]
  },
  {
   "cell_type": "code",
   "execution_count": 55,
   "id": "ae83e800",
   "metadata": {},
   "outputs": [],
   "source": [
    "# здесь совсем слабо"
   ]
  },
  {
   "attachments": {
    "image.png": {
     "image/png": "[encoded data removed]"
    }
   },
   "cell_type": "markdown",
   "id": "b9c407a6",
   "metadata": {},
   "source": [
    "# Итог, \n",
    "\n",
    "лучше всего себя показал катбуст. Его и возьмем за основу, будем улучшать.\n",
    "\n",
    "![image.png](attachment:image.png)"
   ]
  },
  {
   "cell_type": "code",
   "execution_count": 279,
   "id": "f65945f4",
   "metadata": {},
   "outputs": [
    {
     "name": "stdout",
     "output_type": "stream",
     "text": [
      "{'contamination': 0.5, 'n_clusters': 100}\n",
      "0.376702289402906\n"
     ]
    }
   ],
   "source": [
    "from pyod.models.cblof import CBLOF\n",
    "\n",
    "params = {'n_clusters': [5,10,50,100],\n",
    "          'contamination' : [0.01,0.1,0.5]\n",
    "         }\n",
    "cblof = CBLOF(random_state=42)\n",
    "\n",
    "cblof_model = GridSearchCV(cblof, params, scoring=score)\n",
    "cblof_model.fit(X_train_res, y_train_res)\n",
    "print(cblof_model.best_params_)\n",
    "print(cblof_model.best_score_)"
   ]
  },
  {
   "cell_type": "code",
   "execution_count": 280,
   "id": "e27797c6",
   "metadata": {},
   "outputs": [],
   "source": [
    "clf = CBLOF(random_state=42, contamination= 0.5, n_clusters = 100)\n",
    "model_cblof = clf.fit(X_train_res, y_train_res)"
   ]
  },
  {
   "cell_type": "code",
   "execution_count": 281,
   "id": "be7e3e2b",
   "metadata": {},
   "outputs": [
    {
     "name": "stdout",
     "output_type": "stream",
     "text": [
      "roc_auc_score на трейне: 0.22\n",
      "roc_auc_score на тесте: 0.31\n",
      "f1_score на трейне: 0.22\n",
      "f1_score на тесте: 0.01\n"
     ]
    }
   ],
   "source": [
    "print (f\"roc_auc_score на трейне: {round(roc_auc_score(y_train_res, model_cblof.predict(X_train_res)), 2)}\")\n",
    "print (f\"roc_auc_score на тесте: {round(roc_auc_score(ytest, model_cblof.predict(Xtest)), 2)}\")\n",
    "print (f\"f1_score на трейне: {round(fbeta_score(y_train_res, model_cblof.predict(X_train_res), beta=0.2), 2)}\")\n",
    "print (f\"f1_score на тесте: {round(fbeta_score(ytest, model_cblof.predict(Xtest), beta=0.2), 2)}\")"
   ]
  },
  {
   "cell_type": "code",
   "execution_count": null,
   "id": "5f360433",
   "metadata": {},
   "outputs": [],
   "source": []
  },
  {
   "cell_type": "code",
   "execution_count": null,
   "id": "e5d7ca9c",
   "metadata": {},
   "outputs": [],
   "source": []
  },
  {
   "cell_type": "code",
   "execution_count": null,
   "id": "65edc43e",
   "metadata": {},
   "outputs": [],
   "source": []
  },
  {
   "cell_type": "code",
   "execution_count": null,
   "id": "35011bc5",
   "metadata": {},
   "outputs": [],
   "source": []
  },
  {
   "cell_type": "code",
   "execution_count": null,
   "id": "b524af1d",
   "metadata": {},
   "outputs": [],
   "source": []
  },
  {
   "cell_type": "code",
   "execution_count": 282,
   "id": "5a730d43",
   "metadata": {},
   "outputs": [
    {
     "name": "stdout",
     "output_type": "stream",
     "text": [
      "{'batch_size': 1000, 'contamination': 0.5}\n",
      "0.3908868224625726\n"
     ]
    }
   ],
   "source": [
    "from pyod.models.dif import DIF\n",
    "\n",
    "params = {'batch_size': [8,256,1000],\n",
    "          'contamination' : [0.01,0.1,0.5]\n",
    "         }\n",
    "dif = DIF(random_state=42)\n",
    "\n",
    "dif_model = GridSearchCV(dif, params, scoring=score)\n",
    "dif_model.fit(X_train_res, y_train_res)\n",
    "print(dif_model.best_params_)\n",
    "print(dif_model.best_score_)"
   ]
  },
  {
   "cell_type": "code",
   "execution_count": 285,
   "id": "94f1c183",
   "metadata": {},
   "outputs": [],
   "source": [
    "clf = DIF(random_state=42, contamination= 0.5, batch_size = 1000)\n",
    "model_dif = clf.fit(X_train_res, y_train_res)"
   ]
  },
  {
   "cell_type": "code",
   "execution_count": 286,
   "id": "fff29455",
   "metadata": {},
   "outputs": [
    {
     "name": "stdout",
     "output_type": "stream",
     "text": [
      "roc_auc_score на трейне: 0.2\n",
      "roc_auc_score на тесте: 0.37\n",
      "f1_score на трейне: 0.05\n",
      "f1_score на тесте: 0.01\n"
     ]
    }
   ],
   "source": [
    "print (f\"roc_auc_score на трейне: {round(roc_auc_score(y_train_res, model_dif.predict(X_train_res)), 2)}\")\n",
    "print (f\"roc_auc_score на тесте: {round(roc_auc_score(ytest, model_dif.predict(Xtest)), 2)}\")\n",
    "print (f\"f1_score на трейне: {round(fbeta_score(y_train_res, model_dif.predict(X_train_res), beta=0.2), 2)}\")\n",
    "print (f\"f1_score на тесте: {round(fbeta_score(ytest, model_dif.predict(Xtest), beta=0.2), 2)}\")"
   ]
  },
  {
   "cell_type": "code",
   "execution_count": null,
   "id": "bfdc8760",
   "metadata": {},
   "outputs": [],
   "source": []
  },
  {
   "cell_type": "code",
   "execution_count": null,
   "id": "0ad25117",
   "metadata": {},
   "outputs": [],
   "source": []
  },
  {
   "cell_type": "code",
   "execution_count": 287,
   "id": "4e824aed",
   "metadata": {},
   "outputs": [
    {
     "name": "stdout",
     "output_type": "stream",
     "text": [
      "{'kernel': 'poly', 'nu': 0.5}\n",
      "0.5923205442823843\n"
     ]
    }
   ],
   "source": [
    "from pyod.models.ocsvm import OCSVM\n",
    "\n",
    "params = {'kernel': ['poly', 'rbf', 'sigmoid'],\n",
    "          'nu' : [0.01,0.1,0.5]\n",
    "         }\n",
    "ocsvm = OCSVM()\n",
    "\n",
    "ocsvm_model = GridSearchCV(ocsvm, params, scoring=score)\n",
    "ocsvm_model.fit(X_train_res, y_train_res)\n",
    "print(ocsvm_model.best_params_)\n",
    "print(ocsvm_model.best_score_)"
   ]
  },
  {
   "cell_type": "code",
   "execution_count": 289,
   "id": "b265193e",
   "metadata": {},
   "outputs": [],
   "source": [
    "clf = OCSVM(kernel= 'poly', nu = 0.5)\n",
    "model_ocsvm = clf.fit(X_train_res, y_train_res)"
   ]
  },
  {
   "cell_type": "code",
   "execution_count": 290,
   "id": "31deac9e",
   "metadata": {},
   "outputs": [
    {
     "name": "stdout",
     "output_type": "stream",
     "text": [
      "roc_auc_score на трейне: 0.6\n",
      "roc_auc_score на тесте: 0.58\n",
      "f1_score на трейне: 0.85\n",
      "f1_score на тесте: 0.47\n"
     ]
    }
   ],
   "source": [
    "print (f\"roc_auc_score на трейне: {round(roc_auc_score(y_train_res, model_ocsvm.predict(X_train_res)), 2)}\")\n",
    "print (f\"roc_auc_score на тесте: {round(roc_auc_score(ytest, model_ocsvm.predict(Xtest)), 2)}\")\n",
    "print (f\"f1_score на трейне: {round(fbeta_score(y_train_res, model_ocsvm.predict(X_train_res), beta=0.2), 2)}\")\n",
    "print (f\"f1_score на тесте: {round(fbeta_score(ytest, model_ocsvm.predict(Xtest), beta=0.2), 2)}\")"
   ]
  },
  {
   "cell_type": "code",
   "execution_count": 328,
   "id": "3d7332cd",
   "metadata": {
    "scrolled": true
   },
   "outputs": [
    {
     "name": "stdout",
     "output_type": "stream",
     "text": [
      "Fitting 5 folds for each of 27 candidates, totalling 135 fits\n",
      "[CV 1/5] END learning_rate=0.01, max_depth=3, n_estimators=20;, score=0.632 total time=   6.9s\n",
      "[CV 2/5] END learning_rate=0.01, max_depth=3, n_estimators=20;, score=0.636 total time=   6.6s\n",
      "[CV 3/5] END learning_rate=0.01, max_depth=3, n_estimators=20;, score=0.633 total time=   6.7s\n",
      "[CV 4/5] END learning_rate=0.01, max_depth=3, n_estimators=20;, score=0.624 total time=   6.6s\n",
      "[CV 5/5] END learning_rate=0.01, max_depth=3, n_estimators=20;, score=0.634 total time=   6.5s\n",
      "[CV 1/5] END learning_rate=0.01, max_depth=3, n_estimators=100;, score=0.745 total time=  32.2s\n",
      "[CV 2/5] END learning_rate=0.01, max_depth=3, n_estimators=100;, score=0.730 total time=  32.9s\n",
      "[CV 3/5] END learning_rate=0.01, max_depth=3, n_estimators=100;, score=0.741 total time=  33.3s\n",
      "[CV 4/5] END learning_rate=0.01, max_depth=3, n_estimators=100;, score=0.729 total time=  33.0s\n",
      "[CV 5/5] END learning_rate=0.01, max_depth=3, n_estimators=100;, score=0.732 total time=  33.0s\n",
      "[CV 1/5] END learning_rate=0.01, max_depth=3, n_estimators=200;, score=0.761 total time= 1.1min\n",
      "[CV 2/5] END learning_rate=0.01, max_depth=3, n_estimators=200;, score=0.760 total time= 1.1min\n",
      "[CV 3/5] END learning_rate=0.01, max_depth=3, n_estimators=200;, score=0.753 total time= 1.1min\n",
      "[CV 4/5] END learning_rate=0.01, max_depth=3, n_estimators=200;, score=0.746 total time= 1.1min\n",
      "[CV 5/5] END learning_rate=0.01, max_depth=3, n_estimators=200;, score=0.751 total time= 1.1min\n",
      "[CV 1/5] END learning_rate=0.01, max_depth=10, n_estimators=20;, score=0.729 total time=  16.5s\n",
      "[CV 2/5] END learning_rate=0.01, max_depth=10, n_estimators=20;, score=0.798 total time=  16.1s\n",
      "[CV 3/5] END learning_rate=0.01, max_depth=10, n_estimators=20;, score=0.789 total time=  17.6s\n",
      "[CV 4/5] END learning_rate=0.01, max_depth=10, n_estimators=20;, score=0.700 total time=  18.2s\n",
      "[CV 5/5] END learning_rate=0.01, max_depth=10, n_estimators=20;, score=0.723 total time=  17.6s\n",
      "[CV 1/5] END learning_rate=0.01, max_depth=10, n_estimators=100;, score=0.838 total time= 1.3min\n",
      "[CV 2/5] END learning_rate=0.01, max_depth=10, n_estimators=100;, score=0.841 total time= 1.5min\n",
      "[CV 3/5] END learning_rate=0.01, max_depth=10, n_estimators=100;, score=0.850 total time= 1.5min\n",
      "[CV 4/5] END learning_rate=0.01, max_depth=10, n_estimators=100;, score=0.843 total time= 1.4min\n",
      "[CV 5/5] END learning_rate=0.01, max_depth=10, n_estimators=100;, score=0.840 total time= 1.4min\n",
      "[CV 1/5] END learning_rate=0.01, max_depth=10, n_estimators=200;, score=0.888 total time= 3.0min\n",
      "[CV 2/5] END learning_rate=0.01, max_depth=10, n_estimators=200;, score=0.886 total time= 3.0min\n",
      "[CV 3/5] END learning_rate=0.01, max_depth=10, n_estimators=200;, score=0.885 total time= 3.0min\n",
      "[CV 4/5] END learning_rate=0.01, max_depth=10, n_estimators=200;, score=0.882 total time= 2.7min\n",
      "[CV 5/5] END learning_rate=0.01, max_depth=10, n_estimators=200;, score=0.887 total time= 2.5min\n",
      "[CV 1/5] END learning_rate=0.01, max_depth=50, n_estimators=20;, score=0.918 total time=  52.5s\n",
      "[CV 2/5] END learning_rate=0.01, max_depth=50, n_estimators=20;, score=0.926 total time=  53.3s\n",
      "[CV 3/5] END learning_rate=0.01, max_depth=50, n_estimators=20;, score=0.914 total time=  54.4s\n",
      "[CV 4/5] END learning_rate=0.01, max_depth=50, n_estimators=20;, score=0.915 total time=  52.7s\n",
      "[CV 5/5] END learning_rate=0.01, max_depth=50, n_estimators=20;, score=0.917 total time=  57.8s\n",
      "[CV 1/5] END learning_rate=0.01, max_depth=50, n_estimators=100;, score=0.944 total time= 3.3min\n",
      "[CV 2/5] END learning_rate=0.01, max_depth=50, n_estimators=100;, score=0.936 total time= 3.3min\n",
      "[CV 3/5] END learning_rate=0.01, max_depth=50, n_estimators=100;, score=0.934 total time= 3.6min\n",
      "[CV 4/5] END learning_rate=0.01, max_depth=50, n_estimators=100;, score=0.934 total time= 4.1min\n",
      "[CV 5/5] END learning_rate=0.01, max_depth=50, n_estimators=100;, score=0.933 total time= 3.7min\n",
      "[CV 1/5] END learning_rate=0.01, max_depth=50, n_estimators=200;, score=0.942 total time= 5.8min\n",
      "[CV 2/5] END learning_rate=0.01, max_depth=50, n_estimators=200;, score=0.935 total time= 5.8min\n",
      "[CV 3/5] END learning_rate=0.01, max_depth=50, n_estimators=200;, score=0.929 total time= 6.2min\n",
      "[CV 4/5] END learning_rate=0.01, max_depth=50, n_estimators=200;, score=0.941 total time= 6.6min\n",
      "[CV 5/5] END learning_rate=0.01, max_depth=50, n_estimators=200;, score=0.939 total time= 5.7min\n",
      "[CV 1/5] END learning_rate=0.1, max_depth=3, n_estimators=20;, score=0.753 total time=   5.3s\n",
      "[CV 2/5] END learning_rate=0.1, max_depth=3, n_estimators=20;, score=0.737 total time=   6.0s\n",
      "[CV 3/5] END learning_rate=0.1, max_depth=3, n_estimators=20;, score=0.762 total time=   6.3s\n",
      "[CV 4/5] END learning_rate=0.1, max_depth=3, n_estimators=20;, score=0.744 total time=   6.2s\n",
      "[CV 5/5] END learning_rate=0.1, max_depth=3, n_estimators=20;, score=0.760 total time=   5.9s\n",
      "[CV 1/5] END learning_rate=0.1, max_depth=3, n_estimators=100;, score=0.851 total time=  28.8s\n",
      "[CV 2/5] END learning_rate=0.1, max_depth=3, n_estimators=100;, score=0.853 total time=  28.3s\n",
      "[CV 3/5] END learning_rate=0.1, max_depth=3, n_estimators=100;, score=0.856 total time=  28.0s\n",
      "[CV 4/5] END learning_rate=0.1, max_depth=3, n_estimators=100;, score=0.848 total time=  27.9s\n",
      "[CV 5/5] END learning_rate=0.1, max_depth=3, n_estimators=100;, score=0.852 total time=  28.2s\n",
      "[CV 1/5] END learning_rate=0.1, max_depth=3, n_estimators=200;, score=0.906 total time=  55.2s\n",
      "[CV 2/5] END learning_rate=0.1, max_depth=3, n_estimators=200;, score=0.904 total time=  57.2s\n",
      "[CV 3/5] END learning_rate=0.1, max_depth=3, n_estimators=200;, score=0.901 total time=  56.3s\n",
      "[CV 4/5] END learning_rate=0.1, max_depth=3, n_estimators=200;, score=0.897 total time=  56.2s\n",
      "[CV 5/5] END learning_rate=0.1, max_depth=3, n_estimators=200;, score=0.907 total time=  56.1s\n",
      "[CV 1/5] END learning_rate=0.1, max_depth=10, n_estimators=20;, score=0.882 total time=  14.5s\n",
      "[CV 2/5] END learning_rate=0.1, max_depth=10, n_estimators=20;, score=0.884 total time=  14.6s\n",
      "[CV 3/5] END learning_rate=0.1, max_depth=10, n_estimators=20;, score=0.879 total time=  15.1s\n",
      "[CV 4/5] END learning_rate=0.1, max_depth=10, n_estimators=20;, score=0.875 total time=  17.7s\n",
      "[CV 5/5] END learning_rate=0.1, max_depth=10, n_estimators=20;, score=0.885 total time=  18.3s\n",
      "[CV 1/5] END learning_rate=0.1, max_depth=10, n_estimators=100;, score=0.949 total time= 1.5min\n",
      "[CV 2/5] END learning_rate=0.1, max_depth=10, n_estimators=100;, score=0.950 total time= 1.5min\n",
      "[CV 3/5] END learning_rate=0.1, max_depth=10, n_estimators=100;, score=0.947 total time= 1.5min\n",
      "[CV 4/5] END learning_rate=0.1, max_depth=10, n_estimators=100;, score=0.943 total time= 1.5min\n",
      "[CV 5/5] END learning_rate=0.1, max_depth=10, n_estimators=100;, score=0.951 total time= 1.5min\n",
      "[CV 1/5] END learning_rate=0.1, max_depth=10, n_estimators=200;, score=0.965 total time= 3.0min\n",
      "[CV 2/5] END learning_rate=0.1, max_depth=10, n_estimators=200;, score=0.970 total time= 3.1min\n",
      "[CV 3/5] END learning_rate=0.1, max_depth=10, n_estimators=200;, score=0.962 total time= 3.1min\n",
      "[CV 4/5] END learning_rate=0.1, max_depth=10, n_estimators=200;, score=0.963 total time= 3.3min\n",
      "[CV 5/5] END learning_rate=0.1, max_depth=10, n_estimators=200;, score=0.969 total time= 3.3min\n",
      "[CV 1/5] END learning_rate=0.1, max_depth=50, n_estimators=20;, score=0.945 total time=  33.9s\n",
      "[CV 2/5] END learning_rate=0.1, max_depth=50, n_estimators=20;, score=0.932 total time=  28.9s\n",
      "[CV 3/5] END learning_rate=0.1, max_depth=50, n_estimators=20;, score=0.939 total time=  37.4s\n",
      "[CV 4/5] END learning_rate=0.1, max_depth=50, n_estimators=20;, score=0.941 total time=  37.9s\n",
      "[CV 5/5] END learning_rate=0.1, max_depth=50, n_estimators=20;, score=0.938 total time=  33.8s\n",
      "[CV 1/5] END learning_rate=0.1, max_depth=50, n_estimators=100;, score=0.963 total time= 4.7min\n",
      "[CV 2/5] END learning_rate=0.1, max_depth=50, n_estimators=100;, score=0.954 total time= 4.3min\n",
      "[CV 3/5] END learning_rate=0.1, max_depth=50, n_estimators=100;, score=0.938 total time= 4.2min\n",
      "[CV 4/5] END learning_rate=0.1, max_depth=50, n_estimators=100;, score=0.961 total time= 5.3min\n",
      "[CV 5/5] END learning_rate=0.1, max_depth=50, n_estimators=100;, score=0.962 total time= 5.0min\n"
     ]
    },
    {
     "name": "stdout",
     "output_type": "stream",
     "text": [
      "[CV 1/5] END learning_rate=0.1, max_depth=50, n_estimators=200;, score=0.972 total time=10.5min\n",
      "[CV 2/5] END learning_rate=0.1, max_depth=50, n_estimators=200;, score=0.967 total time=10.7min\n",
      "[CV 3/5] END learning_rate=0.1, max_depth=50, n_estimators=200;, score=0.957 total time=10.6min\n",
      "[CV 4/5] END learning_rate=0.1, max_depth=50, n_estimators=200;, score=0.959 total time=11.0min\n",
      "[CV 5/5] END learning_rate=0.1, max_depth=50, n_estimators=200;, score=0.970 total time=11.5min\n",
      "[CV 1/5] END learning_rate=0.5, max_depth=3, n_estimators=20;, score=0.863 total time=   5.4s\n",
      "[CV 2/5] END learning_rate=0.5, max_depth=3, n_estimators=20;, score=0.861 total time=   5.5s\n",
      "[CV 3/5] END learning_rate=0.5, max_depth=3, n_estimators=20;, score=0.871 total time=   5.6s\n",
      "[CV 4/5] END learning_rate=0.5, max_depth=3, n_estimators=20;, score=0.861 total time=   5.5s\n",
      "[CV 5/5] END learning_rate=0.5, max_depth=3, n_estimators=20;, score=0.862 total time=   5.5s\n",
      "[CV 1/5] END learning_rate=0.5, max_depth=3, n_estimators=100;, score=0.965 total time=  27.5s\n",
      "[CV 2/5] END learning_rate=0.5, max_depth=3, n_estimators=100;, score=0.966 total time=  28.1s\n",
      "[CV 3/5] END learning_rate=0.5, max_depth=3, n_estimators=100;, score=0.965 total time=  28.1s\n",
      "[CV 4/5] END learning_rate=0.5, max_depth=3, n_estimators=100;, score=0.969 total time=  28.1s\n",
      "[CV 5/5] END learning_rate=0.5, max_depth=3, n_estimators=100;, score=0.966 total time=  31.0s\n",
      "[CV 1/5] END learning_rate=0.5, max_depth=3, n_estimators=200;, score=0.974 total time=  55.9s\n",
      "[CV 2/5] END learning_rate=0.5, max_depth=3, n_estimators=200;, score=0.979 total time=  58.4s\n",
      "[CV 3/5] END learning_rate=0.5, max_depth=3, n_estimators=200;, score=0.979 total time=  58.1s\n",
      "[CV 4/5] END learning_rate=0.5, max_depth=3, n_estimators=200;, score=0.976 total time=  58.8s\n",
      "[CV 5/5] END learning_rate=0.5, max_depth=3, n_estimators=200;, score=0.979 total time=  59.0s\n",
      "[CV 1/5] END learning_rate=0.5, max_depth=10, n_estimators=20;, score=0.950 total time=  17.8s\n",
      "[CV 2/5] END learning_rate=0.5, max_depth=10, n_estimators=20;, score=0.948 total time=  17.5s\n",
      "[CV 3/5] END learning_rate=0.5, max_depth=10, n_estimators=20;, score=0.947 total time=  17.6s\n",
      "[CV 4/5] END learning_rate=0.5, max_depth=10, n_estimators=20;, score=0.948 total time=  17.6s\n",
      "[CV 5/5] END learning_rate=0.5, max_depth=10, n_estimators=20;, score=0.954 total time=  17.6s\n",
      "[CV 1/5] END learning_rate=0.5, max_depth=10, n_estimators=100;, score=0.975 total time= 1.5min\n",
      "[CV 2/5] END learning_rate=0.5, max_depth=10, n_estimators=100;, score=0.981 total time= 1.7min\n",
      "[CV 3/5] END learning_rate=0.5, max_depth=10, n_estimators=100;, score=0.979 total time= 1.6min\n",
      "[CV 4/5] END learning_rate=0.5, max_depth=10, n_estimators=100;, score=0.975 total time= 1.5min\n",
      "[CV 5/5] END learning_rate=0.5, max_depth=10, n_estimators=100;, score=0.982 total time= 1.6min\n",
      "[CV 1/5] END learning_rate=0.5, max_depth=10, n_estimators=200;, score=0.982 total time= 3.0min\n",
      "[CV 2/5] END learning_rate=0.5, max_depth=10, n_estimators=200;, score=0.987 total time= 3.3min\n",
      "[CV 3/5] END learning_rate=0.5, max_depth=10, n_estimators=200;, score=0.982 total time= 3.2min\n",
      "[CV 4/5] END learning_rate=0.5, max_depth=10, n_estimators=200;, score=0.982 total time= 3.3min\n",
      "[CV 5/5] END learning_rate=0.5, max_depth=10, n_estimators=200;, score=0.986 total time= 3.2min\n",
      "[CV 1/5] END learning_rate=0.5, max_depth=50, n_estimators=20;, score=0.964 total time=  50.2s\n",
      "[CV 2/5] END learning_rate=0.5, max_depth=50, n_estimators=20;, score=0.953 total time=  53.7s\n",
      "[CV 3/5] END learning_rate=0.5, max_depth=50, n_estimators=20;, score=0.952 total time=  53.5s\n",
      "[CV 4/5] END learning_rate=0.5, max_depth=50, n_estimators=20;, score=0.970 total time= 1.0min\n",
      "[CV 5/5] END learning_rate=0.5, max_depth=50, n_estimators=20;, score=0.969 total time= 1.1min\n",
      "[CV 1/5] END learning_rate=0.5, max_depth=50, n_estimators=100;, score=0.971 total time= 5.2min\n",
      "[CV 2/5] END learning_rate=0.5, max_depth=50, n_estimators=100;, score=0.963 total time= 5.3min\n",
      "[CV 3/5] END learning_rate=0.5, max_depth=50, n_estimators=100;, score=0.948 total time= 5.0min\n",
      "[CV 4/5] END learning_rate=0.5, max_depth=50, n_estimators=100;, score=0.964 total time= 6.0min\n",
      "[CV 5/5] END learning_rate=0.5, max_depth=50, n_estimators=100;, score=0.975 total time= 6.6min\n",
      "[CV 1/5] END learning_rate=0.5, max_depth=50, n_estimators=200;, score=0.980 total time=11.0min\n",
      "[CV 2/5] END learning_rate=0.5, max_depth=50, n_estimators=200;, score=0.972 total time=10.4min\n",
      "[CV 3/5] END learning_rate=0.5, max_depth=50, n_estimators=200;, score=0.960 total time= 8.9min\n",
      "[CV 4/5] END learning_rate=0.5, max_depth=50, n_estimators=200;, score=0.974 total time=11.7min\n",
      "[CV 5/5] END learning_rate=0.5, max_depth=50, n_estimators=200;, score=0.979 total time=11.9min\n",
      "{'learning_rate': 0.5, 'max_depth': 10, 'n_estimators': 200}\n",
      "0.9838751164400751\n"
     ]
    }
   ],
   "source": [
    "from sklearn.ensemble import GradientBoostingClassifier\n",
    "\n",
    "params = {'max_depth': [3, 10, 50],\n",
    "          'learning_rate' : [0.01,0.1,0.5],\n",
    "          'n_estimators': [20, 100, 200]\n",
    "         }\n",
    "gbc = GradientBoostingClassifier(random_state=42)\n",
    "\n",
    "gbc_model = GridSearchCV(gbc, params, scoring=score, verbose=2.1)\n",
    "gbc_model.fit(X_train_res, y_train_res)\n",
    "print(gbc_model.best_params_)\n",
    "print(gbc_model.best_score_)"
   ]
  },
  {
   "cell_type": "code",
   "execution_count": 329,
   "id": "26fadd8f",
   "metadata": {},
   "outputs": [],
   "source": [
    "clf = GradientBoostingClassifier(random_state=42, max_depth = 10, \n",
    "                                learning_rate = 0.5, n_estimators = 200)\n",
    "model_gbc = clf.fit(X_train_res, y_train_res)"
   ]
  },
  {
   "cell_type": "code",
   "execution_count": 330,
   "id": "d353594f",
   "metadata": {},
   "outputs": [
    {
     "name": "stdout",
     "output_type": "stream",
     "text": [
      "roc_auc_score на трейне: 1.0\n",
      "roc_auc_score на тесте: 0.92\n",
      "f1_score на трейне: 0.99\n",
      "f1_score на тесте: 0.6\n"
     ]
    }
   ],
   "source": [
    "print (f\"roc_auc_score на трейне: {round(roc_auc_score(y_train_res, model_gbc.predict(X_train_res)), 2)}\")\n",
    "print (f\"roc_auc_score на тесте: {round(roc_auc_score(ytest, model_gbc.predict(Xtest)), 2)}\")\n",
    "print (f\"f1_score на трейне: {round(fbeta_score(y_train_res, model_gbc.predict(X_train_res), beta=0.2), 2)}\")\n",
    "print (f\"f1_score на тесте: {round(fbeta_score(ytest, model_gbc.predict(Xtest), beta=0.2), 2)}\")"
   ]
  },
  {
   "cell_type": "code",
   "execution_count": 334,
   "id": "b5141ee5",
   "metadata": {},
   "outputs": [],
   "source": [
    "C = pd.DataFrame(list(ytest), columns=['real'])\n",
    "C['preds'] = model_gbc.predict(Xtest)"
   ]
  },
  {
   "cell_type": "code",
   "execution_count": 335,
   "id": "e81c211d",
   "metadata": {},
   "outputs": [
    {
     "data": {
      "text/plain": [
       "0.14084507042253522"
      ]
     },
     "execution_count": 335,
     "metadata": {},
     "output_type": "execute_result"
    }
   ],
   "source": [
    "len(C[(C['real']==1) & (C['preds']==0)]) / len(C[(C['real']==1)])\n",
    "# 14 процентов выбросов не задетектировали"
   ]
  },
  {
   "cell_type": "code",
   "execution_count": 336,
   "id": "f6440276",
   "metadata": {},
   "outputs": [
    {
     "data": {
      "text/plain": [
       "0.016287284144427"
      ]
     },
     "execution_count": 336,
     "metadata": {},
     "output_type": "execute_result"
    }
   ],
   "source": [
    "len(C[(C['real']==0) & (C['preds']==1)]) / len(C[(C['real']==0)])\n",
    "# и два процента нормальных соединений"
   ]
  },
  {
   "cell_type": "code",
   "execution_count": null,
   "id": "56d913e9",
   "metadata": {},
   "outputs": [],
   "source": []
  },
  {
   "cell_type": "code",
   "execution_count": null,
   "id": "7d95ad7c",
   "metadata": {},
   "outputs": [],
   "source": []
  },
  {
   "cell_type": "code",
   "execution_count": null,
   "id": "cac7d03b",
   "metadata": {},
   "outputs": [],
   "source": []
  },
  {
   "cell_type": "markdown",
   "id": "ff49cf94",
   "metadata": {},
   "source": [
    "Итого, лучше всего себя проявила логистическая регрессия, попробуем продолжить с ней и построить над ней бэггинг. Также неплохо себя проявил градиентный бустинг"
   ]
  },
  {
   "cell_type": "code",
   "execution_count": 337,
   "id": "bb82b734",
   "metadata": {},
   "outputs": [
    {
     "name": "stdout",
     "output_type": "stream",
     "text": [
      "roc_auc_score на трейне: 0.99\n",
      "roc_auc_score на тесте: 0.98\n",
      "f1_score на трейне: 0.98\n",
      "f1_score на тесте: 0.61\n"
     ]
    }
   ],
   "source": [
    "from sklearn.ensemble import BaggingClassifier\n",
    "\n",
    "lr = LogisticRegression(random_state=42, penalty= 'l2')\n",
    "bc = BaggingClassifier(lr)\n",
    "bag = bc.fit(X_train_res, y_train_res)\n",
    "print (f\"roc_auc_score на трейне: {round(roc_auc_score(y_train_res, bag.predict(X_train_res)), 2)}\")\n",
    "print (f\"roc_auc_score на тесте: {round(roc_auc_score(ytest, bag.predict(Xtest)), 2)}\")\n",
    "print (f\"f1_score на трейне: {round(fbeta_score(y_train_res, bag.predict(X_train_res), beta=0.2), 2)}\")\n",
    "print (f\"f1_score на тесте: {round(fbeta_score(ytest, bag.predict(Xtest), beta=0.2), 2)}\")"
   ]
  },
  {
   "cell_type": "code",
   "execution_count": 338,
   "id": "f4896846",
   "metadata": {},
   "outputs": [],
   "source": [
    "C = pd.DataFrame(list(ytest), columns=['real'])\n",
    "C['preds'] = bag.predict(Xtest)"
   ]
  },
  {
   "cell_type": "code",
   "execution_count": 339,
   "id": "4cb67949",
   "metadata": {},
   "outputs": [
    {
     "data": {
      "text/plain": [
       "0.028169014084507043"
      ]
     },
     "execution_count": 339,
     "metadata": {},
     "output_type": "execute_result"
    }
   ],
   "source": [
    "len(C[(C['real']==1) & (C['preds']==0)]) / len(C[(C['real']==1)])\n",
    "# 3 процента выбросов не задетектировали"
   ]
  },
  {
   "cell_type": "code",
   "execution_count": 340,
   "id": "f787748a",
   "metadata": {},
   "outputs": [
    {
     "data": {
      "text/plain": [
       "0.018249607535321823"
      ]
     },
     "execution_count": 340,
     "metadata": {},
     "output_type": "execute_result"
    }
   ],
   "source": [
    "len(C[(C['real']==0) & (C['preds']==1)]) / len(C[(C['real']==0)])\n",
    "# и два процента нормальных соединений"
   ]
  },
  {
   "cell_type": "markdown",
   "id": "b21b3405",
   "metadata": {},
   "source": [
    "Бэггинг ничего не улучшил"
   ]
  },
  {
   "cell_type": "markdown",
   "id": "62b958ea",
   "metadata": {},
   "source": [
    "Посчитай fbeta score руками для проверки"
   ]
  },
  {
   "cell_type": "code",
   "execution_count": null,
   "id": "0ef5573e",
   "metadata": {},
   "outputs": [],
   "source": []
  }
 ],
 "metadata": {
  "kernelspec": {
   "display_name": "Python 3 (ipykernel)",
   "language": "python",
   "name": "python3"
  },
  "language_info": {
   "codemirror_mode": {
    "name": "ipython",
    "version": 3
   },
   "file_extension": ".py",
   "mimetype": "text/x-python",
   "name": "python",
   "nbconvert_exporter": "python",
   "pygments_lexer": "ipython3",
   "version": "3.9.13"
  }
 },
 "nbformat": 4,
 "nbformat_minor": 5
}
