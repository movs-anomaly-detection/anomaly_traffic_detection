{
 "cells": [
  {
   "cell_type": "code",
   "execution_count": 76,
   "id": "2df766d0",
   "metadata": {},
   "outputs": [],
   "source": [
    "import pandas as pd\n",
    "from pandas.core.common import SettingWithCopyWarning\n",
    "\n",
    "import warnings\n",
    "warnings.filterwarnings(\"ignore\")\n",
    "import json\n",
    "\n",
    "from datetime import datetime\n",
    "import numpy as np\n",
    "\n",
    "import seaborn as sns\n",
    "import matplotlib.pyplot as plt\n",
    "\n",
    "import requests"
   ]
  },
  {
   "cell_type": "code",
   "execution_count": 77,
   "id": "f80c5ef4",
   "metadata": {},
   "outputs": [],
   "source": [
    "def plot_roc_curve(true_y, y_prob):\n",
    "\n",
    "    fpr, tpr, thresholds = roc_curve(true_y, y_prob)\n",
    "    plt.plot(fpr, tpr)\n",
    "    plt.xlabel('False Positive Rate')\n",
    "    plt.ylabel('True Positive Rate')"
   ]
  },
  {
   "cell_type": "markdown",
   "id": "14c1c506",
   "metadata": {},
   "source": [
    "В этом блокноте будут лежать эксперименты с моделями. В первую очередь возьмем катбуст из ноутбука с EDA и переберем параметры для улучшения качества.\n",
    "\n",
    "# Итерация 1"
   ]
  },
  {
   "cell_type": "code",
   "execution_count": 78,
   "id": "a5c567ad",
   "metadata": {},
   "outputs": [],
   "source": [
    "df = pd.read_csv('data.csv', index_col=[0])"
   ]
  },
  {
   "cell_type": "code",
   "execution_count": 79,
   "id": "36a89c47",
   "metadata": {},
   "outputs": [
    {
     "data": {
      "text/html": [
       "<div>\n",
       "<style scoped>\n",
       "    .dataframe tbody tr th:only-of-type {\n",
       "        vertical-align: middle;\n",
       "    }\n",
       "\n",
       "    .dataframe tbody tr th {\n",
       "        vertical-align: top;\n",
       "    }\n",
       "\n",
       "    .dataframe thead th {\n",
       "        text-align: right;\n",
       "    }\n",
       "</style>\n",
       "<table border=\"1\" class=\"dataframe\">\n",
       "  <thead>\n",
       "    <tr style=\"text-align: right;\">\n",
       "      <th></th>\n",
       "      <th>addr</th>\n",
       "      <th>port</th>\n",
       "      <th>proto</th>\n",
       "      <th>num_timestamps</th>\n",
       "      <th>mean_timestamps</th>\n",
       "      <th>median_timestamps</th>\n",
       "      <th>country</th>\n",
       "      <th>anomaly</th>\n",
       "    </tr>\n",
       "  </thead>\n",
       "  <tbody>\n",
       "    <tr>\n",
       "      <th>0</th>\n",
       "      <td>140.82.121.6</td>\n",
       "      <td>443.0</td>\n",
       "      <td>tcp</td>\n",
       "      <td>25.0</td>\n",
       "      <td>52712.0</td>\n",
       "      <td>4318.0</td>\n",
       "      <td>United States</td>\n",
       "      <td>0</td>\n",
       "    </tr>\n",
       "    <tr>\n",
       "      <th>1</th>\n",
       "      <td>172.64.41.4</td>\n",
       "      <td>443.0</td>\n",
       "      <td>tcp</td>\n",
       "      <td>12880.0</td>\n",
       "      <td>45894.0</td>\n",
       "      <td>647.0</td>\n",
       "      <td>United States</td>\n",
       "      <td>0</td>\n",
       "    </tr>\n",
       "    <tr>\n",
       "      <th>2</th>\n",
       "      <td>34.160.144.191</td>\n",
       "      <td>443.0</td>\n",
       "      <td>tcp</td>\n",
       "      <td>37.0</td>\n",
       "      <td>746263.0</td>\n",
       "      <td>1422.0</td>\n",
       "      <td>United States</td>\n",
       "      <td>0</td>\n",
       "    </tr>\n",
       "    <tr>\n",
       "      <th>3</th>\n",
       "      <td>209.85.233.104</td>\n",
       "      <td>443.0</td>\n",
       "      <td>tcp</td>\n",
       "      <td>899.0</td>\n",
       "      <td>550077.0</td>\n",
       "      <td>336.0</td>\n",
       "      <td>United States</td>\n",
       "      <td>0</td>\n",
       "    </tr>\n",
       "    <tr>\n",
       "      <th>4</th>\n",
       "      <td>209.85.233.94</td>\n",
       "      <td>443.0</td>\n",
       "      <td>tcp</td>\n",
       "      <td>493.0</td>\n",
       "      <td>213314.0</td>\n",
       "      <td>2324.0</td>\n",
       "      <td>United States</td>\n",
       "      <td>0</td>\n",
       "    </tr>\n",
       "  </tbody>\n",
       "</table>\n",
       "</div>"
      ],
      "text/plain": [
       "             addr   port proto  num_timestamps  mean_timestamps  \\\n",
       "0    140.82.121.6  443.0   tcp            25.0          52712.0   \n",
       "1     172.64.41.4  443.0   tcp         12880.0          45894.0   \n",
       "2  34.160.144.191  443.0   tcp            37.0         746263.0   \n",
       "3  209.85.233.104  443.0   tcp           899.0         550077.0   \n",
       "4   209.85.233.94  443.0   tcp           493.0         213314.0   \n",
       "\n",
       "   median_timestamps        country  anomaly  \n",
       "0             4318.0  United States        0  \n",
       "1              647.0  United States        0  \n",
       "2             1422.0  United States        0  \n",
       "3              336.0  United States        0  \n",
       "4             2324.0  United States        0  "
      ]
     },
     "execution_count": 79,
     "metadata": {},
     "output_type": "execute_result"
    }
   ],
   "source": [
    "df.head(5)"
   ]
  },
  {
   "cell_type": "code",
   "execution_count": 80,
   "id": "12985f7d",
   "metadata": {},
   "outputs": [],
   "source": [
    "X = df[['addr', 'proto', 'num_timestamps', 'mean_timestamps', \n",
    "    'median_timestamps', 'anomaly', 'country']].drop_duplicates()\n",
    "X = X.fillna(0)\n",
    "\n",
    "X = X[X['addr'] != '10.4.19.138']\n",
    "X = X.merge(pd.DataFrame(list(X['addr'].str.split('.').values), columns = ['addr_1',\n",
    "                                                        'addr_2',\n",
    "                                                        'addr_3', \n",
    "                                                        'addr_4']), left_index=True, right_index=True)\n",
    "\n",
    "y = X['anomaly']\n",
    "X = X.drop(['anomaly', 'addr_3', 'addr_4', 'addr'], axis = 1)\n",
    "\n",
    "from sklearn.model_selection import train_test_split\n",
    "\n",
    "Xtrain, Xtest, ytrain, ytest = train_test_split(X, y, random_state = 42, test_size = 0.3)"
   ]
  },
  {
   "cell_type": "code",
   "execution_count": 81,
   "id": "b394a458",
   "metadata": {},
   "outputs": [],
   "source": [
    "from sklearn.preprocessing import StandardScaler\n",
    "\n",
    "scaler = StandardScaler().fit(Xtrain[['num_timestamps', 'mean_timestamps', 'median_timestamps']])"
   ]
  },
  {
   "cell_type": "code",
   "execution_count": 82,
   "id": "2840963b",
   "metadata": {},
   "outputs": [],
   "source": [
    "Xtrain = pd.concat([Xtrain[['proto', 'country', 'addr_1', \n",
    "                   'addr_2']].reset_index(), pd.DataFrame(scaler.transform(Xtrain[['num_timestamps', \n",
    "                   'mean_timestamps', 'median_timestamps']]),\n",
    "                   columns = ['num_timestamps', 'mean_timestamps', 'median_timestamps'])], axis=1)"
   ]
  },
  {
   "cell_type": "code",
   "execution_count": 83,
   "id": "7e75c588",
   "metadata": {},
   "outputs": [],
   "source": [
    "Xtrain = Xtrain.drop('index', axis=1)"
   ]
  },
  {
   "cell_type": "code",
   "execution_count": 84,
   "id": "36f68320",
   "metadata": {},
   "outputs": [],
   "source": [
    "Xtest = pd.concat([Xtest[['proto', 'country', 'addr_1', \n",
    "                   'addr_2']].reset_index(), pd.DataFrame(scaler.transform(Xtest[['num_timestamps', \n",
    "                   'mean_timestamps', 'median_timestamps']]),\n",
    "                   columns = ['num_timestamps', 'mean_timestamps', 'median_timestamps'])], axis=1)"
   ]
  },
  {
   "cell_type": "code",
   "execution_count": 85,
   "id": "f00f3872",
   "metadata": {},
   "outputs": [],
   "source": [
    "Xtest = Xtest.drop('index', axis=1)"
   ]
  },
  {
   "cell_type": "code",
   "execution_count": 86,
   "id": "2aad833b",
   "metadata": {
    "scrolled": true
   },
   "outputs": [
    {
     "name": "stdout",
     "output_type": "stream",
     "text": [
      "{'depth': 5, 'iterations': 200, 'learning_rate': 0.5}\n",
      "0.7111560498820357\n"
     ]
    }
   ],
   "source": [
    "from catboost import CatBoostClassifier\n",
    "from sklearn.model_selection import GridSearchCV\n",
    "\n",
    "params = {'depth': [None, 1, 5, 10],\n",
    "          'learning_rate' : [None, 0.05, 0.1, 0.5],\n",
    "          'iterations'    : [None, 100, 200]\n",
    "         }\n",
    "\n",
    "ctb = CatBoostClassifier(random_state=42, verbose=False,\n",
    "                        cat_features = ['addr_1', 'addr_2', 'proto', 'country'])\n",
    "\n",
    "ctb_model = GridSearchCV(ctb, params, scoring=\"f1\", return_train_score=True, cv=3)\n",
    "ctb_model.fit(Xtrain, ytrain)\n",
    "print(ctb_model.best_params_)\n",
    "print(ctb_model.best_score_)"
   ]
  },
  {
   "cell_type": "code",
   "execution_count": 87,
   "id": "19930ccd",
   "metadata": {},
   "outputs": [
    {
     "name": "stdout",
     "output_type": "stream",
     "text": [
      "{'depth': 5, 'iterations': 200, 'learning_rate': 0.5}\n",
      "0.7111560498820357\n"
     ]
    }
   ],
   "source": [
    "print(ctb_model.best_params_)\n",
    "print(ctb_model.best_score_)"
   ]
  },
  {
   "cell_type": "code",
   "execution_count": 88,
   "id": "1677b441",
   "metadata": {},
   "outputs": [],
   "source": [
    "clf = CatBoostClassifier(random_state=42, verbose=False,\n",
    "                        cat_features = ['addr_1', 'addr_2', 'proto', 'country'],\n",
    "                        depth= 5, iterations= 200, learning_rate= 0.5)"
   ]
  },
  {
   "cell_type": "code",
   "execution_count": 89,
   "id": "d8d6150c",
   "metadata": {},
   "outputs": [],
   "source": [
    "model = clf.fit(Xtrain, ytrain)"
   ]
  },
  {
   "cell_type": "code",
   "execution_count": 90,
   "id": "471d359d",
   "metadata": {},
   "outputs": [
    {
     "name": "stdout",
     "output_type": "stream",
     "text": [
      "roc_auc_score на трейне: 0.96\n",
      "roc_auc_score на тесте: 0.81\n"
     ]
    }
   ],
   "source": [
    "from sklearn.metrics import f1_score, confusion_matrix, roc_auc_score, roc_curve, ConfusionMatrixDisplay\n",
    "\n",
    "print (f\"roc_auc_score на трейне: {round(roc_auc_score(ytrain, model.predict(Xtrain)), 2)}\")\n",
    "print (f\"roc_auc_score на тесте: {round(roc_auc_score(ytest, model.predict(Xtest)), 2)}\")"
   ]
  },
  {
   "cell_type": "code",
   "execution_count": 91,
   "id": "01ccaced",
   "metadata": {},
   "outputs": [
    {
     "name": "stdout",
     "output_type": "stream",
     "text": [
      "f1_score на трейне: 0.96\n",
      "f1_score на тесте: 0.73\n"
     ]
    }
   ],
   "source": [
    "print (f\"f1_score на трейне: {round(f1_score(ytrain, model.predict(Xtrain)), 2)}\")\n",
    "print (f\"f1_score на тесте: {round(f1_score(ytest, model.predict(Xtest)), 2)}\")"
   ]
  },
  {
   "cell_type": "code",
   "execution_count": 92,
   "id": "aff677f2",
   "metadata": {},
   "outputs": [
    {
     "name": "stdout",
     "output_type": "stream",
     "text": [
      "model AUC score: 0.8093459166510932\n"
     ]
    },
    {
     "data": {
      "image/png": "[encoded data removed]",
      "text/plain": [
       "<Figure size 640x480 with 1 Axes>"
      ]
     },
     "metadata": {},
     "output_type": "display_data"
    }
   ],
   "source": [
    "plot_roc_curve(ytest, model.predict(Xtest))\n",
    "print(f'model AUC score: {roc_auc_score(ytest, model.predict(Xtest))}')"
   ]
  },
  {
   "cell_type": "code",
   "execution_count": 93,
   "id": "614e5e64",
   "metadata": {},
   "outputs": [
    {
     "data": {
      "image/png": "[encoded data removed]",
      "text/plain": [
       "<Figure size 640x480 with 2 Axes>"
      ]
     },
     "metadata": {},
     "output_type": "display_data"
    }
   ],
   "source": [
    "confusion_matrix = confusion_matrix(ytest, model.predict(Xtest))\n",
    "\n",
    "cm_display = ConfusionMatrixDisplay(confusion_matrix = confusion_matrix, display_labels = [False, True])\n",
    "\n",
    "cm_display.plot()\n",
    "plt.show()\n",
    "# много ошибается на определении аноималии"
   ]
  },
  {
   "cell_type": "code",
   "execution_count": 94,
   "id": "bd2399c6",
   "metadata": {},
   "outputs": [
    {
     "data": {
      "text/plain": [
       "<function matplotlib.pyplot.show(close=None, block=None)>"
      ]
     },
     "execution_count": 94,
     "metadata": {},
     "output_type": "execute_result"
    },
    {
     "data": {
      "image/png": "[encoded data removed]",
      "text/plain": [
       "<Figure size 640x480 with 1 Axes>"
      ]
     },
     "metadata": {},
     "output_type": "display_data"
    }
   ],
   "source": [
    "plt.bar(Xtrain.columns, model.feature_importances_)\n",
    "plt.xlabel('Features')\n",
    "plt.ylabel('Importance')\n",
    "plt.xticks(rotation=60)\n",
    "plt.show"
   ]
  },
  {
   "cell_type": "code",
   "execution_count": 95,
   "id": "91f28602",
   "metadata": {},
   "outputs": [],
   "source": [
    "import pickle\n",
    "pickle.dump(model, open('ctb_model.pkl', 'wb'))"
   ]
  },
  {
   "cell_type": "code",
   "execution_count": 96,
   "id": "c0b26a36",
   "metadata": {},
   "outputs": [
    {
     "data": {
      "text/plain": [
       "['std_scaler.bin']"
      ]
     },
     "execution_count": 96,
     "metadata": {},
     "output_type": "execute_result"
    }
   ],
   "source": [
    "import joblib\n",
    "\n",
    "joblib.dump(scaler, 'std_scaler.bin', compress=True)"
   ]
  },
  {
   "cell_type": "markdown",
   "id": "58ac7ece",
   "metadata": {},
   "source": [
    "# Итерация 2"
   ]
  },
  {
   "cell_type": "code",
   "execution_count": 97,
   "id": "a2108941",
   "metadata": {},
   "outputs": [],
   "source": [
    "X = df[['addr', 'proto', 'num_timestamps', 'mean_timestamps', \n",
    "    'median_timestamps', 'anomaly', 'country']].drop_duplicates()\n",
    "X = X.fillna(0)\n",
    "\n",
    "X = X[X['addr'] != '10.4.19.138']\n",
    "X = X.merge(pd.DataFrame(list(X['addr'].str.split('.').values), columns = ['addr_1',\n",
    "                                                        'addr_2',\n",
    "                                                        'addr_3', \n",
    "                                                        'addr_4']), left_index=True, right_index=True)\n",
    "\n",
    "X_new = X.drop(['proto', 'country', 'addr_1', 'addr_2'], \n",
    "                     axis=1).merge(pd.get_dummies(X[['proto', 'country', 'addr_1', 'addr_2']], drop_first = True),\n",
    "                                                    left_index = True, right_index=True)\n",
    "\n",
    "y = X_new['anomaly']\n",
    "X_new = X_new.drop(['anomaly', 'addr_3', 'addr_4', 'addr'], axis = 1)\n",
    "\n",
    "from sklearn.model_selection import train_test_split\n",
    "\n",
    "Xtrain, Xtest, ytrain, ytest = train_test_split(X_new, y, random_state = 42, test_size = 0.3)"
   ]
  },
  {
   "cell_type": "code",
   "execution_count": 98,
   "id": "232b2883",
   "metadata": {},
   "outputs": [
    {
     "name": "stdout",
     "output_type": "stream",
     "text": [
      "{'criterion': 'gini', 'max_depth': 8, 'max_features': 'auto', 'n_estimators': 200}\n",
      "0.16986722571628232\n"
     ]
    }
   ],
   "source": [
    "from sklearn.ensemble import RandomForestClassifier\n",
    "from sklearn.preprocessing import StandardScaler\n",
    "\n",
    "scaler = StandardScaler().fit(Xtrain)\n",
    "params = { \n",
    "    'n_estimators': [200, 500],\n",
    "    'max_features': ['auto', 'sqrt', 'log2'],\n",
    "    'max_depth' : [4,5,6,7,8],\n",
    "    'criterion' :['gini', 'entropy']\n",
    "    }\n",
    "rfc = RandomForestClassifier(random_state=42)\n",
    "\n",
    "rfc_model = GridSearchCV(rfc, params, scoring=\"f1\")\n",
    "rfc_model.fit(scaler.transform(Xtrain), ytrain)\n",
    "print(rfc_model.best_params_)\n",
    "print(rfc_model.best_score_)"
   ]
  },
  {
   "cell_type": "code",
   "execution_count": 99,
   "id": "388d55c9",
   "metadata": {},
   "outputs": [],
   "source": [
    "# явно хуже катбуста"
   ]
  },
  {
   "cell_type": "markdown",
   "id": "56926017",
   "metadata": {},
   "source": [
    "# Итерация 3"
   ]
  },
  {
   "cell_type": "code",
   "execution_count": 100,
   "id": "66a5913f",
   "metadata": {},
   "outputs": [],
   "source": [
    "X = df[['addr', 'proto', 'num_timestamps', 'mean_timestamps', \n",
    "    'median_timestamps', 'anomaly', 'country']].drop_duplicates()\n",
    "X = X.fillna(0)\n",
    "\n",
    "X = X[X['addr'] != '10.4.19.138']\n",
    "X = X.merge(pd.DataFrame(list(X['addr'].str.split('.').values), columns = ['addr_1',\n",
    "                                                        'addr_2',\n",
    "                                                        'addr_3', \n",
    "                                                        'addr_4']), left_index=True, right_index=True)\n",
    "\n",
    "X_new = X.drop(['proto', 'country', 'addr_1', 'addr_2'], \n",
    "                     axis=1).merge(pd.get_dummies(X[['proto', 'country', 'addr_1', 'addr_2']], drop_first = True),\n",
    "                                                    left_index = True, right_index=True)\n",
    "\n",
    "y = X_new['anomaly']\n",
    "X_new = X_new.drop(['anomaly', 'addr_3', 'addr_4', 'addr'], axis = 1)\n",
    "\n",
    "from sklearn.model_selection import train_test_split\n",
    "\n",
    "Xtrain, Xtest, ytrain, ytest = train_test_split(X_new, y, random_state = 42, test_size = 0.3)"
   ]
  },
  {
   "cell_type": "code",
   "execution_count": 101,
   "id": "7f244e5d",
   "metadata": {},
   "outputs": [
    {
     "name": "stdout",
     "output_type": "stream",
     "text": [
      "{'C': 10.0, 'penalty': 'l2'}\n",
      "0.5304590786302994\n"
     ]
    }
   ],
   "source": [
    "from sklearn.linear_model import LogisticRegression\n",
    "\n",
    "params = {\"C\":np.logspace(-3,3,7), \"penalty\":[\"l1\",\"l2\"]}\n",
    "\n",
    "lr = LogisticRegression(random_state=42)\n",
    "\n",
    "lr_model = GridSearchCV(lr, params, scoring=\"f1\")\n",
    "lr_model.fit(scaler.transform(Xtrain), ytrain)\n",
    "print(lr_model.best_params_)\n",
    "print(lr_model.best_score_)"
   ]
  },
  {
   "cell_type": "code",
   "execution_count": 102,
   "id": "90441ff0",
   "metadata": {},
   "outputs": [],
   "source": [
    "# здесь куда лучше результат"
   ]
  },
  {
   "cell_type": "markdown",
   "id": "ac2273c9",
   "metadata": {},
   "source": [
    "# Итерация 4"
   ]
  },
  {
   "cell_type": "code",
   "execution_count": 103,
   "id": "316fd5da",
   "metadata": {},
   "outputs": [],
   "source": [
    "X = df[['addr', 'proto', 'num_timestamps', 'mean_timestamps', \n",
    "    'median_timestamps', 'anomaly', 'country']].drop_duplicates()\n",
    "X = X.fillna(0)\n",
    "\n",
    "X = X[X['addr'] != '10.4.19.138']\n",
    "X = X.merge(pd.DataFrame(list(X['addr'].str.split('.').values), columns = ['addr_1',\n",
    "                                                        'addr_2',\n",
    "                                                        'addr_3', \n",
    "                                                        'addr_4']), left_index=True, right_index=True)\n",
    "\n",
    "X_new = X.drop(['proto', 'country', 'addr_1', 'addr_2'], \n",
    "                     axis=1).merge(pd.get_dummies(X[['proto', 'country', 'addr_1', 'addr_2']], drop_first = True),\n",
    "                                                    left_index = True, right_index=True)\n",
    "\n",
    "y = X_new['anomaly']\n",
    "X_new = X_new.drop(['anomaly', 'addr_3', 'addr_4', 'addr'], axis = 1)\n",
    "\n",
    "from sklearn.model_selection import train_test_split\n",
    "\n",
    "Xtrain, Xtest, ytrain, ytest = train_test_split(X_new, y, random_state = 42, test_size = 0.3)"
   ]
  },
  {
   "cell_type": "code",
   "execution_count": 104,
   "id": "01c0161c",
   "metadata": {},
   "outputs": [
    {
     "name": "stdout",
     "output_type": "stream",
     "text": [
      "{'contamination': 0.1, 'n_estimators': 500}\n",
      "0.11275395233022727\n"
     ]
    }
   ],
   "source": [
    "from pyod.models.inne import INNE\n",
    "\n",
    "params = {'n_estimators': [50,100,200,500],\n",
    "          'contamination' : [0.01,0.1,0.5,0.5]\n",
    "         }\n",
    "inn = INNE(random_state=42)\n",
    "\n",
    "inn_model = GridSearchCV(inn, params, scoring=\"f1\")\n",
    "inn_model.fit(scaler.transform(Xtrain), ytrain)\n",
    "print(inn_model.best_params_)\n",
    "print(inn_model.best_score_)"
   ]
  },
  {
   "cell_type": "code",
   "execution_count": 105,
   "id": "ae83e800",
   "metadata": {},
   "outputs": [],
   "source": [
    "# здесь совсем слабо"
   ]
  },
  {
   "attachments": {
    "image.png": {
     "image/png": "[encoded data removed]"
    }
   },
   "cell_type": "markdown",
   "id": "b9c407a6",
   "metadata": {},
   "source": [
    "# Итог, \n",
    "\n",
    "лучше всего себя показал катбуст. Его и возьмем за основу, будем улучшать.\n",
    "\n",
    "![image.png](attachment:image.png)"
   ]
  }
 ],
 "metadata": {
  "kernelspec": {
   "display_name": "Python 3 (ipykernel)",
   "language": "python",
   "name": "python3"
  },
  "language_info": {
   "codemirror_mode": {
    "name": "ipython",
    "version": 3
   },
   "file_extension": ".py",
   "mimetype": "text/x-python",
   "name": "python",
   "nbconvert_exporter": "python",
   "pygments_lexer": "ipython3",
   "version": "3.9.13"
  }
 },
 "nbformat": 4,
 "nbformat_minor": 5
}
