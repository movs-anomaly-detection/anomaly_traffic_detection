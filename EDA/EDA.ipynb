{
 "cells": [
  {
   "cell_type": "code",
   "execution_count": 17,
   "id": "c8fff0d8",
   "metadata": {},
   "outputs": [],
   "source": [
    "import warnings\n",
    "\n",
    "import pandas as pd\n",
    "from pandas.core.common import SettingWithCopyWarning\n",
    "\n",
    "warnings.simplefilter(action=\"ignore\", category=SettingWithCopyWarning)\n",
    "warnings.simplefilter(action='ignore', category=FutureWarning)\n",
    "import json\n",
    "\n",
    "from datetime import datetime\n",
    "import numpy as np\n",
    "\n",
    "import seaborn as sns\n",
    "import matplotlib.pyplot as plt\n",
    "\n",
    "import requests"
   ]
  },
  {
   "cell_type": "markdown",
   "id": "c46ec474",
   "metadata": {},
   "source": [
    "# EDA\n",
    "\n",
    "Здесь посмотрим на данные, которые лежат в выборке без аномалий и те, которые лежат в выборке с аномалиями. Посмотрим на колонки, которые уже распаршены, а именно 'addr', 'handshake', 'packets', 'port', 'proto'. Далее из колонки packets в ходе EDA буду выделять новые колонки.\n",
    "\n",
    "Наша задача сейчас - верхнеуровнево понять, насколько то, что есть, будет полезно в ходе машинного обучения.\n",
    "1. Как много пропусков\n",
    "2. Нет ли статичных колонок\n",
    "\n",
    "Лишнее удалим."
   ]
  },
  {
   "cell_type": "code",
   "execution_count": 2,
   "id": "957a5c6f",
   "metadata": {},
   "outputs": [],
   "source": [
    "files_list = [\n",
    "'sessions_of_https_sessions_00002_20231027223905.pcapng.json',\n",
    "'sessions_of_https_sessions_00003_20231027224424.pcapng.json',\n",
    "'sessions_of_https_sessions_00004_20231027225017.pcapng.json',\n",
    "'sessions_of_https_sessions_00005_20231027225648.pcapng.json',\n",
    "'sessions_of_https_sessions_00006_20231027230320.pcapng.json',\n",
    "'sessions_of_https_sessions_00007_20231027230845.pcapng.json',\n",
    "'sessions_of_https_sessions_00008_20231027231514.pcapng.json',\n",
    "'sessions_of_https_sessions_00009_20231027232214.pcapng.json',\n",
    "'sessions_of_https_sessions_00010_20231027233030.pcapng.json',\n",
    "'sessions_of_https_sessions_00011_20231027233812.pcapng.json',\n",
    "'sessions_of_https_sessions_00012_20231027234554.pcapng.json',\n",
    "'sessions_of_https_sessions_00013_20231027235240.pcapng.json',\n",
    "'sessions_of_https_sessions_00014_20231027235915.pcapng.json',\n",
    "'sessions_of_https_sessions_00015_20231028000629.pcapng.json',\n",
    "'sessions_of_https_sessions_00016_20231028001324.pcapng.json',\n",
    "'sessions_of_https_sessions_00017_20231028002136.pcapng.json',\n",
    "'sessions_of_https_sessions_00018_20231028002753.pcapng.json',\n",
    "'sessions_of_https_sessions_00019_20231028003349.pcapng.json']"
   ]
  },
  {
   "cell_type": "code",
   "execution_count": 3,
   "id": "b1e4431f",
   "metadata": {},
   "outputs": [
    {
     "data": {
      "text/plain": [
       "1138"
      ]
     },
     "execution_count": 3,
     "metadata": {},
     "output_type": "execute_result"
    }
   ],
   "source": [
    "with open(\"C:/Users/60135487/Documents/project/Данные по годовому проекту/sessions_of_https_sessions_00001_20231027222814.pcapng.json\", 'r') as file:\n",
    "    variable_name = json.load(file)\n",
    "len(variable_name)"
   ]
  },
  {
   "cell_type": "code",
   "execution_count": 4,
   "id": "cb94fc8d",
   "metadata": {},
   "outputs": [
    {
     "data": {
      "text/plain": [
       "17841"
      ]
     },
     "execution_count": 4,
     "metadata": {},
     "output_type": "execute_result"
    }
   ],
   "source": [
    "for f in files_list:\n",
    "    with open(\"C:/Users/60135487/Documents/project/Данные по годовому проекту/\" + f, 'r') as file:\n",
    "        variable_name = variable_name + json.load(file)\n",
    "len(variable_name) "
   ]
  },
  {
   "cell_type": "code",
   "execution_count": 5,
   "id": "41c0b357",
   "metadata": {},
   "outputs": [],
   "source": [
    "columns_list = variable_name[0].keys()\n",
    "df_train = pd.DataFrame(columns = columns_list)"
   ]
  },
  {
   "cell_type": "code",
   "execution_count": 6,
   "id": "2a989630",
   "metadata": {},
   "outputs": [
    {
     "data": {
      "text/plain": [
       "dict_keys(['addr', 'handshake', 'packets', 'port', 'proto'])"
      ]
     },
     "execution_count": 6,
     "metadata": {},
     "output_type": "execute_result"
    }
   ],
   "source": [
    "columns_list"
   ]
  },
  {
   "cell_type": "code",
   "execution_count": 7,
   "id": "bab5b2c3",
   "metadata": {},
   "outputs": [],
   "source": [
    "for i in range(0, len(variable_name)):\n",
    "    df_train=pd.concat([df_train, pd.DataFrame([variable_name[i]])], ignore_index=True)"
   ]
  },
  {
   "cell_type": "markdown",
   "id": "fbfe2448",
   "metadata": {},
   "source": [
    "Смотрим на процент уникальных данных в колонках"
   ]
  },
  {
   "cell_type": "code",
   "execution_count": 8,
   "id": "e7c3fe4e",
   "metadata": {},
   "outputs": [
    {
     "data": {
      "text/plain": [
       "35.65"
      ]
     },
     "execution_count": 8,
     "metadata": {},
     "output_type": "execute_result"
    }
   ],
   "source": [
    "round(df_train.addr.nunique() / df_train.shape[0] * 100, 2)"
   ]
  },
  {
   "cell_type": "code",
   "execution_count": 9,
   "id": "dad8a7fd",
   "metadata": {},
   "outputs": [
    {
     "data": {
      "text/plain": [
       "0.01"
      ]
     },
     "execution_count": 9,
     "metadata": {},
     "output_type": "execute_result"
    }
   ],
   "source": [
    "round(df_train.port.nunique() / df_train.shape[0] * 100, 2)"
   ]
  },
  {
   "cell_type": "code",
   "execution_count": 10,
   "id": "10339feb",
   "metadata": {},
   "outputs": [
    {
     "data": {
      "text/plain": [
       "0.01"
      ]
     },
     "execution_count": 10,
     "metadata": {},
     "output_type": "execute_result"
    }
   ],
   "source": [
    "round(df_train.proto.nunique() / df_train.shape[0] * 100, 2)"
   ]
  },
  {
   "cell_type": "code",
   "execution_count": 11,
   "id": "6b504629",
   "metadata": {},
   "outputs": [
    {
     "data": {
      "text/plain": [
       "74.23"
      ]
     },
     "execution_count": 11,
     "metadata": {},
     "output_type": "execute_result"
    }
   ],
   "source": [
    "round(len(df_train[df_train['handshake'].fillna(0) !=0]) / len(df_train) * 100, 2)"
   ]
  },
  {
   "cell_type": "code",
   "execution_count": 12,
   "id": "fcb91973",
   "metadata": {},
   "outputs": [
    {
     "data": {
      "text/plain": [
       "1"
      ]
     },
     "execution_count": 12,
     "metadata": {},
     "output_type": "execute_result"
    }
   ],
   "source": [
    "df_train.port.nunique()"
   ]
  },
  {
   "cell_type": "code",
   "execution_count": 13,
   "id": "562a02d0",
   "metadata": {},
   "outputs": [
    {
     "data": {
      "text/plain": [
       "1"
      ]
     },
     "execution_count": 13,
     "metadata": {},
     "output_type": "execute_result"
    }
   ],
   "source": [
    "df_train.proto.nunique()\n",
    "# кажется, колонку proto вообще нужно дропнуть\n",
    "# но посмотрим, что лежит в файлах с аномалиями"
   ]
  },
  {
   "cell_type": "markdown",
   "id": "85cf97d2",
   "metadata": {},
   "source": [
    "Планы:\n",
    "1. Продолжу смотреть что в handshake\n",
    "\n",
    "    1.1. Сделаю бинарную колонку с наличием и отсутствием рукопожатия\n",
    "    \n",
    "    1.2. Расшаршу ее глубже, посмотрю что с сертификатами\n",
    "\n",
    "2. data - превратим в булево поле: есть нераскодированные данные или нет в этом соединении\n",
    "\n",
    "3. 443, 4433, 80, 8080 это стандартные порты. 35600 - это нестандартный порт. Мы должны сохранить эту колонку\n",
    "\n",
    "4. Идея представить addr как вектор. Четыре разные колонки с цифрами\n",
    "\n",
    "    4.1. Вычислить по айпи месторасположение\n",
    "5. Duration между timestamp'ами - считать среднее, медиану между ними\n",
    "6. Дропнуть дубликаты\n",
    "7. Сертификаты - самоподписной, их количество "
   ]
  },
  {
   "cell_type": "code",
   "execution_count": 14,
   "id": "e4b1679a",
   "metadata": {},
   "outputs": [
    {
     "name": "stderr",
     "output_type": "stream",
     "text": [
      "C:\\Users\\60135487\\AppData\\Local\\Temp\\ipykernel_13984\\3279060058.py:1: FutureWarning: The default dtype for empty Series will be 'object' instead of 'float64' in a future version. Specify a dtype explicitly to silence this warning.\n",
      "  df_train['num_timestamps'] = pd.Series()\n"
     ]
    }
   ],
   "source": [
    "df_train['num_timestamps'] = pd.Series()\n",
    "for i in range(0, len(df_train['packets'])):\n",
    "    df_train['num_timestamps'][i] = str(df_train['packets'][i]).count('timestamp')"
   ]
  },
  {
   "cell_type": "code",
   "execution_count": 15,
   "id": "f38a2587",
   "metadata": {},
   "outputs": [
    {
     "name": "stderr",
     "output_type": "stream",
     "text": [
      "C:\\Users\\60135487\\AppData\\Local\\Temp\\ipykernel_13984\\1899346913.py:1: FutureWarning: The default dtype for empty Series will be 'object' instead of 'float64' in a future version. Specify a dtype explicitly to silence this warning.\n",
      "  df_train['timestamps'] = pd.Series()\n"
     ]
    }
   ],
   "source": [
    "df_train['timestamps'] = pd.Series()\n",
    "for i in range(0, len(df_train)):\n",
    "    if df_train['num_timestamps'][i] != 0 and df_train['num_timestamps'][i] != 1:\n",
    "        timestamps_list = []\n",
    "        for j in range(0, len(df_train['packets'][i])):\n",
    "            timestamps_list.append(df_train['packets'][i][j]['timestamp'])\n",
    "        df_train['timestamps'][i] = str(timestamps_list)"
   ]
  },
  {
   "cell_type": "code",
   "execution_count": 16,
   "id": "8d3465b6",
   "metadata": {},
   "outputs": [
    {
     "name": "stderr",
     "output_type": "stream",
     "text": [
      "C:\\Users\\60135487\\AppData\\Local\\Temp\\ipykernel_13984\\2180900598.py:1: FutureWarning: The default dtype for empty Series will be 'object' instead of 'float64' in a future version. Specify a dtype explicitly to silence this warning.\n",
      "  df_train['mean_timestamps'] = pd.Series()\n",
      "C:\\Users\\60135487\\AppData\\Local\\Temp\\ipykernel_13984\\2180900598.py:2: FutureWarning: The default dtype for empty Series will be 'object' instead of 'float64' in a future version. Specify a dtype explicitly to silence this warning.\n",
      "  df_train['median_timestamps'] = pd.Series()\n"
     ]
    }
   ],
   "source": [
    "df_train['mean_timestamps'] = pd.Series()\n",
    "df_train['median_timestamps'] = pd.Series()\n",
    "for i in range(0, len(df_train)):\n",
    "    if df_train['num_timestamps'][i] != 0 and df_train['num_timestamps'][i] != 1:\n",
    "        temp = []\n",
    "        for j in range(0, int(df_train['num_timestamps'][i])-1):\n",
    "            temp.append(datetime.fromtimestamp(float(df_train['timestamps'][i].split(', ')[j+1].replace(\"[\",\"\").replace(\"]\",\"\")))- datetime.fromtimestamp(float(df_train['timestamps'][i].split(', ')[j].replace(\"[\",\"\").replace(\"]\",\"\"))))\n",
    "        df_train['mean_timestamps'][i] = np.mean(temp)\n",
    "        df_train['median_timestamps'][i] = np.median(temp)"
   ]
  },
  {
   "cell_type": "code",
   "execution_count": 18,
   "id": "232f5e46",
   "metadata": {},
   "outputs": [
    {
     "data": {
      "text/html": [
       "<div>\n",
       "<style scoped>\n",
       "    .dataframe tbody tr th:only-of-type {\n",
       "        vertical-align: middle;\n",
       "    }\n",
       "\n",
       "    .dataframe tbody tr th {\n",
       "        vertical-align: top;\n",
       "    }\n",
       "\n",
       "    .dataframe thead th {\n",
       "        text-align: right;\n",
       "    }\n",
       "</style>\n",
       "<table border=\"1\" class=\"dataframe\">\n",
       "  <thead>\n",
       "    <tr style=\"text-align: right;\">\n",
       "      <th></th>\n",
       "      <th>addr</th>\n",
       "      <th>handshake</th>\n",
       "      <th>packets</th>\n",
       "      <th>port</th>\n",
       "      <th>proto</th>\n",
       "      <th>num_timestamps</th>\n",
       "      <th>timestamps</th>\n",
       "      <th>mean_timestamps</th>\n",
       "      <th>median_timestamps</th>\n",
       "    </tr>\n",
       "  </thead>\n",
       "  <tbody>\n",
       "    <tr>\n",
       "      <th>0</th>\n",
       "      <td>140.82.121.6</td>\n",
       "      <td>[{'Extension: key_share (len=36)': {'Key Share...</td>\n",
       "      <td>[{'timestamp': 1698434896.269325}, {'timestamp...</td>\n",
       "      <td>443</td>\n",
       "      <td>tcp</td>\n",
       "      <td>25.0</td>\n",
       "      <td>[1698434896.269325, 1698434896.329026, 1698434...</td>\n",
       "      <td>0:00:00.052712</td>\n",
       "      <td>0:00:00.004318</td>\n",
       "    </tr>\n",
       "    <tr>\n",
       "      <th>1</th>\n",
       "      <td>172.64.41.4</td>\n",
       "      <td>[{'Extension: key_share (len=36)': {'Key Share...</td>\n",
       "      <td>[{'timestamp': 1698434900.01603}, {'timestamp'...</td>\n",
       "      <td>443</td>\n",
       "      <td>tcp</td>\n",
       "      <td>12880.0</td>\n",
       "      <td>[1698434900.01603, 1698434900.01614, 169843490...</td>\n",
       "      <td>0:00:00.045894</td>\n",
       "      <td>0:00:00.000647</td>\n",
       "    </tr>\n",
       "    <tr>\n",
       "      <th>2</th>\n",
       "      <td>34.160.144.191</td>\n",
       "      <td>[{'Extension: application_layer_protocol_negot...</td>\n",
       "      <td>[{'timestamp': 1698434900.921825}, {'timestamp...</td>\n",
       "      <td>443</td>\n",
       "      <td>tcp</td>\n",
       "      <td>37.0</td>\n",
       "      <td>[1698434900.921825, 1698434900.922489, 1698434...</td>\n",
       "      <td>0:00:04.746263</td>\n",
       "      <td>0:00:00.001422</td>\n",
       "    </tr>\n",
       "    <tr>\n",
       "      <th>3</th>\n",
       "      <td>209.85.233.104</td>\n",
       "      <td>[{'Extension: key_share (len=36)': {'Key Share...</td>\n",
       "      <td>[{'timestamp': 1698434901.770399}, {'timestamp...</td>\n",
       "      <td>443</td>\n",
       "      <td>tcp</td>\n",
       "      <td>899.0</td>\n",
       "      <td>[1698434901.770399, 1698434901.771339, 1698434...</td>\n",
       "      <td>0:00:00.550077</td>\n",
       "      <td>0:00:00.000336</td>\n",
       "    </tr>\n",
       "    <tr>\n",
       "      <th>4</th>\n",
       "      <td>209.85.233.94</td>\n",
       "      <td>[{'Extension: key_share (len=36)': {'Key Share...</td>\n",
       "      <td>[{'timestamp': 1698434902.141365}, {'timestamp...</td>\n",
       "      <td>443</td>\n",
       "      <td>tcp</td>\n",
       "      <td>493.0</td>\n",
       "      <td>[1698434902.141365, 1698434902.142996, 1698434...</td>\n",
       "      <td>0:00:01.213314</td>\n",
       "      <td>0:00:00.002324</td>\n",
       "    </tr>\n",
       "  </tbody>\n",
       "</table>\n",
       "</div>"
      ],
      "text/plain": [
       "             addr                                          handshake  \\\n",
       "0    140.82.121.6  [{'Extension: key_share (len=36)': {'Key Share...   \n",
       "1     172.64.41.4  [{'Extension: key_share (len=36)': {'Key Share...   \n",
       "2  34.160.144.191  [{'Extension: application_layer_protocol_negot...   \n",
       "3  209.85.233.104  [{'Extension: key_share (len=36)': {'Key Share...   \n",
       "4   209.85.233.94  [{'Extension: key_share (len=36)': {'Key Share...   \n",
       "\n",
       "                                             packets port proto  \\\n",
       "0  [{'timestamp': 1698434896.269325}, {'timestamp...  443   tcp   \n",
       "1  [{'timestamp': 1698434900.01603}, {'timestamp'...  443   tcp   \n",
       "2  [{'timestamp': 1698434900.921825}, {'timestamp...  443   tcp   \n",
       "3  [{'timestamp': 1698434901.770399}, {'timestamp...  443   tcp   \n",
       "4  [{'timestamp': 1698434902.141365}, {'timestamp...  443   tcp   \n",
       "\n",
       "   num_timestamps                                         timestamps  \\\n",
       "0            25.0  [1698434896.269325, 1698434896.329026, 1698434...   \n",
       "1         12880.0  [1698434900.01603, 1698434900.01614, 169843490...   \n",
       "2            37.0  [1698434900.921825, 1698434900.922489, 1698434...   \n",
       "3           899.0  [1698434901.770399, 1698434901.771339, 1698434...   \n",
       "4           493.0  [1698434902.141365, 1698434902.142996, 1698434...   \n",
       "\n",
       "  mean_timestamps median_timestamps  \n",
       "0  0:00:00.052712    0:00:00.004318  \n",
       "1  0:00:00.045894    0:00:00.000647  \n",
       "2  0:00:04.746263    0:00:00.001422  \n",
       "3  0:00:00.550077    0:00:00.000336  \n",
       "4  0:00:01.213314    0:00:00.002324  "
      ]
     },
     "execution_count": 18,
     "metadata": {},
     "output_type": "execute_result"
    }
   ],
   "source": [
    "df_train.head()"
   ]
  },
  {
   "cell_type": "markdown",
   "id": "040483a1",
   "metadata": {},
   "source": [
    "### Посмотрим на данные с аномалиями"
   ]
  },
  {
   "cell_type": "code",
   "execution_count": 19,
   "id": "089afb19",
   "metadata": {},
   "outputs": [],
   "source": [
    "anomaly_data = [\n",
    "'sessions_of_2023-02-Unit42-Wireshark-quiz.pcap.json',\n",
    "'sessions_of_2023-03-Unit42-Wireshark-quiz.pcap.json',\n",
    "'sessions_of_2023-04-Unit42-Wireshark-quiz.pcap.json',\n",
    "'sessions_of_2023-07-Unit42-Wireshark-quiz.pcap.json'\n",
    "]"
   ]
  },
  {
   "cell_type": "code",
   "execution_count": 20,
   "id": "2b28ca26",
   "metadata": {},
   "outputs": [
    {
     "data": {
      "text/plain": [
       "11"
      ]
     },
     "execution_count": 20,
     "metadata": {},
     "output_type": "execute_result"
    }
   ],
   "source": [
    "with open(\"C:/Users/60135487/Documents/project/Данные по годовому проекту/sessions_of_2023-01-Unit42-Wireshark-quiz.pcap.json\", 'r') as file:\n",
    "    anomaly = json.load(file)\n",
    "len(anomaly)"
   ]
  },
  {
   "cell_type": "code",
   "execution_count": 21,
   "id": "3d4b1968",
   "metadata": {},
   "outputs": [
    {
     "data": {
      "text/plain": [
       "1265"
      ]
     },
     "execution_count": 21,
     "metadata": {},
     "output_type": "execute_result"
    }
   ],
   "source": [
    "for f in anomaly_data:\n",
    "    with open(\"C:/Users/60135487/Documents/project/Данные по годовому проекту/\" + f, 'r') as file:\n",
    "        anomaly = anomaly + json.load(file)\n",
    "len(anomaly) "
   ]
  },
  {
   "cell_type": "code",
   "execution_count": 22,
   "id": "12236198",
   "metadata": {},
   "outputs": [],
   "source": [
    "columns_list_anomaly = anomaly[0].keys()\n",
    "df_train_anomaly = pd.DataFrame(columns = columns_list_anomaly)\n",
    "for i in range(0, len(anomaly)):\n",
    "    df_train_anomaly=pd.concat([df_train_anomaly, pd.DataFrame([anomaly[i]])], ignore_index=True)"
   ]
  },
  {
   "cell_type": "code",
   "execution_count": 23,
   "id": "2aa3a677",
   "metadata": {},
   "outputs": [
    {
     "data": {
      "text/plain": [
       "362"
      ]
     },
     "execution_count": 23,
     "metadata": {},
     "output_type": "execute_result"
    }
   ],
   "source": [
    "df_train_anomaly.addr.nunique()"
   ]
  },
  {
   "cell_type": "code",
   "execution_count": 24,
   "id": "c41514ec",
   "metadata": {},
   "outputs": [
    {
     "data": {
      "text/plain": [
       "814"
      ]
     },
     "execution_count": 24,
     "metadata": {},
     "output_type": "execute_result"
    }
   ],
   "source": [
    "df_train_anomaly.port.nunique()"
   ]
  },
  {
   "cell_type": "code",
   "execution_count": 25,
   "id": "babf7b35",
   "metadata": {},
   "outputs": [
    {
     "data": {
      "text/plain": [
       "3"
      ]
     },
     "execution_count": 25,
     "metadata": {},
     "output_type": "execute_result"
    }
   ],
   "source": [
    "df_train_anomaly.proto.nunique()"
   ]
  },
  {
   "cell_type": "code",
   "execution_count": 26,
   "id": "9baf813d",
   "metadata": {},
   "outputs": [],
   "source": [
    "df_train_anomaly['num_timestamps'] = pd.Series()\n",
    "for i in range(0, len(df_train_anomaly['packets'])):\n",
    "    df_train_anomaly['num_timestamps'][i] = str(df_train_anomaly['packets'][i]).count('timestamp')"
   ]
  },
  {
   "cell_type": "code",
   "execution_count": 27,
   "id": "8b6ec69e",
   "metadata": {},
   "outputs": [],
   "source": [
    "df_train_anomaly['timestamps'] = pd.Series()\n",
    "for i in range(0, len(df_train_anomaly)):\n",
    "    if df_train_anomaly['num_timestamps'][i] != 0 and df_train_anomaly['num_timestamps'][i] != 1:\n",
    "        timestamps_list = []\n",
    "        for j in range(0, len(df_train_anomaly['packets'][i])):\n",
    "            timestamps_list.append(df_train_anomaly['packets'][i][j]['timestamp'])\n",
    "        df_train_anomaly['timestamps'][i] = str(timestamps_list)"
   ]
  },
  {
   "cell_type": "code",
   "execution_count": 28,
   "id": "c482836d",
   "metadata": {},
   "outputs": [],
   "source": [
    "df_train_anomaly['mean_timestamps'] = pd.Series()\n",
    "df_train_anomaly['median_timestamps'] = pd.Series()\n",
    "for i in range(0, len(df_train_anomaly)):\n",
    "    if df_train_anomaly['num_timestamps'][i] != 0 and df_train_anomaly['num_timestamps'][i] != 1:\n",
    "        temp = []\n",
    "        for j in range(0, int(df_train_anomaly['num_timestamps'][i])-1):\n",
    "            temp.append(datetime.fromtimestamp(float(df_train_anomaly['timestamps'][i].split(', ')[j+1].replace(\"[\",\"\").replace(\"]\",\"\")))- datetime.fromtimestamp(float(df_train_anomaly['timestamps'][i].split(', ')[j].replace(\"[\",\"\").replace(\"]\",\"\"))))\n",
    "        df_train_anomaly['mean_timestamps'][i] = np.mean(temp)\n",
    "        df_train_anomaly['median_timestamps'][i] = np.median(temp)"
   ]
  },
  {
   "cell_type": "code",
   "execution_count": 29,
   "id": "1d320907",
   "metadata": {},
   "outputs": [],
   "source": [
    "df_train['anomaly'] = 0\n",
    "df_train_anomaly['anomaly'] = 1\n",
    "# генерирую колонку ответов"
   ]
  },
  {
   "cell_type": "code",
   "execution_count": 30,
   "id": "e3f2bca0",
   "metadata": {},
   "outputs": [],
   "source": [
    "df = pd.concat([df_train, df_train_anomaly])\n",
    "# генерирую общий датафрейм"
   ]
  },
  {
   "cell_type": "code",
   "execution_count": 31,
   "id": "c9c677d0",
   "metadata": {},
   "outputs": [],
   "source": [
    "df['mean_timestamps'] = df['mean_timestamps'].map(lambda x: pd.to_timedelta(x).microseconds)\n",
    "df['median_timestamps'] = df['median_timestamps'].map(lambda x: pd.to_timedelta(x).microseconds)\n",
    "# для удобства перевожу в инт"
   ]
  },
  {
   "cell_type": "markdown",
   "id": "779042c4",
   "metadata": {},
   "source": [
    "Сравним между собой данные с аномалиями и данные с отсутствием аномалий. Если найдем колонки, не имеющие разницы, они станут кандидатами на удаление. В первую очередь посмотримна сгенерированные нами колонки."
   ]
  },
  {
   "cell_type": "code",
   "execution_count": 104,
   "id": "dbb36742",
   "metadata": {},
   "outputs": [
    {
     "data": {
      "image/png": "[encoded data removed]",
      "text/plain": [
       "<Figure size 1600x500 with 1 Axes>"
      ]
     },
     "metadata": {},
     "output_type": "display_data"
    }
   ],
   "source": [
    "fig, axs = plt.subplots(1)\n",
    "fig.set_size_inches(16, 5)\n",
    "\n",
    "sns.boxplot(data=df, x = 'anomaly', y = 'mean_timestamps').set_title(\"Средние дельты между таймстемпами\")\n",
    "\n",
    "plt.xticks(rotation=0)\n",
    "plt.show()"
   ]
  },
  {
   "cell_type": "code",
   "execution_count": 37,
   "id": "1ea0f7d7",
   "metadata": {},
   "outputs": [
    {
     "data": {
      "image/png": "[encoded data removed]",
      "text/plain": [
       "<Figure size 1600x500 with 1 Axes>"
      ]
     },
     "metadata": {},
     "output_type": "display_data"
    }
   ],
   "source": [
    "fig, axs = plt.subplots(1)\n",
    "fig.set_size_inches(16, 5)\n",
    "\n",
    "sns.boxplot(data=df, x = 'anomaly', y = 'median_timestamps').set_title(\"Медианные дельты между таймстемпами\")\n",
    "\n",
    "plt.xticks(rotation=0)\n",
    "plt.show()"
   ]
  },
  {
   "cell_type": "code",
   "execution_count": 38,
   "id": "abe567bf",
   "metadata": {},
   "outputs": [
    {
     "data": {
      "image/png": "[encoded data removed]",
      "text/plain": [
       "<Figure size 1600x500 with 1 Axes>"
      ]
     },
     "metadata": {},
     "output_type": "display_data"
    }
   ],
   "source": [
    "fig, axs = plt.subplots(1)\n",
    "fig.set_size_inches(16, 5)\n",
    "\n",
    "sns.boxplot(data=df, x = 'anomaly', y = 'num_timestamps').set_title(\"Количество таймстемпов\")\n",
    "\n",
    "plt.xticks(rotation=0)\n",
    "plt.show()"
   ]
  },
  {
   "cell_type": "markdown",
   "id": "147a8ab3",
   "metadata": {},
   "source": [
    "Посмотрим, есть ли различия между портами, их количеством в группировке по классам"
   ]
  },
  {
   "cell_type": "code",
   "execution_count": 39,
   "id": "6b439536",
   "metadata": {},
   "outputs": [
    {
     "data": {
      "text/html": [
       "<div>\n",
       "<style scoped>\n",
       "    .dataframe tbody tr th:only-of-type {\n",
       "        vertical-align: middle;\n",
       "    }\n",
       "\n",
       "    .dataframe tbody tr th {\n",
       "        vertical-align: top;\n",
       "    }\n",
       "\n",
       "    .dataframe thead th {\n",
       "        text-align: right;\n",
       "    }\n",
       "</style>\n",
       "<table border=\"1\" class=\"dataframe\">\n",
       "  <thead>\n",
       "    <tr style=\"text-align: right;\">\n",
       "      <th></th>\n",
       "      <th>anomaly</th>\n",
       "      <th>port</th>\n",
       "    </tr>\n",
       "  </thead>\n",
       "  <tbody>\n",
       "    <tr>\n",
       "      <th>0</th>\n",
       "      <td>0</td>\n",
       "      <td>1</td>\n",
       "    </tr>\n",
       "    <tr>\n",
       "      <th>1</th>\n",
       "      <td>1</td>\n",
       "      <td>814</td>\n",
       "    </tr>\n",
       "  </tbody>\n",
       "</table>\n",
       "</div>"
      ],
      "text/plain": [
       "   anomaly  port\n",
       "0        0     1\n",
       "1        1   814"
      ]
     },
     "execution_count": 39,
     "metadata": {},
     "output_type": "execute_result"
    }
   ],
   "source": [
    "df.groupby(['anomaly'], as_index=False).port.nunique()"
   ]
  },
  {
   "cell_type": "markdown",
   "id": "135df50d",
   "metadata": {},
   "source": [
    "Посмотрим, есть ли различия между proto, их количеством в группировке по классам"
   ]
  },
  {
   "cell_type": "code",
   "execution_count": 40,
   "id": "d47feeb0",
   "metadata": {},
   "outputs": [
    {
     "data": {
      "text/html": [
       "<div>\n",
       "<style scoped>\n",
       "    .dataframe tbody tr th:only-of-type {\n",
       "        vertical-align: middle;\n",
       "    }\n",
       "\n",
       "    .dataframe tbody tr th {\n",
       "        vertical-align: top;\n",
       "    }\n",
       "\n",
       "    .dataframe thead th {\n",
       "        text-align: right;\n",
       "    }\n",
       "</style>\n",
       "<table border=\"1\" class=\"dataframe\">\n",
       "  <thead>\n",
       "    <tr style=\"text-align: right;\">\n",
       "      <th></th>\n",
       "      <th>anomaly</th>\n",
       "      <th>proto</th>\n",
       "    </tr>\n",
       "  </thead>\n",
       "  <tbody>\n",
       "    <tr>\n",
       "      <th>0</th>\n",
       "      <td>0</td>\n",
       "      <td>1</td>\n",
       "    </tr>\n",
       "    <tr>\n",
       "      <th>1</th>\n",
       "      <td>1</td>\n",
       "      <td>3</td>\n",
       "    </tr>\n",
       "  </tbody>\n",
       "</table>\n",
       "</div>"
      ],
      "text/plain": [
       "   anomaly  proto\n",
       "0        0      1\n",
       "1        1      3"
      ]
     },
     "execution_count": 40,
     "metadata": {},
     "output_type": "execute_result"
    }
   ],
   "source": [
    "df.groupby(['anomaly'], as_index=False).proto.nunique()"
   ]
  },
  {
   "cell_type": "markdown",
   "id": "4f5a45f0",
   "metadata": {},
   "source": [
    "Пока кажется, что каждую из фичей 'port', 'proto', 'num_timestamps', 'mean_timestamps', 'median_timestamps' нужно оставить. Попробуем сгененрировать фичи из колонки 'addr': найдем страну."
   ]
  },
  {
   "cell_type": "code",
   "execution_count": 41,
   "id": "b1cdf74b",
   "metadata": {},
   "outputs": [
    {
     "data": {
      "text/plain": [
       "'Russia'"
      ]
     },
     "execution_count": 41,
     "metadata": {},
     "output_type": "execute_result"
    }
   ],
   "source": [
    "def get_ip():\n",
    "    response = requests.get('https://api64.ipify.org?format=json').json()\n",
    "    return response[\"ip\"]\n",
    "\n",
    "\n",
    "def get_location(ip):\n",
    "    # ip_address = get_ip()\n",
    "    ip_address = ip\n",
    "    response = requests.get(f'https://ipapi.co/{ip_address}/json/').json()\n",
    "    location_data = {\n",
    "        \"ip\": ip_address,\n",
    "        \"city\": response.get(\"city\"),\n",
    "        \"region\": response.get(\"region\"),\n",
    "        \"country\": response.get(\"country_name\")\n",
    "    }\n",
    "    return location_data\n",
    "\n",
    "get_location(get_ip())['country']"
   ]
  },
  {
   "cell_type": "code",
   "execution_count": 43,
   "id": "3913cdd0",
   "metadata": {},
   "outputs": [
    {
     "data": {
      "text/plain": [
       "'Russia'"
      ]
     },
     "execution_count": 43,
     "metadata": {},
     "output_type": "execute_result"
    }
   ],
   "source": [
    "get_location(get_ip())['country']"
   ]
  },
  {
   "cell_type": "code",
   "execution_count": 44,
   "id": "dba140e6",
   "metadata": {},
   "outputs": [],
   "source": [
    "cntr = []\n",
    "for i in df['addr']:\n",
    "    cntr.append(get_location(i)['country'])\n",
    "df['country'] = cntr"
   ]
  },
  {
   "cell_type": "code",
   "execution_count": 45,
   "id": "c82452ee",
   "metadata": {},
   "outputs": [
    {
     "data": {
      "text/plain": [
       "17"
      ]
     },
     "execution_count": 45,
     "metadata": {},
     "output_type": "execute_result"
    }
   ],
   "source": [
    "df.country.nunique()"
   ]
  },
  {
   "cell_type": "code",
   "execution_count": 48,
   "id": "09f4174a",
   "metadata": {},
   "outputs": [
    {
     "data": {
      "text/html": [
       "<div>\n",
       "<style scoped>\n",
       "    .dataframe tbody tr th:only-of-type {\n",
       "        vertical-align: middle;\n",
       "    }\n",
       "\n",
       "    .dataframe tbody tr th {\n",
       "        vertical-align: top;\n",
       "    }\n",
       "\n",
       "    .dataframe thead th {\n",
       "        text-align: right;\n",
       "    }\n",
       "</style>\n",
       "<table border=\"1\" class=\"dataframe\">\n",
       "  <thead>\n",
       "    <tr style=\"text-align: right;\">\n",
       "      <th></th>\n",
       "      <th>anomaly</th>\n",
       "      <th>country</th>\n",
       "    </tr>\n",
       "  </thead>\n",
       "  <tbody>\n",
       "    <tr>\n",
       "      <th>0</th>\n",
       "      <td>0</td>\n",
       "      <td>17</td>\n",
       "    </tr>\n",
       "    <tr>\n",
       "      <th>1</th>\n",
       "      <td>1</td>\n",
       "      <td>0</td>\n",
       "    </tr>\n",
       "  </tbody>\n",
       "</table>\n",
       "</div>"
      ],
      "text/plain": [
       "   anomaly  country\n",
       "0        0       17\n",
       "1        1        0"
      ]
     },
     "execution_count": 48,
     "metadata": {},
     "output_type": "execute_result"
    }
   ],
   "source": [
    "df.groupby(['anomaly'], as_index=False).country.nunique()\n",
    "# очевидны отличия между классами"
   ]
  },
  {
   "cell_type": "code",
   "execution_count": 52,
   "id": "87fbcfcc",
   "metadata": {},
   "outputs": [
    {
     "data": {
      "text/plain": [
       "(19106, 8)"
      ]
     },
     "execution_count": 52,
     "metadata": {},
     "output_type": "execute_result"
    }
   ],
   "source": [
    "df[['addr', 'port', 'proto', 'num_timestamps', 'mean_timestamps', 'median_timestamps', 'anomaly', 'country']].shape"
   ]
  },
  {
   "cell_type": "code",
   "execution_count": 54,
   "id": "797cfa53",
   "metadata": {},
   "outputs": [
    {
     "data": {
      "text/plain": [
       "(19086, 8)"
      ]
     },
     "execution_count": 54,
     "metadata": {},
     "output_type": "execute_result"
    }
   ],
   "source": [
    "df[['addr', 'port', 'proto', 'num_timestamps', 'mean_timestamps', \n",
    "    'median_timestamps', 'anomaly', 'country']].drop_duplicates().shape"
   ]
  },
  {
   "cell_type": "markdown",
   "id": "ae2417fb",
   "metadata": {},
   "source": [
    "Так как генерировали много признаков из одной колонки, посмотрим на корреляции"
   ]
  },
  {
   "cell_type": "code",
   "execution_count": 57,
   "id": "2de79353",
   "metadata": {},
   "outputs": [
    {
     "data": {
      "image/png": "[encoded data removed]",
      "text/plain": [
       "<Figure size 640x480 with 2 Axes>"
      ]
     },
     "metadata": {},
     "output_type": "display_data"
    }
   ],
   "source": [
    "sns.heatmap(df[['addr', 'port', 'proto',\n",
    "               'num_timestamps', 'mean_timestamps', 'median_timestamps', 'anomaly', 'country']].drop_duplicates().corr(), \n",
    "            cmap=\"Blues\", annot=True);"
   ]
  },
  {
   "cell_type": "markdown",
   "id": "608bbb43",
   "metadata": {},
   "source": [
    "# Pipeline\n",
    "\n",
    "## Итерация 1\n",
    "\n",
    "Обучим на этих фичах модель. Для первого подхода выбрала catboost. \n",
    "\n",
    "Затем замерим качество на отложенной выборке, посмотрим, какие фичи наиболее важны."
   ]
  },
  {
   "cell_type": "code",
   "execution_count": 237,
   "id": "e8cc180c",
   "metadata": {},
   "outputs": [],
   "source": [
    "X = df[['addr', 'port', 'proto', 'num_timestamps', 'mean_timestamps', \n",
    "    'median_timestamps', 'anomaly', 'country']].drop_duplicates()\n",
    "X = X.fillna(0)\n",
    "\n",
    "y = X['anomaly']\n",
    "X = X.drop(['anomaly'], axis = 1)\n",
    "\n",
    "from sklearn.model_selection import train_test_split\n",
    "\n",
    "Xtrain, Xtest, ytrain, ytest = train_test_split(X, y, random_state = 42, test_size = 0.3)"
   ]
  },
  {
   "cell_type": "code",
   "execution_count": 238,
   "id": "a9adb79a",
   "metadata": {},
   "outputs": [
    {
     "name": "stdout",
     "output_type": "stream",
     "text": [
      "Requirement already satisfied: catboost in c:\\users\\60135487\\anaconda3\\lib\\site-packages (1.2.2)\n",
      "Requirement already satisfied: matplotlib in c:\\users\\60135487\\anaconda3\\lib\\site-packages (from catboost) (3.5.2)\n",
      "Requirement already satisfied: scipy in c:\\users\\60135487\\anaconda3\\lib\\site-packages (from catboost) (1.9.1)\n",
      "Requirement already satisfied: graphviz in c:\\users\\60135487\\anaconda3\\lib\\site-packages (from catboost) (0.20.1)\n",
      "Requirement already satisfied: pandas>=0.24 in c:\\users\\60135487\\anaconda3\\lib\\site-packages (from catboost) (1.4.4)\n",
      "Requirement already satisfied: plotly in c:\\users\\60135487\\anaconda3\\lib\\site-packages (from catboost) (5.9.0)\n",
      "Requirement already satisfied: six in c:\\users\\60135487\\anaconda3\\lib\\site-packages (from catboost) (1.16.0)\n",
      "Requirement already satisfied: numpy>=1.16.0 in c:\\users\\60135487\\anaconda3\\lib\\site-packages (from catboost) (1.21.5)\n",
      "Requirement already satisfied: pytz>=2020.1 in c:\\users\\60135487\\anaconda3\\lib\\site-packages (from pandas>=0.24->catboost) (2022.1)\n",
      "Requirement already satisfied: python-dateutil>=2.8.1 in c:\\users\\60135487\\anaconda3\\lib\\site-packages (from pandas>=0.24->catboost) (2.8.2)\n",
      "Requirement already satisfied: cycler>=0.10 in c:\\users\\60135487\\anaconda3\\lib\\site-packages (from matplotlib->catboost) (0.11.0)\n",
      "Requirement already satisfied: fonttools>=4.22.0 in c:\\users\\60135487\\anaconda3\\lib\\site-packages (from matplotlib->catboost) (4.25.0)\n",
      "Requirement already satisfied: packaging>=20.0 in c:\\users\\60135487\\anaconda3\\lib\\site-packages (from matplotlib->catboost) (21.3)\n",
      "Requirement already satisfied: kiwisolver>=1.0.1 in c:\\users\\60135487\\anaconda3\\lib\\site-packages (from matplotlib->catboost) (1.4.2)\n",
      "Requirement already satisfied: pillow>=6.2.0 in c:\\users\\60135487\\anaconda3\\lib\\site-packages (from matplotlib->catboost) (9.2.0)\n",
      "Requirement already satisfied: pyparsing>=2.2.1 in c:\\users\\60135487\\anaconda3\\lib\\site-packages (from matplotlib->catboost) (3.0.9)\n",
      "Requirement already satisfied: tenacity>=6.2.0 in c:\\users\\60135487\\anaconda3\\lib\\site-packages (from plotly->catboost) (8.0.1)\n"
     ]
    }
   ],
   "source": [
    "!pip install catboost\n",
    "from catboost import CatBoostClassifier\n",
    "\n",
    "clf = CatBoostClassifier(random_state=42, verbose=False,\n",
    "                        cat_features = ['addr', 'port', 'proto', 'country'])"
   ]
  },
  {
   "cell_type": "code",
   "execution_count": 239,
   "id": "0a2dfeda",
   "metadata": {},
   "outputs": [],
   "source": [
    "model_1 = clf.fit(Xtrain, ytrain)"
   ]
  },
  {
   "cell_type": "code",
   "execution_count": 240,
   "id": "e2434e9a",
   "metadata": {},
   "outputs": [
    {
     "data": {
      "text/plain": [
       "333"
      ]
     },
     "execution_count": 240,
     "metadata": {},
     "output_type": "execute_result"
    }
   ],
   "source": [
    "sum(model_1.predict(Xtest) ==1)\n",
    "# какие-то все же пометил аномалиями\n",
    "# отлично, посчитаем roc_auc_score"
   ]
  },
  {
   "cell_type": "code",
   "execution_count": 241,
   "id": "8c1331a6",
   "metadata": {},
   "outputs": [
    {
     "data": {
      "text/plain": [
       "0.94"
      ]
     },
     "execution_count": 241,
     "metadata": {},
     "output_type": "execute_result"
    }
   ],
   "source": [
    "from sklearn.metrics import f1_score, confusion_matrix, roc_auc_score, roc_curve, ConfusionMatrixDisplay\n",
    "\n",
    "round(roc_auc_score(ytest, model_1.predict(Xtest)), 2)\n",
    "# для сравнения с другими моделями"
   ]
  },
  {
   "cell_type": "code",
   "execution_count": 242,
   "id": "50da7694",
   "metadata": {},
   "outputs": [
    {
     "data": {
      "text/plain": [
       "0.93"
      ]
     },
     "execution_count": 242,
     "metadata": {},
     "output_type": "execute_result"
    }
   ],
   "source": [
    "round(f1_score(ytest, model_1.predict(Xtest)), 2)\n",
    "# для оценки работы модели"
   ]
  },
  {
   "cell_type": "code",
   "execution_count": 243,
   "id": "5a1b1939",
   "metadata": {},
   "outputs": [],
   "source": [
    "def plot_roc_curve(true_y, y_prob):\n",
    "\n",
    "    fpr, tpr, thresholds = roc_curve(true_y, y_prob)\n",
    "    plt.plot(fpr, tpr)\n",
    "    plt.xlabel('False Positive Rate')\n",
    "    plt.ylabel('True Positive Rate')"
   ]
  },
  {
   "cell_type": "code",
   "execution_count": 244,
   "id": "9942130d",
   "metadata": {},
   "outputs": [
    {
     "name": "stdout",
     "output_type": "stream",
     "text": [
      "model AUC score: 0.9418307485911448\n"
     ]
    },
    {
     "data": {
      "image/png": "[encoded data removed]",
      "text/plain": [
       "<Figure size 640x480 with 1 Axes>"
      ]
     },
     "metadata": {},
     "output_type": "display_data"
    }
   ],
   "source": [
    "plot_roc_curve(ytest, model_1.predict(Xtest))\n",
    "print(f'model AUC score: {roc_auc_score(ytest, model_1.predict(Xtest))}')"
   ]
  },
  {
   "cell_type": "code",
   "execution_count": 245,
   "id": "f0cbbbd3",
   "metadata": {},
   "outputs": [
    {
     "data": {
      "image/png": "[encoded data removed]",
      "text/plain": [
       "<Figure size 640x480 with 2 Axes>"
      ]
     },
     "metadata": {},
     "output_type": "display_data"
    }
   ],
   "source": [
    "confusion_matrix = confusion_matrix(ytest, model_1.predict(Xtest))\n",
    "\n",
    "cm_display = ConfusionMatrixDisplay(confusion_matrix = confusion_matrix, display_labels = [False, True])\n",
    "\n",
    "cm_display.plot()\n",
    "plt.show()"
   ]
  },
  {
   "cell_type": "code",
   "execution_count": 246,
   "id": "bc4d56a9",
   "metadata": {},
   "outputs": [
    {
     "data": {
      "text/plain": [
       "<function matplotlib.pyplot.show(close=None, block=None)>"
      ]
     },
     "execution_count": 246,
     "metadata": {},
     "output_type": "execute_result"
    },
    {
     "data": {
      "image/png": "[encoded data removed]",
      "text/plain": [
       "<Figure size 640x480 with 1 Axes>"
      ]
     },
     "metadata": {},
     "output_type": "display_data"
    }
   ],
   "source": [
    "plt.bar(Xtrain.columns, model_1.feature_importances_)\n",
    "plt.xlabel('Features')\n",
    "plt.ylabel('Importance')\n",
    "plt.xticks(rotation=60)\n",
    "plt.show"
   ]
  },
  {
   "cell_type": "markdown",
   "id": "713b0247",
   "metadata": {},
   "source": [
    "## Промежуточные итоги\n",
    "\n",
    "Очень похоже, что модель переобучилась под наши данные, и из-за их количества мы не увидели это на тесте. Попробуем проверить эту гипотезу, начнем с исследования порта. Сколько правильных ответов, когда порт 443 и когда это аномалия?"
   ]
  },
  {
   "cell_type": "code",
   "execution_count": 250,
   "id": "b3c15a77",
   "metadata": {},
   "outputs": [
    {
     "data": {
      "text/plain": [
       "41"
      ]
     },
     "execution_count": 250,
     "metadata": {},
     "output_type": "execute_result"
    }
   ],
   "source": [
    "Xtest['predict'] = model_1.predict(Xtest)\n",
    "Xtest['ans'] = ytest\n",
    "len(Xtest[(Xtest['port'] == '443') & (Xtest['ans'] == 1) & (Xtest['predict'] == 1)])"
   ]
  },
  {
   "cell_type": "markdown",
   "id": "e389cc4c",
   "metadata": {},
   "source": [
    "А сколько неверно?"
   ]
  },
  {
   "cell_type": "code",
   "execution_count": 251,
   "id": "0042b593",
   "metadata": {},
   "outputs": [
    {
     "data": {
      "text/plain": [
       "43"
      ]
     },
     "execution_count": 251,
     "metadata": {},
     "output_type": "execute_result"
    }
   ],
   "source": [
    "len(Xtest[(Xtest['port'] == '443') & (Xtest['ans'] == 1) & (Xtest['predict'] == 0)])"
   ]
  },
  {
   "cell_type": "markdown",
   "id": "b3f7bfd1",
   "metadata": {},
   "source": [
    "То есть примерно поровину модель ошиблась на 443 порте. На неаномалиях этот порт единственный. Попробуем просто выкинуть эту фичу, похоже, что модель под нее переобучилась.\n",
    "\n",
    "Продолжим с колонкой айпи-адреса. Среди вредных адресов встречается ли один какой-то?"
   ]
  },
  {
   "cell_type": "code",
   "execution_count": 252,
   "id": "737b604c",
   "metadata": {},
   "outputs": [
    {
     "data": {
      "text/plain": [
       "addr\n",
       "10.4.19.138       225\n",
       "10.4.19.143        20\n",
       "10.0.0.6            5\n",
       "10.4.19.19          4\n",
       "10.7.10.9           4\n",
       "                 ... \n",
       "20.12.23.50         1\n",
       "20.106.86.13        1\n",
       "199.59.242.150      1\n",
       "198.38.82.29        1\n",
       "99.83.154.118       1\n",
       "Length: 112, dtype: int64"
      ]
     },
     "execution_count": 252,
     "metadata": {},
     "output_type": "execute_result"
    }
   ],
   "source": [
    "Xtest[(Xtest['ans'] == 1)].value_counts('addr')"
   ]
  },
  {
   "cell_type": "code",
   "execution_count": 254,
   "id": "d72bbc55",
   "metadata": {},
   "outputs": [
    {
     "data": {
      "text/plain": [
       "1.0"
      ]
     },
     "execution_count": 254,
     "metadata": {},
     "output_type": "execute_result"
    }
   ],
   "source": [
    "len(Xtest[(Xtest['ans'] == 1) & (Xtest['addr'] == '10.4.19.138') & (Xtest['predict'] == 1)]) / 225"
   ]
  },
  {
   "cell_type": "markdown",
   "id": "9588bf9a",
   "metadata": {},
   "source": [
    "В ста процентах случаев с первым адресом модель угадала правильный ответ. Явно присутствует переобученность и на этой колонке:\n",
    "\n",
    "1. Кажется, строки с первым адресом стоит выкинуть. \n",
    "\n",
    "2. И от самих адресов оставим также первые две цифры."
   ]
  },
  {
   "cell_type": "markdown",
   "id": "00c83920",
   "metadata": {},
   "source": [
    "## Итерация 2\n",
    "\n",
    "Выкинем фичу порт и из адреса сделаем две новые фичи. Посмотрим, как измерится качество модели."
   ]
  },
  {
   "cell_type": "code",
   "execution_count": 255,
   "id": "7b66fa69",
   "metadata": {},
   "outputs": [],
   "source": [
    "X = df[['addr', 'proto', 'num_timestamps', 'mean_timestamps', \n",
    "    'median_timestamps', 'anomaly', 'country']].drop_duplicates()\n",
    "X = X.fillna(0)\n",
    "\n",
    "X = X[X['addr'] != '10.4.19.138']\n",
    "X = X.merge(pd.DataFrame(list(X['addr'].str.split('.').values), columns = ['addr_1',\n",
    "                                                        'addr_2',\n",
    "                                                        'addr_3', \n",
    "                                                        'addr_4']), left_index=True, right_index=True)\n",
    "\n",
    "y = X['anomaly']\n",
    "X = X.drop(['anomaly', 'addr_3', 'addr_4', 'addr'], axis = 1)\n",
    "\n",
    "from sklearn.model_selection import train_test_split\n",
    "\n",
    "Xtrain, Xtest, ytrain, ytest = train_test_split(X, y, random_state = 42, test_size = 0.3)"
   ]
  },
  {
   "cell_type": "code",
   "execution_count": 256,
   "id": "e1977e41",
   "metadata": {},
   "outputs": [],
   "source": [
    "clf = CatBoostClassifier(random_state=42, verbose=False,\n",
    "                        cat_features = ['addr_1', 'addr_2', 'proto', 'country'])"
   ]
  },
  {
   "cell_type": "code",
   "execution_count": 257,
   "id": "9e442026",
   "metadata": {},
   "outputs": [],
   "source": [
    "model = clf.fit(Xtrain, ytrain)"
   ]
  },
  {
   "cell_type": "code",
   "execution_count": 258,
   "id": "8f12442d",
   "metadata": {},
   "outputs": [
    {
     "data": {
      "text/plain": [
       "77"
      ]
     },
     "execution_count": 258,
     "metadata": {},
     "output_type": "execute_result"
    }
   ],
   "source": [
    "sum(model.predict(Xtest) ==1)\n",
    "# какие-то все же пометил аномалиями\n",
    "# отлично, посчитаем roc_auc_score"
   ]
  },
  {
   "cell_type": "code",
   "execution_count": 259,
   "id": "6c13cda1",
   "metadata": {},
   "outputs": [
    {
     "data": {
      "text/plain": [
       "0.67"
      ]
     },
     "execution_count": 259,
     "metadata": {},
     "output_type": "execute_result"
    }
   ],
   "source": [
    "from sklearn.metrics import f1_score, confusion_matrix, roc_auc_score, roc_curve, ConfusionMatrixDisplay\n",
    "\n",
    "round(roc_auc_score(ytest, model.predict(Xtest)), 2)\n",
    "# для сравнения с другими моделями"
   ]
  },
  {
   "cell_type": "code",
   "execution_count": 260,
   "id": "bd442dc2",
   "metadata": {},
   "outputs": [
    {
     "data": {
      "text/plain": [
       "0.48"
      ]
     },
     "execution_count": 260,
     "metadata": {},
     "output_type": "execute_result"
    }
   ],
   "source": [
    "round(f1_score(ytest, model.predict(Xtest)), 2)\n",
    "# для оценки работы модели"
   ]
  },
  {
   "cell_type": "code",
   "execution_count": 261,
   "id": "b8d1df8e",
   "metadata": {},
   "outputs": [
    {
     "name": "stdout",
     "output_type": "stream",
     "text": [
      "model AUC score: 0.6717933892056123\n"
     ]
    },
    {
     "data": {
      "image/png": "[encoded data removed]",
      "text/plain": [
       "<Figure size 640x480 with 1 Axes>"
      ]
     },
     "metadata": {},
     "output_type": "display_data"
    }
   ],
   "source": [
    "plot_roc_curve(ytest, model.predict(Xtest))\n",
    "print(f'model AUC score: {roc_auc_score(ytest, model.predict(Xtest))}')"
   ]
  },
  {
   "cell_type": "code",
   "execution_count": 262,
   "id": "e644ba12",
   "metadata": {},
   "outputs": [
    {
     "data": {
      "image/png": "[encoded data removed]",
      "text/plain": [
       "<Figure size 640x480 with 2 Axes>"
      ]
     },
     "metadata": {},
     "output_type": "display_data"
    }
   ],
   "source": [
    "confusion_matrix = confusion_matrix(ytest, model.predict(Xtest))\n",
    "\n",
    "cm_display = ConfusionMatrixDisplay(confusion_matrix = confusion_matrix, display_labels = [False, True])\n",
    "\n",
    "cm_display.plot()\n",
    "plt.show()"
   ]
  },
  {
   "cell_type": "code",
   "execution_count": 263,
   "id": "cbd1573a",
   "metadata": {},
   "outputs": [
    {
     "data": {
      "text/plain": [
       "<function matplotlib.pyplot.show(close=None, block=None)>"
      ]
     },
     "execution_count": 263,
     "metadata": {},
     "output_type": "execute_result"
    },
    {
     "data": {
      "image/png": "[encoded data removed]",
      "text/plain": [
       "<Figure size 640x480 with 1 Axes>"
      ]
     },
     "metadata": {},
     "output_type": "display_data"
    }
   ],
   "source": [
    "plt.bar(Xtrain.columns, model.feature_importances_)\n",
    "plt.xlabel('Features')\n",
    "plt.ylabel('Importance')\n",
    "plt.xticks(rotation=60)\n",
    "plt.show"
   ]
  },
  {
   "cell_type": "markdown",
   "id": "7ce388ed",
   "metadata": {},
   "source": [
    "# Итого,\n",
    "\n",
    "по результатам EDA выделила 7 фичей, из них 4 - качественные: addr, port, proto, country. 3 количественные фичи (num_timestamps, mean_timestamps, median_timestamps) сгенерированы из таймстемпов. Корреляция между этими фичами почти отсутствует, поэтому все из них взяла в модель.\n",
    "\n",
    "Обучила катбуст, оценка на тесте - 0.94. Выявили переобученность модели под две фичи и провели еще одну итерацию обучения модели. на новых фичах: убрали порт, часть записей с одним и тем же адресом и от самого адреса оставили первые две цифры. Качество модели драматически упало до 0.67.\n",
    "\n",
    "Цель последующей работы - дотянуть roc_auc_score до 0.9. Что будем делать:\n",
    "\n",
    "1. Генерировать и тестировать новые фичи\n",
    "\n",
    "    1.1. Возможно, сравним результат также с другой моделью\n",
    "    \n",
    "\n",
    "2. Обучим нейронную сеть\n",
    "\n",
    "Recall в данной задаче нам важнее. Важно не пустить пользователя на вредоносный сайт, но при этом нужно понимать, что иногда мы можем не пустить его и на нормальный сайт. В данном случае высока цена ошибки будет высока. Финальный датафрейм выглядит так:"
   ]
  },
  {
   "cell_type": "code",
   "execution_count": 264,
   "id": "2f313f53",
   "metadata": {},
   "outputs": [
    {
     "data": {
      "text/html": [
       "<div>\n",
       "<style scoped>\n",
       "    .dataframe tbody tr th:only-of-type {\n",
       "        vertical-align: middle;\n",
       "    }\n",
       "\n",
       "    .dataframe tbody tr th {\n",
       "        vertical-align: top;\n",
       "    }\n",
       "\n",
       "    .dataframe thead th {\n",
       "        text-align: right;\n",
       "    }\n",
       "</style>\n",
       "<table border=\"1\" class=\"dataframe\">\n",
       "  <thead>\n",
       "    <tr style=\"text-align: right;\">\n",
       "      <th></th>\n",
       "      <th>proto</th>\n",
       "      <th>num_timestamps</th>\n",
       "      <th>mean_timestamps</th>\n",
       "      <th>median_timestamps</th>\n",
       "      <th>country</th>\n",
       "      <th>addr_1</th>\n",
       "      <th>addr_2</th>\n",
       "    </tr>\n",
       "  </thead>\n",
       "  <tbody>\n",
       "    <tr>\n",
       "      <th>16908</th>\n",
       "      <td>tcp</td>\n",
       "      <td>26.0</td>\n",
       "      <td>240752.0</td>\n",
       "      <td>22548.0</td>\n",
       "      <td>0</td>\n",
       "      <td>13</td>\n",
       "      <td>69</td>\n",
       "    </tr>\n",
       "    <tr>\n",
       "      <th>17698</th>\n",
       "      <td>tcp</td>\n",
       "      <td>253.0</td>\n",
       "      <td>477238.0</td>\n",
       "      <td>1460.0</td>\n",
       "      <td>0</td>\n",
       "      <td>52</td>\n",
       "      <td>85</td>\n",
       "    </tr>\n",
       "    <tr>\n",
       "      <th>8725</th>\n",
       "      <td>tcp</td>\n",
       "      <td>23.0</td>\n",
       "      <td>466983.0</td>\n",
       "      <td>6277.0</td>\n",
       "      <td>0</td>\n",
       "      <td>184</td>\n",
       "      <td>51</td>\n",
       "    </tr>\n",
       "    <tr>\n",
       "      <th>11522</th>\n",
       "      <td>tcp</td>\n",
       "      <td>30.0</td>\n",
       "      <td>711712.0</td>\n",
       "      <td>19397.0</td>\n",
       "      <td>0</td>\n",
       "      <td>44</td>\n",
       "      <td>206</td>\n",
       "    </tr>\n",
       "    <tr>\n",
       "      <th>520</th>\n",
       "      <td>tcp</td>\n",
       "      <td>56.0</td>\n",
       "      <td>115528.0</td>\n",
       "      <td>3173.0</td>\n",
       "      <td>0</td>\n",
       "      <td>108</td>\n",
       "      <td>156</td>\n",
       "    </tr>\n",
       "  </tbody>\n",
       "</table>\n",
       "</div>"
      ],
      "text/plain": [
       "      proto  num_timestamps  mean_timestamps  median_timestamps country  \\\n",
       "16908   tcp            26.0         240752.0            22548.0       0   \n",
       "17698   tcp           253.0         477238.0             1460.0       0   \n",
       "8725    tcp            23.0         466983.0             6277.0       0   \n",
       "11522   tcp            30.0         711712.0            19397.0       0   \n",
       "520     tcp            56.0         115528.0             3173.0       0   \n",
       "\n",
       "      addr_1 addr_2  \n",
       "16908     13     69  \n",
       "17698     52     85  \n",
       "8725     184     51  \n",
       "11522     44    206  \n",
       "520      108    156  "
      ]
     },
     "execution_count": 264,
     "metadata": {},
     "output_type": "execute_result"
    }
   ],
   "source": [
    "Xtrain.head()"
   ]
  }
 ],
 "metadata": {
  "kernelspec": {
   "display_name": "Python 3 (ipykernel)",
   "language": "python",
   "name": "python3"
  },
  "language_info": {
   "codemirror_mode": {
    "name": "ipython",
    "version": 3
   },
   "file_extension": ".py",
   "mimetype": "text/x-python",
   "name": "python",
   "nbconvert_exporter": "python",
   "pygments_lexer": "ipython3",
   "version": "3.9.13"
  }
 },
 "nbformat": 4,
 "nbformat_minor": 5
}
