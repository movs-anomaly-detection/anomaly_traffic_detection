{
 "cells": [
  {
   "cell_type": "code",
   "execution_count": 50,
   "id": "aaaa2b6a",
   "metadata": {},
   "outputs": [],
   "source": [
    "import torch\n",
    "import torch.nn as nn\n",
    "import torch.optim as optim\n",
    "import pandas as pd\n",
    "from sklearn.model_selection import train_test_split\n",
    "from sklearn.preprocessing import StandardScaler\n",
    "from sklearn.metrics import fbeta_score\n",
    "from sklearn.preprocessing import LabelEncoder\n",
    "import re\n",
    "from torch.utils.data import DataLoader, Dataset\n",
    "from imblearn.over_sampling import SMOTE\n",
    "import numpy as np\n",
    "from sklearn.metrics import f1_score, confusion_matrix, roc_auc_score, roc_curve, ConfusionMatrixDisplay\n",
    "import matplotlib.pyplot as plt\n"
   ]
  },
  {
   "cell_type": "code",
   "execution_count": 2,
   "id": "17461d26",
   "metadata": {},
   "outputs": [],
   "source": [
    "data_rare = pd.read_csv('data_rare.csv', index_col=[0])"
   ]
  },
  {
   "cell_type": "code",
   "execution_count": 3,
   "id": "9dd9c4fb",
   "metadata": {},
   "outputs": [],
   "source": [
    "data_rare.loc[~data_rare['handshake'].isna(), 'is_handshake'] = 1\n",
    "data_rare.loc[data_rare['is_handshake'].isna(), 'is_handshake'] = 0"
   ]
  },
  {
   "cell_type": "code",
   "execution_count": 4,
   "id": "307289fe",
   "metadata": {},
   "outputs": [],
   "source": [
    "fingerprint = []\n",
    "alert_message = []\n",
    "certificate = []\n",
    "is_selfsigned = []\n",
    "\n",
    "for i in range(0, len(data_rare)):\n",
    "    fingerprint.append(len(re.findall('fingerprint', data_rare['handshake'].fillna('0')[i], flags=0)))\n",
    "    alert_message.append(len(re.findall('alert_message', data_rare['packets'].fillna('0')[i], flags=0)))\n",
    "    certificate.append(len(re.findall('certificate', data_rare['handshake'].fillna('0')[i], flags=0)))\n",
    "    is_selfsigned.append(len(re.findall(\"'is_selfsigned': True\", data_rare['handshake'].fillna('0')[i], flags=0)))\n",
    "\n",
    "data_rare['fingerprint'] = fingerprint\n",
    "data_rare['alert_message'] = alert_message\n",
    "data_rare['certificate'] = certificate\n",
    "data_rare['is_selfsigned'] = is_selfsigned"
   ]
  },
  {
   "cell_type": "code",
   "execution_count": 5,
   "id": "e0a96cd1",
   "metadata": {},
   "outputs": [],
   "source": [
    "data_rare['country'] = pd.read_csv('data.csv')['country']"
   ]
  },
  {
   "cell_type": "code",
   "execution_count": 6,
   "id": "5a327191",
   "metadata": {},
   "outputs": [],
   "source": [
    "data_rare = data_rare.drop('index', axis=1)"
   ]
  },
  {
   "cell_type": "code",
   "execution_count": 7,
   "id": "aca2ce47",
   "metadata": {},
   "outputs": [],
   "source": [
    "X = data_rare.drop(['packets', 'timestamps', 'anomaly', 'handshake'], axis=1)"
   ]
  },
  {
   "cell_type": "code",
   "execution_count": 8,
   "id": "5bf34aeb",
   "metadata": {},
   "outputs": [],
   "source": [
    "X['addr_1'] = pd.DataFrame(list(X['addr'].str.split('.').values), columns = ['addr_1',\n",
    "                                                        'addr_2',\n",
    "                                                        'addr_3', \n",
    "                                                        'addr_4'])['addr_1']\n",
    "\n",
    "X['addr_2'] = pd.DataFrame(list(X['addr'].str.split('.').values), columns = ['addr_1',\n",
    "                                                        'addr_2',\n",
    "                                                        'addr_3', \n",
    "                                                        'addr_4'])['addr_2']"
   ]
  },
  {
   "cell_type": "code",
   "execution_count": 9,
   "id": "6bbac549",
   "metadata": {},
   "outputs": [],
   "source": [
    "X_new = X.drop(['proto', 'addr_1', 'addr_2', 'country', 'addr'], \n",
    "                     axis=1).merge(pd.get_dummies(X[['proto', 'country', 'addr_1', 'addr_2']], drop_first = True),\n",
    "                                                    left_index = True, right_index=True)"
   ]
  },
  {
   "cell_type": "code",
   "execution_count": 10,
   "id": "94ee8db9",
   "metadata": {},
   "outputs": [],
   "source": [
    "from sklearn.model_selection import train_test_split\n",
    "\n",
    "X_train, X_test, y_train, y_test = train_test_split(X_new, data_rare['anomaly'], random_state = 42, test_size = 0.3)"
   ]
  },
  {
   "cell_type": "code",
   "execution_count": 11,
   "id": "99bd1451",
   "metadata": {},
   "outputs": [],
   "source": [
    "# Нормализация данных\n",
    "scaler = StandardScaler()\n",
    "X_train = scaler.fit_transform(X_train)\n",
    "X_test = scaler.transform(X_test)\n",
    "\n",
    "# Преобразование данных в тензоры\n",
    "X_train = torch.tensor(X_train, dtype=torch.float)\n",
    "y_train = torch.tensor(y_train.values, dtype=torch.float)\n",
    "X_test = torch.tensor(X_test, dtype=torch.float)\n",
    "y_test = torch.tensor(y_test.values, dtype=torch.float)"
   ]
  },
  {
   "cell_type": "markdown",
   "id": "09552a29",
   "metadata": {},
   "source": [
    "### 1 подход"
   ]
  },
  {
   "cell_type": "code",
   "execution_count": 12,
   "id": "3d2c7b6d",
   "metadata": {},
   "outputs": [
    {
     "name": "stdout",
     "output_type": "stream",
     "text": [
      "Fbeta_score on test data: 0.0\n"
     ]
    }
   ],
   "source": [
    "# Определение нейронной сети\n",
    "class NeuralNetwork(nn.Module):\n",
    "    def __init__(self, input_size, hidden_size, output_size):\n",
    "        super(NeuralNetwork, self).__init__()\n",
    "        self.fc1 = nn.Linear(input_size, hidden_size)\n",
    "        self.relu = nn.ReLU()\n",
    "        self.fc2 = nn.Linear(hidden_size, output_size)\n",
    "\n",
    "    def forward(self, x):\n",
    "        out = self.fc1(x)\n",
    "        out = self.relu(out)\n",
    "        out = self.fc2(out)\n",
    "        return out\n",
    "\n",
    "# Параметры\n",
    "input_size = X_train.shape[1]\n",
    "hidden_size = 64\n",
    "output_size = 1\n",
    "learning_rate = 0.001\n",
    "num_epochs = 10\n",
    "\n",
    "# Создание модели, оптимизатора и функции потерь\n",
    "model = NeuralNetwork(input_size, hidden_size, output_size)\n",
    "criterion = nn.BCEWithLogitsLoss()\n",
    "optimizer = optim.Adam(model.parameters(), lr=learning_rate)\n",
    "\n",
    "# Обучение модели\n",
    "for epoch in range(num_epochs):\n",
    "    optimizer.zero_grad()\n",
    "    outputs = model(X_train)\n",
    "    loss = criterion(outputs, y_train.unsqueeze(1).type_as(outputs))\n",
    "    loss.backward()\n",
    "    optimizer.step()\n",
    "\n",
    "# Оценка модели с помощью Fbeta_score\n",
    "model.eval()\n",
    "with torch.no_grad():\n",
    "    test_outputs = model(X_test)\n",
    "    preds = (test_outputs > 0).int()\n",
    "    targets = y_test.int()\n",
    "\n",
    "# Оценка с использованием Fbeta_score\n",
    "fbeta = fbeta_score(targets, preds, beta=1.5)\n",
    "\n",
    "print(\"Fbeta_score on test data:\", fbeta)"
   ]
  },
  {
   "cell_type": "markdown",
   "id": "1de842b7",
   "metadata": {},
   "source": [
    "Странно получилось, посмотрим вообще на все предсказания."
   ]
  },
  {
   "cell_type": "code",
   "execution_count": 13,
   "id": "edc082d6",
   "metadata": {},
   "outputs": [
    {
     "data": {
      "text/plain": [
       "tensor([0], dtype=torch.int32)"
      ]
     },
     "execution_count": 13,
     "metadata": {},
     "output_type": "execute_result"
    }
   ],
   "source": [
    "preds.unique()"
   ]
  },
  {
   "cell_type": "markdown",
   "id": "541cf680",
   "metadata": {},
   "source": [
    "Причина в том, что на наших данных нейронка выдает константный прогноз = 0"
   ]
  },
  {
   "cell_type": "markdown",
   "id": "c5a2982f",
   "metadata": {},
   "source": [
    "### 2 подход\n",
    "Возможно, причина в дизбалансе классов. У меня данных с аномалиями всего 5%. \n",
    "Используем параметр pos_weight в функции потерь nn.BCEWithLogitsLoss, чтобы учитывать дисбаланс классов. Установив вес для класса 1 равным 19, мы помогаем модели более эффективно обучаться на дисбалансированных данных."
   ]
  },
  {
   "cell_type": "code",
   "execution_count": 14,
   "id": "8b8ed3f2",
   "metadata": {},
   "outputs": [
    {
     "name": "stdout",
     "output_type": "stream",
     "text": [
      "Fbeta_score on test data: 0.0\n"
     ]
    }
   ],
   "source": [
    "# Определение нейронной сети\n",
    "class NeuralNetwork(nn.Module):\n",
    "    def __init__(self, input_size, hidden_size, output_size):\n",
    "        super(NeuralNetwork, self).__init__()\n",
    "        self.fc1 = nn.Linear(input_size, hidden_size)\n",
    "        self.relu = nn.ReLU()\n",
    "        self.fc2 = nn.Linear(hidden_size, output_size)\n",
    "\n",
    "    def forward(self, x):\n",
    "        out = self.fc1(x)\n",
    "        out = self.relu(out)\n",
    "        out = self.fc2(out)\n",
    "        return out\n",
    "\n",
    "# Параметры\n",
    "input_size = X_train.shape[1]\n",
    "hidden_size = 64\n",
    "output_size = 1\n",
    "learning_rate = 0.001\n",
    "num_epochs = 10\n",
    "\n",
    "# Создание модели, оптимизатора и взвешенной функции потерь\n",
    "model = NeuralNetwork(input_size, hidden_size, output_size)\n",
    "pos_weight = torch.tensor([19.0])  # Устанавливаем вес для класса 1\n",
    "criterion = nn.BCEWithLogitsLoss(pos_weight=pos_weight)\n",
    "optimizer = optim.Adam(model.parameters(), lr=learning_rate)\n",
    "\n",
    "# Обучение модели\n",
    "for epoch in range(num_epochs):\n",
    "    optimizer.zero_grad()\n",
    "    outputs = model(X_train)\n",
    "    loss = criterion(outputs, y_train.unsqueeze(1).type_as(outputs))\n",
    "    loss.backward()\n",
    "    optimizer.step()\n",
    "\n",
    "# Оценка модели с помощью Fbeta_score\n",
    "model.eval()\n",
    "with torch.no_grad():\n",
    "    test_outputs = model(X_test)\n",
    "    preds = (test_outputs > 0).int()\n",
    "    targets = y_test.int()\n",
    "\n",
    "# Оценка с использованием Fbeta_score\n",
    "fbeta = fbeta_score(targets, preds, beta=1.5)\n",
    "\n",
    "print(\"Fbeta_score on test data:\", fbeta)"
   ]
  },
  {
   "cell_type": "code",
   "execution_count": 15,
   "id": "5da33827",
   "metadata": {},
   "outputs": [
    {
     "data": {
      "text/plain": [
       "tensor([0], dtype=torch.int32)"
      ]
     },
     "execution_count": 15,
     "metadata": {},
     "output_type": "execute_result"
    }
   ],
   "source": [
    "preds.unique()"
   ]
  },
  {
   "cell_type": "markdown",
   "id": "a196a4ab",
   "metadata": {},
   "source": [
    "Тоже не сработало."
   ]
  },
  {
   "cell_type": "markdown",
   "id": "573c798b",
   "metadata": {},
   "source": [
    "### Попробуем ребалансировку классов\n",
    "Просто использовали алгоритм SMOTE для ресемплирования данных и балансировки классов перед обучением модели."
   ]
  },
  {
   "cell_type": "code",
   "execution_count": 16,
   "id": "3b128d7e",
   "metadata": {},
   "outputs": [
    {
     "name": "stdout",
     "output_type": "stream",
     "text": [
      "Fbeta_score on test data: 0.5136859436097962\n"
     ]
    }
   ],
   "source": [
    "# Создание экземпляра SMOTE\n",
    "sm = SMOTE(random_state=42)\n",
    "\n",
    "# Ресемплирование тренировочных данных\n",
    "X_train_resampled, y_train_resampled = sm.fit_resample(np.nan_to_num(X_train), np.nan_to_num(y_train))\n",
    "\n",
    "# Преобразование в тензоры PyTorch\n",
    "X_train_resampled = torch.FloatTensor(X_train_resampled)\n",
    "y_train_resampled = torch.FloatTensor(y_train_resampled)\n",
    "\n",
    "# Создание модели, оптимизатора и критерия потерь\n",
    "model = NeuralNetwork(input_size, hidden_size, output_size)\n",
    "criterion = nn.BCEWithLogitsLoss()\n",
    "optimizer = optim.Adam(model.parameters(), lr=learning_rate)\n",
    "\n",
    "# Обучение модели на ресемплированных данных\n",
    "for epoch in range(num_epochs):\n",
    "    optimizer.zero_grad()\n",
    "    outputs = model(X_train_resampled)\n",
    "    loss = criterion(outputs, y_train_resampled.unsqueeze(1))\n",
    "    loss.backward()\n",
    "    optimizer.step()\n",
    "\n",
    "# Оценка модели с помощью Fbeta_score\n",
    "model.eval()\n",
    "with torch.no_grad():\n",
    "    test_outputs = model(X_test)\n",
    "    preds = (test_outputs > 0).int()\n",
    "    targets = y_test.int()\n",
    "\n",
    "# Оценка с использованием Fbeta_score\n",
    "fbeta = fbeta_score(targets, preds, beta=1.5)\n",
    "\n",
    "print(\"Fbeta_score on test data:\", fbeta)"
   ]
  },
  {
   "cell_type": "code",
   "execution_count": 17,
   "id": "a3349318",
   "metadata": {},
   "outputs": [
    {
     "data": {
      "text/plain": [
       "tensor([0, 1], dtype=torch.int32)"
      ]
     },
     "execution_count": 17,
     "metadata": {},
     "output_type": "execute_result"
    }
   ],
   "source": [
    "preds.unique()"
   ]
  },
  {
   "cell_type": "code",
   "execution_count": 93,
   "id": "557a5241",
   "metadata": {},
   "outputs": [
    {
     "data": {
      "text/plain": [
       "tensor(371, dtype=torch.int32)"
      ]
     },
     "execution_count": 93,
     "metadata": {},
     "output_type": "execute_result"
    }
   ],
   "source": [
    "sum(targets)"
   ]
  },
  {
   "cell_type": "code",
   "execution_count": 94,
   "id": "51ec7933",
   "metadata": {},
   "outputs": [
    {
     "data": {
      "text/plain": [
       "tensor(5361, dtype=torch.int32)"
      ]
     },
     "execution_count": 94,
     "metadata": {},
     "output_type": "execute_result"
    }
   ],
   "source": [
    "len(targets) - sum(targets)"
   ]
  },
  {
   "cell_type": "code",
   "execution_count": 91,
   "id": "ad941ac6",
   "metadata": {},
   "outputs": [
    {
     "data": {
      "image/png": "[encoded data removed]",
      "text/plain": [
       "<Figure size 640x480 with 2 Axes>"
      ]
     },
     "metadata": {},
     "output_type": "display_data"
    }
   ],
   "source": [
    "from sklearn.metrics import f1_score, confusion_matrix, roc_auc_score, roc_curve, ConfusionMatrixDisplay\n",
    "\n",
    "confusion_matrix = confusion_matrix(targets.squeeze().tolist(), preds.squeeze().tolist())\n",
    "\n",
    "cm_display = ConfusionMatrixDisplay(confusion_matrix = confusion_matrix, display_labels = [False, True])\n",
    "\n",
    "cm_display.plot()\n",
    "plt.show()"
   ]
  },
  {
   "cell_type": "markdown",
   "id": "92af026c",
   "metadata": {},
   "source": [
    "Кажется, это лучше, но все еще качество недотягивает до нашей финальной ml модели. Аномалии угадывает совсем плохо, чаще не угадывает."
   ]
  },
  {
   "cell_type": "code",
   "execution_count": 171,
   "id": "d111833e",
   "metadata": {},
   "outputs": [],
   "source": [
    "X_train, X_test, y_train, y_test = train_test_split(X_new, data_rare['anomaly'], random_state = 42, test_size = 0.3)\n",
    "\n",
    "# Нормализация данных\n",
    "scaler = StandardScaler()\n",
    "X_train = scaler.fit_transform(X_train)\n",
    "X_test = scaler.transform(X_test)\n",
    "# Создание экземпляра SMOTE\n",
    "sm = SMOTE(random_state=42)"
   ]
  },
  {
   "cell_type": "code",
   "execution_count": 178,
   "id": "c0395d89",
   "metadata": {},
   "outputs": [
    {
     "name": "stderr",
     "output_type": "stream",
     "text": [
      "C:\\Users\\60135487\\AppData\\Local\\Temp\\ipykernel_21984\\1023183091.py:74: UserWarning: To copy construct from a tensor, it is recommended to use sourceTensor.clone().detach() or sourceTensor.clone().detach().requires_grad_(True), rather than torch.tensor(sourceTensor).\n",
      "  losses = [criterion(torch.tensor(rec), torch.tensor(data)) for rec, data in zip(reconstructions, test_dataset)]\n"
     ]
    },
    {
     "name": "stdout",
     "output_type": "stream",
     "text": [
      "Fbeta_score на тесте: 0.0\n"
     ]
    }
   ],
   "source": [
    "# Определение класса для автоэнкодера\n",
    "class Autoencoder(nn.Module):\n",
    "    def __init__(self, input_dim, encoding_dim):\n",
    "        super(Autoencoder, self).__init__()\n",
    "        self.encoder = nn.Sequential(\n",
    "            nn.Linear(input_dim, 256),\n",
    "            nn.ReLU(True),\n",
    "            nn.Linear(256, 64),\n",
    "            nn.ReLU(True),\n",
    "            nn.Linear(64, encoding_dim)\n",
    "        )\n",
    "        self.decoder = nn.Sequential(\n",
    "            nn.Linear(encoding_dim, 256),\n",
    "            nn.ReLU(True),\n",
    "            nn.Linear(256, 64),\n",
    "            nn.ReLU(True),\n",
    "            nn.Linear(64, input_dim),\n",
    "            nn.Sigmoid()\n",
    "        )\n",
    "\n",
    "    def forward(self, x):\n",
    "        x = self.encoder(x)\n",
    "        x = self.decoder(x)\n",
    "        return x\n",
    "\n",
    "# Преобразование данных в формат PyTorch Dataset\n",
    "class CustomDataset(Dataset):\n",
    "    def __init__(self, data):\n",
    "        self.data = torch.tensor(data, dtype=torch.float32)\n",
    "\n",
    "    def __len__(self):\n",
    "        return len(self.data)\n",
    "\n",
    "    def __getitem__(self, idx):\n",
    "        return self.data[idx]\n",
    "\n",
    "# Загрузка данных и определение параметров\n",
    "input_dim = X_train.shape[1]\n",
    "encoding_dim = 128  # Увеличили размер скрытого слоя\n",
    "epochs = 50\n",
    "batch_size = 64\n",
    "\n",
    "# Создание и обучение автоэнкодера\n",
    "model = Autoencoder(input_dim, encoding_dim)\n",
    "criterion = nn.L1Loss()  # Использовали функцию потерь L1Loss\n",
    "optimizer = optim.Adam(model.parameters(), lr=0.001)\n",
    "\n",
    "train_dataset = CustomDataset(X_train)\n",
    "train_loader = DataLoader(train_dataset, batch_size=batch_size, shuffle=True)\n",
    "\n",
    "for epoch in range(epochs):\n",
    "    for data in train_loader:\n",
    "        optimizer.zero_grad()\n",
    "        recon = model(data)\n",
    "        loss = criterion(recon, data)\n",
    "        loss.backward()\n",
    "        optimizer.step()\n",
    "\n",
    "# Ресемплинг данных\n",
    "smote = SMOTE(sampling_strategy=0.05)\n",
    "X_train_resampled, y_train_resampled = sm.fit_resample(np.nan_to_num(X_train), np.nan_to_num(y_train))\n",
    "\n",
    "test_dataset = CustomDataset(X_test)\n",
    "test_loader = DataLoader(test_dataset, batch_size=batch_size)\n",
    "\n",
    "reconstructions = []\n",
    "model.eval()\n",
    "with torch.no_grad():\n",
    "    for data in test_loader:\n",
    "        recon = model(data)\n",
    "        reconstructions.extend(recon.tolist())\n",
    "\n",
    "# Расчет потерь между входными данными и реконструированными данными\n",
    "losses = [criterion(torch.tensor(rec), torch.tensor(data)) for rec, data in zip(reconstructions, test_dataset)]\n",
    "\n",
    "# Порог для определения аномалий\n",
    "threshold = np.percentile(losses, 0.5)\n",
    "\n",
    "# Преобразование потерь в метки\n",
    "y_pred = [1 if loss > threshold else 0 for loss in losses]\n",
    "\n",
    "# Подсчет Fbeta_score\n",
    "fbeta = fbeta_score(y_test, y_pred, beta=1.5)\n",
    "\n",
    "print(f\"Fbeta_score на тесте: {fbeta}\")"
   ]
  },
  {
   "cell_type": "markdown",
   "id": "b0469d12",
   "metadata": {},
   "source": [
    "Здесь результат еще хуже. Посмотрим, где ошибки"
   ]
  },
  {
   "cell_type": "code",
   "execution_count": 179,
   "id": "d1c81ee3",
   "metadata": {},
   "outputs": [
    {
     "data": {
      "image/png": "[encoded data removed]",
      "text/plain": [
       "<Figure size 640x480 with 2 Axes>"
      ]
     },
     "metadata": {},
     "output_type": "display_data"
    }
   ],
   "source": [
    "from sklearn.metrics import f1_score, confusion_matrix, roc_auc_score, roc_curve, ConfusionMatrixDisplay\n",
    "\n",
    "confusion_matrix = confusion_matrix(y_test, y_pred)\n",
    "\n",
    "cm_display = ConfusionMatrixDisplay(confusion_matrix = confusion_matrix, display_labels = [False, True])\n",
    "\n",
    "cm_display.plot()\n",
    "plt.show()"
   ]
  }
 ],
 "metadata": {
  "kernelspec": {
   "display_name": "Python 3 (ipykernel)",
   "language": "python",
   "name": "python3"
  },
  "language_info": {
   "codemirror_mode": {
    "name": "ipython",
    "version": 3
   },
   "file_extension": ".py",
   "mimetype": "text/x-python",
   "name": "python",
   "nbconvert_exporter": "python",
   "pygments_lexer": "ipython3",
   "version": "3.9.13"
  }
 },
 "nbformat": 4,
 "nbformat_minor": 5
}
